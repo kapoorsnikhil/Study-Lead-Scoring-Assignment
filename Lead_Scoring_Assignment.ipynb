{
 "cells": [
  {
   "cell_type": "markdown",
   "id": "80f8804a",
   "metadata": {},
   "source": [
    "# Lead Scoring Assignment"
   ]
  },
  {
   "cell_type": "markdown",
   "id": "9fec3eeb",
   "metadata": {},
   "source": [
    "# Problem Statement\n",
    "\n",
    "An X Education (online Education company) needs help to select the most promising leads, i.e. the leads that are most likely to convert into paying customers. The company requires us to build a model wherein we need to assign a lead score to each of the leads such that the customers with higher lead score have a higher conversion chances & lower lead score have lower conversion chances. The CEO, in particular, has given a ballpark of the target lead conversion rate to be around 80%. "
   ]
  },
  {
   "cell_type": "markdown",
   "id": "d4716e85",
   "metadata": {},
   "source": [
    "### Listing the steps to perform the analysis:\n",
    "    1. Importing Data\n",
    "    2. Understanding Data\n",
    "    3. Missing Value treatment\n",
    "    4. Data Correction\n",
    "    5. Univariate Analysis\n",
    "    6. Multivariate Analysis\n",
    "    7. Outliers Treatment\n",
    "    8. Creating Dummy Vairables\n",
    "    9. Train - Test Split\n",
    "    10. Feature Scaling\n",
    "    11. Model Building\n",
    "    12. Feature Selection - RFE\n",
    "    13. ROC curve\n",
    "    14. Finding the cut-off\n",
    "    15. Precision & Recall\n",
    "    16. Prediction on Test set\n",
    "    17. Assigning Lead Score to Dataset"
   ]
  },
  {
   "cell_type": "code",
   "execution_count": 1,
   "id": "93b6597e",
   "metadata": {},
   "outputs": [],
   "source": [
    "#importing libraries & suppressing warnings\n",
    "import warnings\n",
    "warnings.filterwarnings('ignore')\n",
    "\n",
    "import numpy as np\n",
    "import pandas as pd\n",
    "import matplotlib.pyplot as plt\n",
    "import matplotlib.style as style\n",
    "import seaborn as sns\n",
    "%matplotlib inline\n",
    "\n",
    "# Styling the plot\n",
    "style.use('ggplot')\n",
    "sns.set_style('whitegrid')\n",
    "\n",
    "import statsmodels.api as sm\n",
    "from statsmodels.stats.outliers_influence import variance_inflation_factor\n",
    "\n",
    "import sklearn\n",
    "from sklearn.model_selection import train_test_split\n",
    "from sklearn.preprocessing import StandardScaler\n",
    "from sklearn.linear_model import LogisticRegression\n",
    "from sklearn.feature_selection import RFE\n",
    "from sklearn.metrics import confusion_matrix\n",
    "from sklearn.metrics import precision_recall_curve\n",
    "from sklearn import metrics\n",
    "from sklearn.metrics import precision_score, recall_score"
   ]
  },
  {
   "cell_type": "markdown",
   "id": "73fd2dcd",
   "metadata": {},
   "source": [
    "# 1. Importing Dataset"
   ]
  },
  {
   "cell_type": "code",
   "execution_count": 2,
   "id": "b1048498",
   "metadata": {},
   "outputs": [
    {
     "data": {
      "text/html": [
       "<div>\n",
       "<style scoped>\n",
       "    .dataframe tbody tr th:only-of-type {\n",
       "        vertical-align: middle;\n",
       "    }\n",
       "\n",
       "    .dataframe tbody tr th {\n",
       "        vertical-align: top;\n",
       "    }\n",
       "\n",
       "    .dataframe thead th {\n",
       "        text-align: right;\n",
       "    }\n",
       "</style>\n",
       "<table border=\"1\" class=\"dataframe\">\n",
       "  <thead>\n",
       "    <tr style=\"text-align: right;\">\n",
       "      <th></th>\n",
       "      <th>Prospect ID</th>\n",
       "      <th>Lead Number</th>\n",
       "      <th>Lead Origin</th>\n",
       "      <th>Lead Source</th>\n",
       "      <th>Do Not Email</th>\n",
       "      <th>Do Not Call</th>\n",
       "      <th>Converted</th>\n",
       "      <th>TotalVisits</th>\n",
       "      <th>Total Time Spent on Website</th>\n",
       "      <th>Page Views Per Visit</th>\n",
       "      <th>...</th>\n",
       "      <th>Get updates on DM Content</th>\n",
       "      <th>Lead Profile</th>\n",
       "      <th>City</th>\n",
       "      <th>Asymmetrique Activity Index</th>\n",
       "      <th>Asymmetrique Profile Index</th>\n",
       "      <th>Asymmetrique Activity Score</th>\n",
       "      <th>Asymmetrique Profile Score</th>\n",
       "      <th>I agree to pay the amount through cheque</th>\n",
       "      <th>A free copy of Mastering The Interview</th>\n",
       "      <th>Last Notable Activity</th>\n",
       "    </tr>\n",
       "  </thead>\n",
       "  <tbody>\n",
       "    <tr>\n",
       "      <th>0</th>\n",
       "      <td>7927b2df-8bba-4d29-b9a2-b6e0beafe620</td>\n",
       "      <td>660737</td>\n",
       "      <td>API</td>\n",
       "      <td>Olark Chat</td>\n",
       "      <td>No</td>\n",
       "      <td>No</td>\n",
       "      <td>0</td>\n",
       "      <td>0.0</td>\n",
       "      <td>0</td>\n",
       "      <td>0.0</td>\n",
       "      <td>...</td>\n",
       "      <td>No</td>\n",
       "      <td>Select</td>\n",
       "      <td>Select</td>\n",
       "      <td>02.Medium</td>\n",
       "      <td>02.Medium</td>\n",
       "      <td>15.0</td>\n",
       "      <td>15.0</td>\n",
       "      <td>No</td>\n",
       "      <td>No</td>\n",
       "      <td>Modified</td>\n",
       "    </tr>\n",
       "    <tr>\n",
       "      <th>1</th>\n",
       "      <td>2a272436-5132-4136-86fa-dcc88c88f482</td>\n",
       "      <td>660728</td>\n",
       "      <td>API</td>\n",
       "      <td>Organic Search</td>\n",
       "      <td>No</td>\n",
       "      <td>No</td>\n",
       "      <td>0</td>\n",
       "      <td>5.0</td>\n",
       "      <td>674</td>\n",
       "      <td>2.5</td>\n",
       "      <td>...</td>\n",
       "      <td>No</td>\n",
       "      <td>Select</td>\n",
       "      <td>Select</td>\n",
       "      <td>02.Medium</td>\n",
       "      <td>02.Medium</td>\n",
       "      <td>15.0</td>\n",
       "      <td>15.0</td>\n",
       "      <td>No</td>\n",
       "      <td>No</td>\n",
       "      <td>Email Opened</td>\n",
       "    </tr>\n",
       "    <tr>\n",
       "      <th>2</th>\n",
       "      <td>8cc8c611-a219-4f35-ad23-fdfd2656bd8a</td>\n",
       "      <td>660727</td>\n",
       "      <td>Landing Page Submission</td>\n",
       "      <td>Direct Traffic</td>\n",
       "      <td>No</td>\n",
       "      <td>No</td>\n",
       "      <td>1</td>\n",
       "      <td>2.0</td>\n",
       "      <td>1532</td>\n",
       "      <td>2.0</td>\n",
       "      <td>...</td>\n",
       "      <td>No</td>\n",
       "      <td>Potential Lead</td>\n",
       "      <td>Mumbai</td>\n",
       "      <td>02.Medium</td>\n",
       "      <td>01.High</td>\n",
       "      <td>14.0</td>\n",
       "      <td>20.0</td>\n",
       "      <td>No</td>\n",
       "      <td>Yes</td>\n",
       "      <td>Email Opened</td>\n",
       "    </tr>\n",
       "    <tr>\n",
       "      <th>3</th>\n",
       "      <td>0cc2df48-7cf4-4e39-9de9-19797f9b38cc</td>\n",
       "      <td>660719</td>\n",
       "      <td>Landing Page Submission</td>\n",
       "      <td>Direct Traffic</td>\n",
       "      <td>No</td>\n",
       "      <td>No</td>\n",
       "      <td>0</td>\n",
       "      <td>1.0</td>\n",
       "      <td>305</td>\n",
       "      <td>1.0</td>\n",
       "      <td>...</td>\n",
       "      <td>No</td>\n",
       "      <td>Select</td>\n",
       "      <td>Mumbai</td>\n",
       "      <td>02.Medium</td>\n",
       "      <td>01.High</td>\n",
       "      <td>13.0</td>\n",
       "      <td>17.0</td>\n",
       "      <td>No</td>\n",
       "      <td>No</td>\n",
       "      <td>Modified</td>\n",
       "    </tr>\n",
       "    <tr>\n",
       "      <th>4</th>\n",
       "      <td>3256f628-e534-4826-9d63-4a8b88782852</td>\n",
       "      <td>660681</td>\n",
       "      <td>Landing Page Submission</td>\n",
       "      <td>Google</td>\n",
       "      <td>No</td>\n",
       "      <td>No</td>\n",
       "      <td>1</td>\n",
       "      <td>2.0</td>\n",
       "      <td>1428</td>\n",
       "      <td>1.0</td>\n",
       "      <td>...</td>\n",
       "      <td>No</td>\n",
       "      <td>Select</td>\n",
       "      <td>Mumbai</td>\n",
       "      <td>02.Medium</td>\n",
       "      <td>01.High</td>\n",
       "      <td>15.0</td>\n",
       "      <td>18.0</td>\n",
       "      <td>No</td>\n",
       "      <td>No</td>\n",
       "      <td>Modified</td>\n",
       "    </tr>\n",
       "  </tbody>\n",
       "</table>\n",
       "<p>5 rows × 37 columns</p>\n",
       "</div>"
      ],
      "text/plain": [
       "                            Prospect ID  Lead Number              Lead Origin  \\\n",
       "0  7927b2df-8bba-4d29-b9a2-b6e0beafe620       660737                      API   \n",
       "1  2a272436-5132-4136-86fa-dcc88c88f482       660728                      API   \n",
       "2  8cc8c611-a219-4f35-ad23-fdfd2656bd8a       660727  Landing Page Submission   \n",
       "3  0cc2df48-7cf4-4e39-9de9-19797f9b38cc       660719  Landing Page Submission   \n",
       "4  3256f628-e534-4826-9d63-4a8b88782852       660681  Landing Page Submission   \n",
       "\n",
       "      Lead Source Do Not Email Do Not Call  Converted  TotalVisits  \\\n",
       "0      Olark Chat           No          No          0          0.0   \n",
       "1  Organic Search           No          No          0          5.0   \n",
       "2  Direct Traffic           No          No          1          2.0   \n",
       "3  Direct Traffic           No          No          0          1.0   \n",
       "4          Google           No          No          1          2.0   \n",
       "\n",
       "   Total Time Spent on Website  Page Views Per Visit  ...  \\\n",
       "0                            0                   0.0  ...   \n",
       "1                          674                   2.5  ...   \n",
       "2                         1532                   2.0  ...   \n",
       "3                          305                   1.0  ...   \n",
       "4                         1428                   1.0  ...   \n",
       "\n",
       "  Get updates on DM Content    Lead Profile    City  \\\n",
       "0                        No          Select  Select   \n",
       "1                        No          Select  Select   \n",
       "2                        No  Potential Lead  Mumbai   \n",
       "3                        No          Select  Mumbai   \n",
       "4                        No          Select  Mumbai   \n",
       "\n",
       "  Asymmetrique Activity Index Asymmetrique Profile Index  \\\n",
       "0                   02.Medium                  02.Medium   \n",
       "1                   02.Medium                  02.Medium   \n",
       "2                   02.Medium                    01.High   \n",
       "3                   02.Medium                    01.High   \n",
       "4                   02.Medium                    01.High   \n",
       "\n",
       "  Asymmetrique Activity Score Asymmetrique Profile Score  \\\n",
       "0                        15.0                       15.0   \n",
       "1                        15.0                       15.0   \n",
       "2                        14.0                       20.0   \n",
       "3                        13.0                       17.0   \n",
       "4                        15.0                       18.0   \n",
       "\n",
       "  I agree to pay the amount through cheque  \\\n",
       "0                                       No   \n",
       "1                                       No   \n",
       "2                                       No   \n",
       "3                                       No   \n",
       "4                                       No   \n",
       "\n",
       "  A free copy of Mastering The Interview Last Notable Activity  \n",
       "0                                     No              Modified  \n",
       "1                                     No          Email Opened  \n",
       "2                                    Yes          Email Opened  \n",
       "3                                     No              Modified  \n",
       "4                                     No              Modified  \n",
       "\n",
       "[5 rows x 37 columns]"
      ]
     },
     "execution_count": 2,
     "metadata": {},
     "output_type": "execute_result"
    }
   ],
   "source": [
    "#Importing Data\n",
    "leads = pd.read_csv('Leads.csv')\n",
    "leads.head()"
   ]
  },
  {
   "cell_type": "markdown",
   "id": "b0548bca",
   "metadata": {},
   "source": [
    "# 2. Understanding Data"
   ]
  },
  {
   "cell_type": "code",
   "execution_count": 3,
   "id": "f736d413",
   "metadata": {},
   "outputs": [
    {
     "data": {
      "text/plain": [
       "(9240, 37)"
      ]
     },
     "execution_count": 3,
     "metadata": {},
     "output_type": "execute_result"
    }
   ],
   "source": [
    "# shape\n",
    "leads.shape"
   ]
  },
  {
   "cell_type": "code",
   "execution_count": 4,
   "id": "34392fd1",
   "metadata": {},
   "outputs": [
    {
     "name": "stdout",
     "output_type": "stream",
     "text": [
      "<class 'pandas.core.frame.DataFrame'>\n",
      "RangeIndex: 9240 entries, 0 to 9239\n",
      "Data columns (total 37 columns):\n",
      " #   Column                                         Non-Null Count  Dtype  \n",
      "---  ------                                         --------------  -----  \n",
      " 0   Prospect ID                                    9240 non-null   object \n",
      " 1   Lead Number                                    9240 non-null   int64  \n",
      " 2   Lead Origin                                    9240 non-null   object \n",
      " 3   Lead Source                                    9204 non-null   object \n",
      " 4   Do Not Email                                   9240 non-null   object \n",
      " 5   Do Not Call                                    9240 non-null   object \n",
      " 6   Converted                                      9240 non-null   int64  \n",
      " 7   TotalVisits                                    9103 non-null   float64\n",
      " 8   Total Time Spent on Website                    9240 non-null   int64  \n",
      " 9   Page Views Per Visit                           9103 non-null   float64\n",
      " 10  Last Activity                                  9137 non-null   object \n",
      " 11  Country                                        6779 non-null   object \n",
      " 12  Specialization                                 7802 non-null   object \n",
      " 13  How did you hear about X Education             7033 non-null   object \n",
      " 14  What is your current occupation                6550 non-null   object \n",
      " 15  What matters most to you in choosing a course  6531 non-null   object \n",
      " 16  Search                                         9240 non-null   object \n",
      " 17  Magazine                                       9240 non-null   object \n",
      " 18  Newspaper Article                              9240 non-null   object \n",
      " 19  X Education Forums                             9240 non-null   object \n",
      " 20  Newspaper                                      9240 non-null   object \n",
      " 21  Digital Advertisement                          9240 non-null   object \n",
      " 22  Through Recommendations                        9240 non-null   object \n",
      " 23  Receive More Updates About Our Courses         9240 non-null   object \n",
      " 24  Tags                                           5887 non-null   object \n",
      " 25  Lead Quality                                   4473 non-null   object \n",
      " 26  Update me on Supply Chain Content              9240 non-null   object \n",
      " 27  Get updates on DM Content                      9240 non-null   object \n",
      " 28  Lead Profile                                   6531 non-null   object \n",
      " 29  City                                           7820 non-null   object \n",
      " 30  Asymmetrique Activity Index                    5022 non-null   object \n",
      " 31  Asymmetrique Profile Index                     5022 non-null   object \n",
      " 32  Asymmetrique Activity Score                    5022 non-null   float64\n",
      " 33  Asymmetrique Profile Score                     5022 non-null   float64\n",
      " 34  I agree to pay the amount through cheque       9240 non-null   object \n",
      " 35  A free copy of Mastering The Interview         9240 non-null   object \n",
      " 36  Last Notable Activity                          9240 non-null   object \n",
      "dtypes: float64(4), int64(3), object(30)\n",
      "memory usage: 2.6+ MB\n"
     ]
    }
   ],
   "source": [
    "#info\n",
    "leads.info()"
   ]
  },
  {
   "cell_type": "code",
   "execution_count": 5,
   "id": "afc86075",
   "metadata": {},
   "outputs": [
    {
     "data": {
      "text/plain": [
       "True"
      ]
     },
     "execution_count": 5,
     "metadata": {},
     "output_type": "execute_result"
    }
   ],
   "source": [
    "#Checking duplicates for Prospect ID\n",
    "sum(leads.duplicated(subset = 'Prospect ID')) == 0"
   ]
  },
  {
   "cell_type": "code",
   "execution_count": 6,
   "id": "909a21e4",
   "metadata": {},
   "outputs": [
    {
     "data": {
      "text/plain": [
       "True"
      ]
     },
     "execution_count": 6,
     "metadata": {},
     "output_type": "execute_result"
    }
   ],
   "source": [
    "#Checking duplicates for Lead Number\n",
    "sum(leads.duplicated(subset = 'Lead Number')) == 0"
   ]
  },
  {
   "cell_type": "markdown",
   "id": "725b0c4e",
   "metadata": {},
   "source": [
    "##### No duplicates found. Hence can be removed."
   ]
  },
  {
   "cell_type": "code",
   "execution_count": 7,
   "id": "078e16c6",
   "metadata": {},
   "outputs": [],
   "source": [
    "# Using this for Lead Score at the end of the notebook\n",
    "Lead_Number = leads['Lead Number']"
   ]
  },
  {
   "cell_type": "code",
   "execution_count": 8,
   "id": "c5815e14",
   "metadata": {},
   "outputs": [],
   "source": [
    "# Droppping these columns as we don't fit these in the model\n",
    "cols_to_drop = ['Prospect ID', 'Lead Number']"
   ]
  },
  {
   "cell_type": "markdown",
   "id": "9bc62b05",
   "metadata": {},
   "source": [
    "# 3. Missing Value treatment"
   ]
  },
  {
   "cell_type": "code",
   "execution_count": 9,
   "id": "e7bb0541",
   "metadata": {},
   "outputs": [],
   "source": [
    "# There is select instead of Nan for replacing\n",
    "leads = leads.replace('Select', np.nan)"
   ]
  },
  {
   "cell_type": "code",
   "execution_count": 10,
   "id": "60b7c8c7",
   "metadata": {},
   "outputs": [
    {
     "data": {
      "text/plain": [
       "Prospect ID                                       0.00\n",
       "Lead Number                                       0.00\n",
       "Lead Origin                                       0.00\n",
       "Lead Source                                       0.39\n",
       "Do Not Email                                      0.00\n",
       "Do Not Call                                       0.00\n",
       "Converted                                         0.00\n",
       "TotalVisits                                       1.48\n",
       "Total Time Spent on Website                       0.00\n",
       "Page Views Per Visit                              1.48\n",
       "Last Activity                                     1.11\n",
       "Country                                          26.63\n",
       "Specialization                                   36.58\n",
       "How did you hear about X Education               78.46\n",
       "What is your current occupation                  29.11\n",
       "What matters most to you in choosing a course    29.32\n",
       "Search                                            0.00\n",
       "Magazine                                          0.00\n",
       "Newspaper Article                                 0.00\n",
       "X Education Forums                                0.00\n",
       "Newspaper                                         0.00\n",
       "Digital Advertisement                             0.00\n",
       "Through Recommendations                           0.00\n",
       "Receive More Updates About Our Courses            0.00\n",
       "Tags                                             36.29\n",
       "Lead Quality                                     51.59\n",
       "Update me on Supply Chain Content                 0.00\n",
       "Get updates on DM Content                         0.00\n",
       "Lead Profile                                     74.19\n",
       "City                                             39.71\n",
       "Asymmetrique Activity Index                      45.65\n",
       "Asymmetrique Profile Index                       45.65\n",
       "Asymmetrique Activity Score                      45.65\n",
       "Asymmetrique Profile Score                       45.65\n",
       "I agree to pay the amount through cheque          0.00\n",
       "A free copy of Mastering The Interview            0.00\n",
       "Last Notable Activity                             0.00\n",
       "dtype: float64"
      ]
     },
     "execution_count": 10,
     "metadata": {},
     "output_type": "execute_result"
    }
   ],
   "source": [
    "# Missing Values %age\n",
    "round((leads.isnull().sum()/len(leads)*100), 2)"
   ]
  },
  {
   "cell_type": "code",
   "execution_count": 11,
   "id": "feff637d",
   "metadata": {},
   "outputs": [],
   "source": [
    "# Removing the missing values with more than 40%\n",
    "for i in leads.columns:\n",
    "    if((100*leads[i].isnull().sum()/len(leads.index)) >= 40):\n",
    "        leads.drop(i, axis = 1, inplace = True)"
   ]
  },
  {
   "cell_type": "code",
   "execution_count": 12,
   "id": "08e0b7c6",
   "metadata": {},
   "outputs": [
    {
     "data": {
      "text/plain": [
       "Prospect ID                                       0.00\n",
       "Lead Number                                       0.00\n",
       "Lead Origin                                       0.00\n",
       "Lead Source                                       0.39\n",
       "Do Not Email                                      0.00\n",
       "Do Not Call                                       0.00\n",
       "Converted                                         0.00\n",
       "TotalVisits                                       1.48\n",
       "Total Time Spent on Website                       0.00\n",
       "Page Views Per Visit                              1.48\n",
       "Last Activity                                     1.11\n",
       "Country                                          26.63\n",
       "Specialization                                   36.58\n",
       "What is your current occupation                  29.11\n",
       "What matters most to you in choosing a course    29.32\n",
       "Search                                            0.00\n",
       "Magazine                                          0.00\n",
       "Newspaper Article                                 0.00\n",
       "X Education Forums                                0.00\n",
       "Newspaper                                         0.00\n",
       "Digital Advertisement                             0.00\n",
       "Through Recommendations                           0.00\n",
       "Receive More Updates About Our Courses            0.00\n",
       "Tags                                             36.29\n",
       "Update me on Supply Chain Content                 0.00\n",
       "Get updates on DM Content                         0.00\n",
       "City                                             39.71\n",
       "I agree to pay the amount through cheque          0.00\n",
       "A free copy of Mastering The Interview            0.00\n",
       "Last Notable Activity                             0.00\n",
       "dtype: float64"
      ]
     },
     "execution_count": 12,
     "metadata": {},
     "output_type": "execute_result"
    }
   ],
   "source": [
    "# Missing Value Percentages for remaining variables\n",
    "round((leads.isnull().sum()/len(leads)*100), 2)"
   ]
  },
  {
   "cell_type": "code",
   "execution_count": 13,
   "id": "c934e2c3",
   "metadata": {},
   "outputs": [
    {
     "data": {
      "text/plain": [
       "Prospect ID                                      9240\n",
       "Lead Number                                      9240\n",
       "Lead Origin                                         5\n",
       "Lead Source                                        21\n",
       "Do Not Email                                        2\n",
       "Do Not Call                                         2\n",
       "Converted                                           2\n",
       "TotalVisits                                        41\n",
       "Total Time Spent on Website                      1731\n",
       "Page Views Per Visit                              114\n",
       "Last Activity                                      17\n",
       "Country                                            38\n",
       "Specialization                                     18\n",
       "What is your current occupation                     6\n",
       "What matters most to you in choosing a course       3\n",
       "Search                                              2\n",
       "Magazine                                            1\n",
       "Newspaper Article                                   2\n",
       "X Education Forums                                  2\n",
       "Newspaper                                           2\n",
       "Digital Advertisement                               2\n",
       "Through Recommendations                             2\n",
       "Receive More Updates About Our Courses              1\n",
       "Tags                                               26\n",
       "Update me on Supply Chain Content                   1\n",
       "Get updates on DM Content                           1\n",
       "City                                                6\n",
       "I agree to pay the amount through cheque            1\n",
       "A free copy of Mastering The Interview              2\n",
       "Last Notable Activity                              16\n",
       "dtype: int64"
      ]
     },
     "execution_count": 13,
     "metadata": {},
     "output_type": "execute_result"
    }
   ],
   "source": [
    "# Checking if there are columns with one unique value since it won't affect our analysis\n",
    "leads.nunique()"
   ]
  },
  {
   "cell_type": "code",
   "execution_count": 14,
   "id": "f0de5d53",
   "metadata": {},
   "outputs": [],
   "source": [
    "#Dropping uniques\n",
    "cols_to_drop.extend(('Magazine','Receive More Updates About Our Courses','I agree to pay the amount through cheque','Get updates on DM Content','Update me on Supply Chain Content'))\n"
   ]
  },
  {
   "cell_type": "markdown",
   "id": "aa0eefef",
   "metadata": {},
   "source": [
    "# 4. Data Correction"
   ]
  },
  {
   "cell_type": "markdown",
   "id": "0a952bf0",
   "metadata": {},
   "source": [
    "### Analyzing Variables"
   ]
  },
  {
   "cell_type": "code",
   "execution_count": 15,
   "id": "72329aff",
   "metadata": {},
   "outputs": [
    {
     "data": {
      "text/plain": [
       "NaN                            39.71\n",
       "Mumbai                         34.87\n",
       "Thane & Outskirts               8.14\n",
       "Other Cities                    7.42\n",
       "Other Cities of Maharashtra     4.95\n",
       "Other Metro Cities              4.11\n",
       "Tier II Cities                  0.80\n",
       "Name: City, dtype: float64"
      ]
     },
     "execution_count": 15,
     "metadata": {},
     "output_type": "execute_result"
    }
   ],
   "source": [
    "# Checking City\n",
    "round(leads['City'].value_counts(dropna = False)*100/len(leads),2)\n"
   ]
  },
  {
   "cell_type": "code",
   "execution_count": 16,
   "id": "4d27f053",
   "metadata": {},
   "outputs": [],
   "source": [
    "#Dropping City as 75% records are Mumbai or Nan\n",
    "cols_to_drop.append('City')\n"
   ]
  },
  {
   "cell_type": "code",
   "execution_count": 17,
   "id": "2ed30e5f",
   "metadata": {},
   "outputs": [
    {
     "data": {
      "text/plain": [
       "['Prospect ID',\n",
       " 'Lead Number',\n",
       " 'Magazine',\n",
       " 'Receive More Updates About Our Courses',\n",
       " 'I agree to pay the amount through cheque',\n",
       " 'Get updates on DM Content',\n",
       " 'Update me on Supply Chain Content',\n",
       " 'City']"
      ]
     },
     "execution_count": 17,
     "metadata": {},
     "output_type": "execute_result"
    }
   ],
   "source": [
    "cols_to_drop"
   ]
  },
  {
   "cell_type": "code",
   "execution_count": 18,
   "id": "5d11a624",
   "metadata": {},
   "outputs": [
    {
     "data": {
      "text/plain": [
       "India                   70.26\n",
       "NaN                     26.63\n",
       "United States            0.75\n",
       "United Arab Emirates     0.57\n",
       "Singapore                0.26\n",
       "Saudi Arabia             0.23\n",
       "United Kingdom           0.16\n",
       "Australia                0.14\n",
       "Qatar                    0.11\n",
       "Bahrain                  0.08\n",
       "Hong Kong                0.08\n",
       "Oman                     0.06\n",
       "France                   0.06\n",
       "unknown                  0.05\n",
       "Kuwait                   0.04\n",
       "South Africa             0.04\n",
       "Canada                   0.04\n",
       "Nigeria                  0.04\n",
       "Germany                  0.04\n",
       "Sweden                   0.03\n",
       "Philippines              0.02\n",
       "Uganda                   0.02\n",
       "Italy                    0.02\n",
       "Bangladesh               0.02\n",
       "Netherlands              0.02\n",
       "Asia/Pacific Region      0.02\n",
       "China                    0.02\n",
       "Belgium                  0.02\n",
       "Ghana                    0.02\n",
       "Kenya                    0.01\n",
       "Sri Lanka                0.01\n",
       "Tanzania                 0.01\n",
       "Malaysia                 0.01\n",
       "Liberia                  0.01\n",
       "Switzerland              0.01\n",
       "Denmark                  0.01\n",
       "Russia                   0.01\n",
       "Vietnam                  0.01\n",
       "Indonesia                0.01\n",
       "Name: Country, dtype: float64"
      ]
     },
     "execution_count": 18,
     "metadata": {},
     "output_type": "execute_result"
    }
   ],
   "source": [
    "# Checking Country\n",
    "round(leads['Country'].value_counts(dropna = False)*100/len(leads),2)\n"
   ]
  },
  {
   "cell_type": "code",
   "execution_count": 19,
   "id": "55038ba1",
   "metadata": {},
   "outputs": [],
   "source": [
    "#Dropping Country as 97% records are India or Nan\n",
    "cols_to_drop.append('Country')"
   ]
  },
  {
   "cell_type": "code",
   "execution_count": 20,
   "id": "a7cc805a",
   "metadata": {},
   "outputs": [
    {
     "data": {
      "text/plain": [
       "NaN                                  36.58\n",
       "Finance Management                   10.56\n",
       "Human Resource Management             9.18\n",
       "Marketing Management                  9.07\n",
       "Operations Management                 5.44\n",
       "Business Administration               4.36\n",
       "IT Projects Management                3.96\n",
       "Supply Chain Management               3.78\n",
       "Banking, Investment And Insurance     3.66\n",
       "Travel and Tourism                    2.20\n",
       "Media and Advertising                 2.20\n",
       "International Business                1.93\n",
       "Healthcare Management                 1.72\n",
       "Hospitality Management                1.23\n",
       "E-COMMERCE                            1.21\n",
       "Retail Management                     1.08\n",
       "Rural and Agribusiness                0.79\n",
       "E-Business                            0.62\n",
       "Services Excellence                   0.43\n",
       "Name: Specialization, dtype: float64"
      ]
     },
     "execution_count": 20,
     "metadata": {},
     "output_type": "execute_result"
    }
   ],
   "source": [
    "# Checking Specialization\n",
    "round(leads['Specialization'].value_counts(dropna = False)*100/len(leads),2)\n"
   ]
  },
  {
   "cell_type": "code",
   "execution_count": 21,
   "id": "b2108dc1",
   "metadata": {},
   "outputs": [],
   "source": [
    "#Making NA -> Not Specified\n",
    "leads['Specialization'] = leads['Specialization'].replace(np.nan, 'Not Specified')\n",
    "# Grouping values with low count in order to remove bias\n",
    "# Management Specialization\n",
    "leads['Specialization'] = leads['Specialization'].replace(['Finance Management', 'Human Resource Management',\n",
    "                                                          'Marketing Management', 'Operations Management',\n",
    "                                                          'IT Projects Management', 'Supply Chain Management',\n",
    "                                                          'Healthcare Management', 'Hospitality Management',\n",
    "                                                          'Retail Management'], 'Management Specializations')\n",
    "# Business Specialization\n",
    "leads['Specialization'] = leads['Specialization'].replace(['International Business', 'Rural and Agribusiness',\n",
    "                                                          'E-Business'], 'Business Specializations')"
   ]
  },
  {
   "cell_type": "code",
   "execution_count": 22,
   "id": "8e69f991",
   "metadata": {},
   "outputs": [
    {
     "data": {
      "text/plain": [
       "NaN                                                  36.29\n",
       "Will revert after reading the email                  22.42\n",
       "Ringing                                              13.02\n",
       "Interested in other courses                           5.55\n",
       "Already a student                                     5.03\n",
       "Closed by Horizzon                                    3.87\n",
       "switched off                                          2.60\n",
       "Busy                                                  2.01\n",
       "Lost to EINS                                          1.89\n",
       "Not doing further education                           1.57\n",
       "Interested  in full time MBA                          1.27\n",
       "Graduation in progress                                1.20\n",
       "invalid number                                        0.90\n",
       "Diploma holder (Not Eligible)                         0.68\n",
       "wrong number given                                    0.51\n",
       "opp hangup                                            0.36\n",
       "number not provided                                   0.29\n",
       "in touch with EINS                                    0.13\n",
       "Lost to Others                                        0.08\n",
       "Still Thinking                                        0.06\n",
       "Want to take admission but has financial problems     0.06\n",
       "In confusion whether part time or DLP                 0.05\n",
       "Interested in Next batch                              0.05\n",
       "Lateral student                                       0.03\n",
       "Shall take in the next coming month                   0.02\n",
       "University not recognized                             0.02\n",
       "Recognition issue (DEC approval)                      0.01\n",
       "Name: Tags, dtype: float64"
      ]
     },
     "execution_count": 22,
     "metadata": {},
     "output_type": "execute_result"
    }
   ],
   "source": [
    "# Checking Tags\n",
    "round(leads['Tags'].value_counts(dropna = False)*100/len(leads),2)"
   ]
  },
  {
   "cell_type": "code",
   "execution_count": 23,
   "id": "ed00c5e4",
   "metadata": {},
   "outputs": [],
   "source": [
    "# Grouping values with low count remove bias\n",
    "leads['Tags'] = leads['Tags'].replace(np.nan, 'Not Specified')\n",
    "leads['Tags'] = leads['Tags'].replace(['Recognition issue (DEC approval)', 'Shall take in the next coming month', \n",
    "                                      'University not recognized', 'Lateral student',\n",
    "                                       'In confusion whether part time or DLP', 'Interested in Next batch, Still Thinking',\n",
    "                                       'Want to take admission but has financial problems', 'Lost to Others',\n",
    "                                      'in touch with EINS', 'number not provided', 'opp hangup', 'wrong number given',\n",
    "                                      'Diploma holder (Not Eligible)', 'invalid number', 'Graduation in progress',\n",
    "                                      'Interested  in full time MBA', 'Not doing further education', 'Lost to EINS', 'Busy',\n",
    "                                      'switched off'], 'Other Tags')"
   ]
  },
  {
   "cell_type": "code",
   "execution_count": 24,
   "id": "4f7367c6",
   "metadata": {},
   "outputs": [
    {
     "data": {
      "text/plain": [
       "Better Career Prospects      70.65\n",
       "NaN                          29.32\n",
       "Flexibility & Convenience     0.02\n",
       "Other                         0.01\n",
       "Name: What matters most to you in choosing a course, dtype: float64"
      ]
     },
     "execution_count": 24,
     "metadata": {},
     "output_type": "execute_result"
    }
   ],
   "source": [
    "# Checking 'What matters most to you in choosing a course'\n",
    "round(leads['What matters most to you in choosing a course'].value_counts(dropna = False)*100/len(leads),2)"
   ]
  },
  {
   "cell_type": "code",
   "execution_count": 25,
   "id": "465c4350",
   "metadata": {},
   "outputs": [],
   "source": [
    "# Dropping 'What matters most to you in choosing a course' as 99% are Nulls or Better Career Prospects\n",
    "cols_to_drop.append('What matters most to you in choosing a course')\n"
   ]
  },
  {
   "cell_type": "code",
   "execution_count": 26,
   "id": "e65d8892",
   "metadata": {},
   "outputs": [
    {
     "data": {
      "text/plain": [
       "Unemployed              60.61\n",
       "NaN                     29.11\n",
       "Working Professional     7.64\n",
       "Student                  2.27\n",
       "Other                    0.17\n",
       "Housewife                0.11\n",
       "Businessman              0.09\n",
       "Name: What is your current occupation, dtype: float64"
      ]
     },
     "execution_count": 26,
     "metadata": {},
     "output_type": "execute_result"
    }
   ],
   "source": [
    "# Checking 'What is your current occupation'\n",
    "round(leads['What is your current occupation'].value_counts(dropna = False)*100/len(leads),2)"
   ]
  },
  {
   "cell_type": "code",
   "execution_count": 27,
   "id": "533cbda6",
   "metadata": {},
   "outputs": [],
   "source": [
    "# Grouping values with low count in order to remove bias\n",
    "leads['What is your current occupation'] = leads['What is your current occupation'].replace(np.nan, 'Not Specified')\n",
    "leads['What is your current occupation'] = leads['What is your current occupation'].replace(['Housewife', 'Businessman'], 'Other')\n"
   ]
  },
  {
   "cell_type": "code",
   "execution_count": 28,
   "id": "9e3fb3b0",
   "metadata": {},
   "outputs": [
    {
     "data": {
      "text/plain": [
       "Google               31.04\n",
       "Direct Traffic       27.52\n",
       "Olark Chat           18.99\n",
       "Organic Search       12.49\n",
       "Reference             5.78\n",
       "Welingak Website      1.54\n",
       "Referral Sites        1.35\n",
       "Facebook              0.60\n",
       "NaN                   0.39\n",
       "bing                  0.06\n",
       "google                0.05\n",
       "Click2call            0.04\n",
       "Press_Release         0.02\n",
       "Social Media          0.02\n",
       "Live Chat             0.02\n",
       "youtubechannel        0.01\n",
       "testone               0.01\n",
       "Pay per Click Ads     0.01\n",
       "welearnblog_Home      0.01\n",
       "WeLearn               0.01\n",
       "blog                  0.01\n",
       "NC_EDM                0.01\n",
       "Name: Lead Source, dtype: float64"
      ]
     },
     "execution_count": 28,
     "metadata": {},
     "output_type": "execute_result"
    }
   ],
   "source": [
    "# Checking Lead Source\n",
    "round(leads['Lead Source'].value_counts(dropna = False)*100/len(leads),2)"
   ]
  },
  {
   "cell_type": "code",
   "execution_count": 29,
   "id": "c7be9b24",
   "metadata": {},
   "outputs": [],
   "source": [
    "# Replacing the NULL Values in 'Lead Source' with Google and grouping values with low count to remove bias\n",
    "leads['Lead Source'] = leads['Lead Source'].replace([np.nan, 'google'], 'Google')\n",
    "leads['Lead Source'] = leads['Lead Source'].replace(['Referral Sites', 'Facebook', 'bing', 'google', 'Click2call',\n",
    "                                                     'Live Chat', 'Social Media', 'Press_Release', 'testone',\n",
    "                                                     'Pay per Click Ads', 'WeLearn', 'blog', 'welearnblog_Home',\n",
    "                                                     'NC_EDM', 'youtubechannel'], 'Others')"
   ]
  },
  {
   "cell_type": "code",
   "execution_count": 30,
   "id": "bab7f3fa",
   "metadata": {},
   "outputs": [
    {
     "data": {
      "text/plain": [
       "Email Opened                    3437\n",
       "SMS Sent                        2745\n",
       "Olark Chat Conversation          973\n",
       "Page Visited on Website          640\n",
       "Converted to Lead                428\n",
       "Email Bounced                    326\n",
       "Email Link Clicked               267\n",
       "Form Submitted on Website        116\n",
       "NaN                              103\n",
       "Unreachable                       93\n",
       "Unsubscribed                      61\n",
       "Had a Phone Conversation          30\n",
       "Approached upfront                 9\n",
       "View in browser link Clicked       6\n",
       "Email Received                     2\n",
       "Email Marked Spam                  2\n",
       "Visited Booth in Tradeshow         1\n",
       "Resubscribed to emails             1\n",
       "Name: Last Activity, dtype: int64"
      ]
     },
     "execution_count": 30,
     "metadata": {},
     "output_type": "execute_result"
    }
   ],
   "source": [
    "# Checking Last Activity\n",
    "leads['Last Activity'].value_counts(dropna = False)"
   ]
  },
  {
   "cell_type": "code",
   "execution_count": 31,
   "id": "93768168",
   "metadata": {},
   "outputs": [],
   "source": [
    "# Replacing the NA values and other less occuring entries as Others\n",
    "leads['Last Activity'] = leads['Last Activity'].replace(np.nan, 'Email Opened')\n",
    "leads['Last Activity'] = leads['Last Activity'].replace(['Visited Booth in Tradeshow', 'Resubscribed to emails',\n",
    "                                                        'Email Marked Spam', 'Email Received',\n",
    "                                                         'View in browser link Clicked', 'Approached upfront',\n",
    "                                                         'Had a Phone Conversation', 'Unsubscribed', 'Unreachable'],\n",
    "                                                        'Other Methods')\n",
    "leads['Last Activity'] = leads['Last Activity'].replace(['Unreachable', 'Unsubscribed', 'Had a Phone Conversation',\n",
    "                                                        'View in browser link Clicked', 'Approached upfront',\n",
    "                                                        'Visited Booth in Tradeshow', 'Resubscribed to emails',\n",
    "                                                        'Form Submitted on Website'], 'Other Methods')"
   ]
  },
  {
   "cell_type": "code",
   "execution_count": 32,
   "id": "1ad78c82",
   "metadata": {},
   "outputs": [],
   "source": [
    "# Grouping values with low count in order to remove bias\n",
    "leads['Last Notable Activity'] = leads['Last Notable Activity'].replace(['Email Bounced', 'Email Link Clicked',\n",
    "                                                                         'Unreachable', 'Had a Phone Conversation',\n",
    "                                                                        'Olark Chat Conversation', 'Approached upfront',\n",
    "                                                                        'Resubscribed to emails', 'Unsubscribed',\n",
    "                                                                         'View in browser link Clicked',\n",
    "                                                                        'Form Submitted on Website', 'Email Received',\n",
    "                                                                         'Email Marked Spam'], 'Others')\n"
   ]
  },
  {
   "cell_type": "code",
   "execution_count": 33,
   "id": "0e503b15",
   "metadata": {},
   "outputs": [
    {
     "data": {
      "text/html": [
       "<div>\n",
       "<style scoped>\n",
       "    .dataframe tbody tr th:only-of-type {\n",
       "        vertical-align: middle;\n",
       "    }\n",
       "\n",
       "    .dataframe tbody tr th {\n",
       "        vertical-align: top;\n",
       "    }\n",
       "\n",
       "    .dataframe thead th {\n",
       "        text-align: right;\n",
       "    }\n",
       "</style>\n",
       "<table border=\"1\" class=\"dataframe\">\n",
       "  <thead>\n",
       "    <tr style=\"text-align: right;\">\n",
       "      <th></th>\n",
       "      <th>Lead Number</th>\n",
       "      <th>Converted</th>\n",
       "      <th>TotalVisits</th>\n",
       "      <th>Total Time Spent on Website</th>\n",
       "      <th>Page Views Per Visit</th>\n",
       "    </tr>\n",
       "  </thead>\n",
       "  <tbody>\n",
       "    <tr>\n",
       "      <th>count</th>\n",
       "      <td>9240.000000</td>\n",
       "      <td>9240.000000</td>\n",
       "      <td>9103.000000</td>\n",
       "      <td>9240.000000</td>\n",
       "      <td>9103.000000</td>\n",
       "    </tr>\n",
       "    <tr>\n",
       "      <th>mean</th>\n",
       "      <td>617188.435606</td>\n",
       "      <td>0.385390</td>\n",
       "      <td>3.445238</td>\n",
       "      <td>487.698268</td>\n",
       "      <td>2.362820</td>\n",
       "    </tr>\n",
       "    <tr>\n",
       "      <th>std</th>\n",
       "      <td>23405.995698</td>\n",
       "      <td>0.486714</td>\n",
       "      <td>4.854853</td>\n",
       "      <td>548.021466</td>\n",
       "      <td>2.161418</td>\n",
       "    </tr>\n",
       "    <tr>\n",
       "      <th>min</th>\n",
       "      <td>579533.000000</td>\n",
       "      <td>0.000000</td>\n",
       "      <td>0.000000</td>\n",
       "      <td>0.000000</td>\n",
       "      <td>0.000000</td>\n",
       "    </tr>\n",
       "    <tr>\n",
       "      <th>25%</th>\n",
       "      <td>596484.500000</td>\n",
       "      <td>0.000000</td>\n",
       "      <td>1.000000</td>\n",
       "      <td>12.000000</td>\n",
       "      <td>1.000000</td>\n",
       "    </tr>\n",
       "    <tr>\n",
       "      <th>50%</th>\n",
       "      <td>615479.000000</td>\n",
       "      <td>0.000000</td>\n",
       "      <td>3.000000</td>\n",
       "      <td>248.000000</td>\n",
       "      <td>2.000000</td>\n",
       "    </tr>\n",
       "    <tr>\n",
       "      <th>75%</th>\n",
       "      <td>637387.250000</td>\n",
       "      <td>1.000000</td>\n",
       "      <td>5.000000</td>\n",
       "      <td>936.000000</td>\n",
       "      <td>3.000000</td>\n",
       "    </tr>\n",
       "    <tr>\n",
       "      <th>max</th>\n",
       "      <td>660737.000000</td>\n",
       "      <td>1.000000</td>\n",
       "      <td>251.000000</td>\n",
       "      <td>2272.000000</td>\n",
       "      <td>55.000000</td>\n",
       "    </tr>\n",
       "  </tbody>\n",
       "</table>\n",
       "</div>"
      ],
      "text/plain": [
       "         Lead Number    Converted  TotalVisits  Total Time Spent on Website  \\\n",
       "count    9240.000000  9240.000000  9103.000000                  9240.000000   \n",
       "mean   617188.435606     0.385390     3.445238                   487.698268   \n",
       "std     23405.995698     0.486714     4.854853                   548.021466   \n",
       "min    579533.000000     0.000000     0.000000                     0.000000   \n",
       "25%    596484.500000     0.000000     1.000000                    12.000000   \n",
       "50%    615479.000000     0.000000     3.000000                   248.000000   \n",
       "75%    637387.250000     1.000000     5.000000                   936.000000   \n",
       "max    660737.000000     1.000000   251.000000                  2272.000000   \n",
       "\n",
       "       Page Views Per Visit  \n",
       "count           9103.000000  \n",
       "mean               2.362820  \n",
       "std                2.161418  \n",
       "min                0.000000  \n",
       "25%                1.000000  \n",
       "50%                2.000000  \n",
       "75%                3.000000  \n",
       "max               55.000000  "
      ]
     },
     "execution_count": 33,
     "metadata": {},
     "output_type": "execute_result"
    }
   ],
   "source": [
    "#Numeric values\n",
    "leads.describe()"
   ]
  },
  {
   "cell_type": "code",
   "execution_count": 34,
   "id": "6c72fb7e",
   "metadata": {},
   "outputs": [],
   "source": [
    "# Mean & Meadian are 3.45 & 3 respectively. Imputing mean to null.\n",
    "leads['TotalVisits'] = leads['TotalVisits'].replace(np.nan, leads['TotalVisits'].median())"
   ]
  },
  {
   "cell_type": "code",
   "execution_count": 35,
   "id": "6db536da",
   "metadata": {},
   "outputs": [],
   "source": [
    "# Imputing 0 to null, since it is safe and has a logically same meaning.\n",
    "leads['Page Views Per Visit'] = leads['Page Views Per Visit'].replace(np.nan, leads['Page Views Per Visit'].min())\n"
   ]
  },
  {
   "cell_type": "code",
   "execution_count": 36,
   "id": "b121db5c",
   "metadata": {},
   "outputs": [
    {
     "data": {
      "text/plain": [
       "No     9238\n",
       "Yes       2\n",
       "Name: Do Not Call, dtype: int64"
      ]
     },
     "execution_count": 36,
     "metadata": {},
     "output_type": "execute_result"
    }
   ],
   "source": [
    "# Checking 'Do Not Call'\n",
    "leads['Do Not Call'].value_counts()"
   ]
  },
  {
   "cell_type": "code",
   "execution_count": 37,
   "id": "42c9088a",
   "metadata": {},
   "outputs": [
    {
     "data": {
      "text/plain": [
       "No     9226\n",
       "Yes      14\n",
       "Name: Search, dtype: int64"
      ]
     },
     "execution_count": 37,
     "metadata": {},
     "output_type": "execute_result"
    }
   ],
   "source": [
    "# Checking Search\n",
    "leads['Search'].value_counts()"
   ]
  },
  {
   "cell_type": "code",
   "execution_count": 38,
   "id": "d8449b54",
   "metadata": {},
   "outputs": [
    {
     "data": {
      "text/plain": [
       "No    9240\n",
       "Name: Magazine, dtype: int64"
      ]
     },
     "execution_count": 38,
     "metadata": {},
     "output_type": "execute_result"
    }
   ],
   "source": [
    "# Checking Magazine\n",
    "leads['Magazine'].value_counts()"
   ]
  },
  {
   "cell_type": "code",
   "execution_count": 39,
   "id": "35d4c50b",
   "metadata": {},
   "outputs": [
    {
     "data": {
      "text/plain": [
       "No     9238\n",
       "Yes       2\n",
       "Name: Newspaper Article, dtype: int64"
      ]
     },
     "execution_count": 39,
     "metadata": {},
     "output_type": "execute_result"
    }
   ],
   "source": [
    "# Checking 'Newspaper Article'\n",
    "leads['Newspaper Article'].value_counts()"
   ]
  },
  {
   "cell_type": "code",
   "execution_count": 40,
   "id": "8ecbb330",
   "metadata": {},
   "outputs": [
    {
     "data": {
      "text/plain": [
       "No    9240\n",
       "Name: Receive More Updates About Our Courses, dtype: int64"
      ]
     },
     "execution_count": 40,
     "metadata": {},
     "output_type": "execute_result"
    }
   ],
   "source": [
    "# Checking 'Receive More Updates About Our Courses'\n",
    "leads['Receive More Updates About Our Courses'].value_counts()"
   ]
  },
  {
   "cell_type": "code",
   "execution_count": 41,
   "id": "eac3da7d",
   "metadata": {},
   "outputs": [
    {
     "data": {
      "text/plain": [
       "No     9239\n",
       "Yes       1\n",
       "Name: X Education Forums, dtype: int64"
      ]
     },
     "execution_count": 41,
     "metadata": {},
     "output_type": "execute_result"
    }
   ],
   "source": [
    "# Checking 'X Education Forums'\n",
    "leads['X Education Forums'].value_counts()"
   ]
  },
  {
   "cell_type": "code",
   "execution_count": 42,
   "id": "cc38ca21",
   "metadata": {},
   "outputs": [
    {
     "data": {
      "text/plain": [
       "No     9239\n",
       "Yes       1\n",
       "Name: Newspaper, dtype: int64"
      ]
     },
     "execution_count": 42,
     "metadata": {},
     "output_type": "execute_result"
    }
   ],
   "source": [
    "# Checking Newspaper\n",
    "leads['Newspaper'].value_counts()"
   ]
  },
  {
   "cell_type": "code",
   "execution_count": 43,
   "id": "90942ed8",
   "metadata": {},
   "outputs": [
    {
     "data": {
      "text/plain": [
       "No     9236\n",
       "Yes       4\n",
       "Name: Digital Advertisement, dtype: int64"
      ]
     },
     "execution_count": 43,
     "metadata": {},
     "output_type": "execute_result"
    }
   ],
   "source": [
    "# Checking 'Digital Advertisement'\n",
    "leads['Digital Advertisement'].value_counts()"
   ]
  },
  {
   "cell_type": "code",
   "execution_count": 44,
   "id": "2463a61c",
   "metadata": {},
   "outputs": [
    {
     "data": {
      "text/plain": [
       "No     9233\n",
       "Yes       7\n",
       "Name: Through Recommendations, dtype: int64"
      ]
     },
     "execution_count": 44,
     "metadata": {},
     "output_type": "execute_result"
    }
   ],
   "source": [
    "# Checking 'Through Recommendations'\n",
    "leads['Through Recommendations'].value_counts()"
   ]
  },
  {
   "cell_type": "code",
   "execution_count": 45,
   "id": "545bc2de",
   "metadata": {},
   "outputs": [
    {
     "data": {
      "text/plain": [
       "No    9240\n",
       "Name: Receive More Updates About Our Courses, dtype: int64"
      ]
     },
     "execution_count": 45,
     "metadata": {},
     "output_type": "execute_result"
    }
   ],
   "source": [
    "# Checking 'Receive More Updates About Our Courses'\n",
    "leads['Receive More Updates About Our Courses'].value_counts()"
   ]
  },
  {
   "cell_type": "code",
   "execution_count": 46,
   "id": "aa1fed86",
   "metadata": {},
   "outputs": [
    {
     "data": {
      "text/plain": [
       "No    9240\n",
       "Name: Update me on Supply Chain Content, dtype: int64"
      ]
     },
     "execution_count": 46,
     "metadata": {},
     "output_type": "execute_result"
    }
   ],
   "source": [
    "# Checking 'Update me on Supply Chain Content'\n",
    "leads['Update me on Supply Chain Content'].value_counts()"
   ]
  },
  {
   "cell_type": "code",
   "execution_count": 47,
   "id": "afaff201",
   "metadata": {},
   "outputs": [
    {
     "data": {
      "text/plain": [
       "No    9240\n",
       "Name: Get updates on DM Content, dtype: int64"
      ]
     },
     "execution_count": 47,
     "metadata": {},
     "output_type": "execute_result"
    }
   ],
   "source": [
    "# Checking 'Get updates on DM Content'\n",
    "leads['Get updates on DM Content'].value_counts()"
   ]
  },
  {
   "cell_type": "code",
   "execution_count": 48,
   "id": "531a7eca",
   "metadata": {},
   "outputs": [
    {
     "data": {
      "text/plain": [
       "No    9240\n",
       "Name: I agree to pay the amount through cheque, dtype: int64"
      ]
     },
     "execution_count": 48,
     "metadata": {},
     "output_type": "execute_result"
    }
   ],
   "source": [
    "# Checking 'I agree to pay the amount through cheque'\n",
    "leads['I agree to pay the amount through cheque'].value_counts()"
   ]
  },
  {
   "cell_type": "code",
   "execution_count": 49,
   "id": "acd451bc",
   "metadata": {},
   "outputs": [],
   "source": [
    "# Adding the redundant columns to cols_to_drop in order to drop them\n",
    "cols_to_drop.extend(['Do Not Call', 'Search', 'Magazine', 'Newspaper Article',\n",
    "                     'Receive More Updates About Our Courses', 'X Education Forums', 'Newspaper', 'Digital Advertisement',\n",
    "                     'Through Recommendations', 'Receive More Updates About Our Courses',\n",
    "                     'Update me on Supply Chain Content', 'Get updates on DM Content',\n",
    "                     'I agree to pay the amount through cheque','Last Notable Activity'])"
   ]
  },
  {
   "cell_type": "code",
   "execution_count": 50,
   "id": "16283653",
   "metadata": {},
   "outputs": [
    {
     "data": {
      "text/plain": [
       "['Prospect ID',\n",
       " 'Lead Number',\n",
       " 'Magazine',\n",
       " 'Receive More Updates About Our Courses',\n",
       " 'I agree to pay the amount through cheque',\n",
       " 'Get updates on DM Content',\n",
       " 'Update me on Supply Chain Content',\n",
       " 'City',\n",
       " 'Country',\n",
       " 'What matters most to you in choosing a course',\n",
       " 'Do Not Call',\n",
       " 'Search',\n",
       " 'Magazine',\n",
       " 'Newspaper Article',\n",
       " 'Receive More Updates About Our Courses',\n",
       " 'X Education Forums',\n",
       " 'Newspaper',\n",
       " 'Digital Advertisement',\n",
       " 'Through Recommendations',\n",
       " 'Receive More Updates About Our Courses',\n",
       " 'Update me on Supply Chain Content',\n",
       " 'Get updates on DM Content',\n",
       " 'I agree to pay the amount through cheque',\n",
       " 'Last Notable Activity']"
      ]
     },
     "execution_count": 50,
     "metadata": {},
     "output_type": "execute_result"
    }
   ],
   "source": [
    "cols_to_drop"
   ]
  },
  {
   "cell_type": "code",
   "execution_count": 51,
   "id": "7a8b12f5",
   "metadata": {},
   "outputs": [],
   "source": [
    "# Dropping the Variables\n",
    "leads_final = leads.drop(cols_to_drop, axis = 1)"
   ]
  },
  {
   "cell_type": "code",
   "execution_count": 52,
   "id": "e03c04e8",
   "metadata": {},
   "outputs": [
    {
     "name": "stdout",
     "output_type": "stream",
     "text": [
      "<class 'pandas.core.frame.DataFrame'>\n",
      "RangeIndex: 9240 entries, 0 to 9239\n",
      "Data columns (total 12 columns):\n",
      " #   Column                                  Non-Null Count  Dtype  \n",
      "---  ------                                  --------------  -----  \n",
      " 0   Lead Origin                             9240 non-null   object \n",
      " 1   Lead Source                             9240 non-null   object \n",
      " 2   Do Not Email                            9240 non-null   object \n",
      " 3   Converted                               9240 non-null   int64  \n",
      " 4   TotalVisits                             9240 non-null   float64\n",
      " 5   Total Time Spent on Website             9240 non-null   int64  \n",
      " 6   Page Views Per Visit                    9240 non-null   float64\n",
      " 7   Last Activity                           9240 non-null   object \n",
      " 8   Specialization                          9240 non-null   object \n",
      " 9   What is your current occupation         9240 non-null   object \n",
      " 10  Tags                                    9240 non-null   object \n",
      " 11  A free copy of Mastering The Interview  9240 non-null   object \n",
      "dtypes: float64(2), int64(2), object(8)\n",
      "memory usage: 866.4+ KB\n"
     ]
    }
   ],
   "source": [
    "# Checking the info again\n",
    "leads_final.info()"
   ]
  },
  {
   "cell_type": "markdown",
   "id": "4f3efb48",
   "metadata": {},
   "source": [
    "# 5. Univariate Analysis"
   ]
  },
  {
   "cell_type": "markdown",
   "id": "3b70f6f9",
   "metadata": {},
   "source": [
    "### Categorical Variables"
   ]
  },
  {
   "cell_type": "code",
   "execution_count": 53,
   "id": "831af986",
   "metadata": {},
   "outputs": [],
   "source": [
    "# Creating fucntion to generate countplot\n",
    "def fnc_Cntplt(var_in):\n",
    "    plt.figure(figsize=(15, 5))\n",
    "    fig = sns.countplot(x = var_in, hue = leads_final.Converted, data=leads_final, #palette=['#432371',\"#FAAE7B\"]\n",
    "                       palette=sns.color_palette(\"pastel\"))\n",
    "    \n",
    "    for p in fig.patches:\n",
    "        width = p.get_width()\n",
    "        height = p.get_height()\n",
    "        x, y = p.get_xy() \n",
    "        fig.annotate(f'{height}', (x + width/2, y + height*1.02), ha='center')\n",
    "    \n",
    "    plt.xticks(rotation = 90)\n",
    "    plt.show()"
   ]
  },
  {
   "cell_type": "code",
   "execution_count": 54,
   "id": "f08ccc3f",
   "metadata": {},
   "outputs": [
    {
     "data": {
      "image/png": "[encoded data removed]",
      "text/plain": [
       "<Figure size 1080x360 with 1 Axes>"
      ]
     },
     "metadata": {},
     "output_type": "display_data"
    }
   ],
   "source": [
    "fnc_Cntplt('Lead Origin')"
   ]
  },
  {
   "cell_type": "markdown",
   "id": "ef122af7",
   "metadata": {},
   "source": [
    "##### Inference: \n",
    "    Customers identified via Lead Add Form have a high conversion of 664."
   ]
  },
  {
   "cell_type": "code",
   "execution_count": 55,
   "id": "f0e5682b",
   "metadata": {},
   "outputs": [
    {
     "data": {
      "image/png": "[encoded data removed]",
      "text/plain": [
       "<Figure size 1080x360 with 1 Axes>"
      ]
     },
     "metadata": {},
     "output_type": "display_data"
    }
   ],
   "source": [
    "fnc_Cntplt('Lead Source')"
   ]
  },
  {
   "cell_type": "markdown",
   "id": "a9ff7216",
   "metadata": {},
   "source": [
    "##### Inference:\n",
    "    1. Leads via Google & Direct Traffic convert less as compared to others.\n",
    "    2. Leads coming via Reference have the highest conversion rate."
   ]
  },
  {
   "cell_type": "code",
   "execution_count": 56,
   "id": "9de45f88",
   "metadata": {},
   "outputs": [
    {
     "data": {
      "image/png": "[encoded data removed]",
      "text/plain": [
       "<Figure size 1080x360 with 1 Axes>"
      ]
     },
     "metadata": {},
     "output_type": "display_data"
    }
   ],
   "source": [
    "fnc_Cntplt('Last Activity')"
   ]
  },
  {
   "cell_type": "markdown",
   "id": "068873ae",
   "metadata": {},
   "source": [
    "##### Inference:\n",
    "    Customers with last activity as SMS sent have a conversion of 1727."
   ]
  },
  {
   "cell_type": "code",
   "execution_count": 57,
   "id": "ef0eb999",
   "metadata": {},
   "outputs": [
    {
     "data": {
      "image/png": "[encoded data removed]",
      "text/plain": [
       "<Figure size 1080x360 with 1 Axes>"
      ]
     },
     "metadata": {},
     "output_type": "display_data"
    }
   ],
   "source": [
    "fnc_Cntplt('Specialization')"
   ]
  },
  {
   "cell_type": "markdown",
   "id": "c8a8df6d",
   "metadata": {},
   "source": [
    "##### Inference:\n",
    "    1. Management Specialization have most conversion of 1922.\n",
    "    2. Services Excellence has least conversion 29."
   ]
  },
  {
   "cell_type": "code",
   "execution_count": 58,
   "id": "534c0b42",
   "metadata": {},
   "outputs": [
    {
     "data": {
      "image/png": "[encoded data removed]",
      "text/plain": [
       "<Figure size 1080x360 with 1 Axes>"
      ]
     },
     "metadata": {},
     "output_type": "display_data"
    }
   ],
   "source": [
    "fnc_Cntplt('What is your current occupation')"
   ]
  },
  {
   "cell_type": "markdown",
   "id": "6a5bc497",
   "metadata": {},
   "source": [
    "##### Inference:\n",
    "    1. Out of 5600 unemployed only 2441 converted.\n",
    "    2. While out of 706 Working Professionals, 647 converted."
   ]
  },
  {
   "cell_type": "code",
   "execution_count": 59,
   "id": "59eb2d07",
   "metadata": {},
   "outputs": [
    {
     "data": {
      "text/plain": [
       "38.53896103896104"
      ]
     },
     "execution_count": 59,
     "metadata": {},
     "output_type": "execute_result"
    }
   ],
   "source": [
    "# Checking the Percentages of Converted Values\n",
    "sum(leads_final['Converted'])/len(leads_final['Converted'])*100"
   ]
  },
  {
   "cell_type": "markdown",
   "id": "b8a985e5",
   "metadata": {},
   "source": [
    "##### Inference: \n",
    "    There are 38.5% Converted Leads"
   ]
  },
  {
   "cell_type": "markdown",
   "id": "28a871a3",
   "metadata": {},
   "source": [
    "# 6. Multivariate Analysis"
   ]
  },
  {
   "cell_type": "code",
   "execution_count": 60,
   "id": "5339b4c2",
   "metadata": {
    "scrolled": true
   },
   "outputs": [
    {
     "data": {
      "image/png": "[encoded data removed]",
      "text/plain": [
       "<Figure size 864x576 with 2 Axes>"
      ]
     },
     "metadata": {},
     "output_type": "display_data"
    }
   ],
   "source": [
    "# Checking the Numberical columns for Corelation\n",
    "plt.figure(figsize = (12,8))\n",
    "sns.heatmap(leads_final.corr(), annot = True, cmap= 'Greens')\n",
    "plt.show()"
   ]
  },
  {
   "cell_type": "markdown",
   "id": "7971921f",
   "metadata": {},
   "source": [
    "# 7. Outliers Treatment"
   ]
  },
  {
   "cell_type": "code",
   "execution_count": 61,
   "id": "fcbb1bfc",
   "metadata": {},
   "outputs": [
    {
     "data": {
      "image/png": "[encoded data removed]",
      "text/plain": [
       "<Figure size 432x288 with 1 Axes>"
      ]
     },
     "metadata": {},
     "output_type": "display_data"
    }
   ],
   "source": [
    "# Checking TotalVisits\n",
    "sns.boxplot(y= leads_final['TotalVisits'])\n",
    "plt.show()"
   ]
  },
  {
   "cell_type": "code",
   "execution_count": 62,
   "id": "f3f2e00f",
   "metadata": {},
   "outputs": [
    {
     "data": {
      "text/plain": [
       "count    9240.000000\n",
       "mean        3.438636\n",
       "std         4.819024\n",
       "min         0.000000\n",
       "5%          0.000000\n",
       "25%         1.000000\n",
       "50%         3.000000\n",
       "75%         5.000000\n",
       "90%         7.000000\n",
       "95%        10.000000\n",
       "99%        17.000000\n",
       "max       251.000000\n",
       "Name: TotalVisits, dtype: float64"
      ]
     },
     "execution_count": 62,
     "metadata": {},
     "output_type": "execute_result"
    }
   ],
   "source": [
    "leads_final['TotalVisits'].describe(percentiles = [0.05, 0.25, 0.5, 0.75, 0.90, 0.95, 0.99])"
   ]
  },
  {
   "cell_type": "code",
   "execution_count": 63,
   "id": "958642f0",
   "metadata": {},
   "outputs": [
    {
     "data": {
      "image/png": "[encoded data removed]",
      "text/plain": [
       "<Figure size 432x288 with 1 Axes>"
      ]
     },
     "metadata": {},
     "output_type": "display_data"
    }
   ],
   "source": [
    "# Removing the top 1% of the value to handle outliers\n",
    "leads_final = leads_final[(leads_final['TotalVisits'] <= leads_final['TotalVisits'].quantile(0.99))]\n",
    "sns.boxplot(y = leads_final['TotalVisits'])\n",
    "plt.show()"
   ]
  },
  {
   "cell_type": "code",
   "execution_count": 64,
   "id": "3f5056c7",
   "metadata": {},
   "outputs": [
    {
     "data": {
      "image/png": "[encoded data removed]",
      "text/plain": [
       "<Figure size 432x288 with 1 Axes>"
      ]
     },
     "metadata": {},
     "output_type": "display_data"
    }
   ],
   "source": [
    "# Checking 'Total Time Spent on Website'\n",
    "sns.boxplot(y = leads_final['Total Time Spent on Website'])\n",
    "plt.show()"
   ]
  },
  {
   "cell_type": "code",
   "execution_count": 65,
   "id": "b6157b6f",
   "metadata": {},
   "outputs": [
    {
     "data": {
      "text/plain": [
       "count    9157.000000\n",
       "mean        2.302302\n",
       "std         2.066450\n",
       "min         0.000000\n",
       "5%          0.000000\n",
       "25%         0.000000\n",
       "50%         2.000000\n",
       "75%         3.000000\n",
       "90%         5.000000\n",
       "95%         6.000000\n",
       "99%         9.000000\n",
       "max        16.000000\n",
       "Name: Page Views Per Visit, dtype: float64"
      ]
     },
     "execution_count": 65,
     "metadata": {},
     "output_type": "execute_result"
    }
   ],
   "source": [
    "# Checking 'Page Views Per Visit'\n",
    "leads_final['Page Views Per Visit'].describe(percentiles = [0.05, 0.25, 0.5, 0.75, 0.90, 0.95, 0.99])"
   ]
  },
  {
   "cell_type": "code",
   "execution_count": 66,
   "id": "16268740",
   "metadata": {},
   "outputs": [
    {
     "data": {
      "image/png": "[encoded data removed]",
      "text/plain": [
       "<Figure size 432x288 with 1 Axes>"
      ]
     },
     "metadata": {},
     "output_type": "display_data"
    }
   ],
   "source": [
    "# Removing the top 1% of the values to handle the outliers\n",
    "leads_final = leads_final[(leads_final['Page Views Per Visit'] <= leads_final['Page Views Per Visit'].quantile(0.99))]\n",
    "sns.boxplot(y = leads_final['Page Views Per Visit'])\n",
    "plt.show()"
   ]
  },
  {
   "cell_type": "code",
   "execution_count": 67,
   "id": "7074a52d",
   "metadata": {},
   "outputs": [
    {
     "data": {
      "image/png": "[encoded data removed]",
      "text/plain": [
       "<Figure size 432x288 with 1 Axes>"
      ]
     },
     "metadata": {},
     "output_type": "display_data"
    }
   ],
   "source": [
    "# Checking 'TotalVisits' vs 'Converted'\n",
    "sns.boxplot(x = leads_final['Converted'], y = leads_final['TotalVisits'])\n",
    "plt.show()"
   ]
  },
  {
   "cell_type": "markdown",
   "id": "d85eb896",
   "metadata": {},
   "source": [
    "##### Inference: \n",
    "    Median of both Converted and Not Converted for 'TotalVisits' is almost same."
   ]
  },
  {
   "cell_type": "code",
   "execution_count": 68,
   "id": "a7a767bd",
   "metadata": {},
   "outputs": [
    {
     "data": {
      "image/png": "[encoded data removed]",
      "text/plain": [
       "<Figure size 432x288 with 1 Axes>"
      ]
     },
     "metadata": {},
     "output_type": "display_data"
    }
   ],
   "source": [
    "# Checking 'Page Views Per Visit' vs 'Converted'\n",
    "sns.boxplot(x = leads_final['Converted'], y = leads_final['Page Views Per Visit'])\n",
    "plt.show()"
   ]
  },
  {
   "cell_type": "markdown",
   "id": "fcc07366",
   "metadata": {},
   "source": [
    "##### Inference: \n",
    "    Median of both Converted and Not Converted for 'Page Views Per Visit' is almost same."
   ]
  },
  {
   "cell_type": "code",
   "execution_count": 69,
   "id": "c9330d15",
   "metadata": {},
   "outputs": [
    {
     "data": {
      "image/png": "[encoded data removed]",
      "text/plain": [
       "<Figure size 432x288 with 1 Axes>"
      ]
     },
     "metadata": {},
     "output_type": "display_data"
    }
   ],
   "source": [
    "# Checking 'Total Time Spent on Website' vs 'Converted'\n",
    "sns.boxplot(x = leads_final['Converted'], y = leads_final['Total Time Spent on Website'])\n",
    "plt.show()"
   ]
  },
  {
   "cell_type": "markdown",
   "id": "67620241",
   "metadata": {},
   "source": [
    "##### Inference: \n",
    "    Leads spending more time on the website tend to get converted."
   ]
  },
  {
   "cell_type": "code",
   "execution_count": 70,
   "id": "89647c8e",
   "metadata": {},
   "outputs": [],
   "source": [
    "# Function to Convert Yes/No into 1/0 to fit the model (binary mapping)\n",
    "def binary_map(x):\n",
    "    return x.map({'Yes': 1, 'No':0})\n",
    "\n",
    "varlist = ['Do Not Email', 'A free copy of Mastering The Interview']\n",
    "\n",
    "# Applying the above custom function\n",
    "\n",
    "leads_final[varlist] = leads_final[varlist].apply(binary_map)"
   ]
  },
  {
   "cell_type": "code",
   "execution_count": 71,
   "id": "c5f4972d",
   "metadata": {},
   "outputs": [
    {
     "data": {
      "text/html": [
       "<div>\n",
       "<style scoped>\n",
       "    .dataframe tbody tr th:only-of-type {\n",
       "        vertical-align: middle;\n",
       "    }\n",
       "\n",
       "    .dataframe tbody tr th {\n",
       "        vertical-align: top;\n",
       "    }\n",
       "\n",
       "    .dataframe thead th {\n",
       "        text-align: right;\n",
       "    }\n",
       "</style>\n",
       "<table border=\"1\" class=\"dataframe\">\n",
       "  <thead>\n",
       "    <tr style=\"text-align: right;\">\n",
       "      <th></th>\n",
       "      <th>Lead Origin</th>\n",
       "      <th>Lead Source</th>\n",
       "      <th>Do Not Email</th>\n",
       "      <th>Converted</th>\n",
       "      <th>TotalVisits</th>\n",
       "      <th>Total Time Spent on Website</th>\n",
       "      <th>Page Views Per Visit</th>\n",
       "      <th>Last Activity</th>\n",
       "      <th>Specialization</th>\n",
       "      <th>What is your current occupation</th>\n",
       "      <th>Tags</th>\n",
       "      <th>A free copy of Mastering The Interview</th>\n",
       "    </tr>\n",
       "  </thead>\n",
       "  <tbody>\n",
       "    <tr>\n",
       "      <th>0</th>\n",
       "      <td>API</td>\n",
       "      <td>Olark Chat</td>\n",
       "      <td>0</td>\n",
       "      <td>0</td>\n",
       "      <td>0.0</td>\n",
       "      <td>0</td>\n",
       "      <td>0.0</td>\n",
       "      <td>Page Visited on Website</td>\n",
       "      <td>Not Specified</td>\n",
       "      <td>Unemployed</td>\n",
       "      <td>Interested in other courses</td>\n",
       "      <td>0</td>\n",
       "    </tr>\n",
       "    <tr>\n",
       "      <th>1</th>\n",
       "      <td>API</td>\n",
       "      <td>Organic Search</td>\n",
       "      <td>0</td>\n",
       "      <td>0</td>\n",
       "      <td>5.0</td>\n",
       "      <td>674</td>\n",
       "      <td>2.5</td>\n",
       "      <td>Email Opened</td>\n",
       "      <td>Not Specified</td>\n",
       "      <td>Unemployed</td>\n",
       "      <td>Ringing</td>\n",
       "      <td>0</td>\n",
       "    </tr>\n",
       "    <tr>\n",
       "      <th>2</th>\n",
       "      <td>Landing Page Submission</td>\n",
       "      <td>Direct Traffic</td>\n",
       "      <td>0</td>\n",
       "      <td>1</td>\n",
       "      <td>2.0</td>\n",
       "      <td>1532</td>\n",
       "      <td>2.0</td>\n",
       "      <td>Email Opened</td>\n",
       "      <td>Business Administration</td>\n",
       "      <td>Student</td>\n",
       "      <td>Will revert after reading the email</td>\n",
       "      <td>1</td>\n",
       "    </tr>\n",
       "    <tr>\n",
       "      <th>3</th>\n",
       "      <td>Landing Page Submission</td>\n",
       "      <td>Direct Traffic</td>\n",
       "      <td>0</td>\n",
       "      <td>0</td>\n",
       "      <td>1.0</td>\n",
       "      <td>305</td>\n",
       "      <td>1.0</td>\n",
       "      <td>Other Methods</td>\n",
       "      <td>Media and Advertising</td>\n",
       "      <td>Unemployed</td>\n",
       "      <td>Ringing</td>\n",
       "      <td>0</td>\n",
       "    </tr>\n",
       "    <tr>\n",
       "      <th>4</th>\n",
       "      <td>Landing Page Submission</td>\n",
       "      <td>Google</td>\n",
       "      <td>0</td>\n",
       "      <td>1</td>\n",
       "      <td>2.0</td>\n",
       "      <td>1428</td>\n",
       "      <td>1.0</td>\n",
       "      <td>Converted to Lead</td>\n",
       "      <td>Not Specified</td>\n",
       "      <td>Unemployed</td>\n",
       "      <td>Will revert after reading the email</td>\n",
       "      <td>0</td>\n",
       "    </tr>\n",
       "  </tbody>\n",
       "</table>\n",
       "</div>"
      ],
      "text/plain": [
       "               Lead Origin     Lead Source  Do Not Email  Converted  \\\n",
       "0                      API      Olark Chat             0          0   \n",
       "1                      API  Organic Search             0          0   \n",
       "2  Landing Page Submission  Direct Traffic             0          1   \n",
       "3  Landing Page Submission  Direct Traffic             0          0   \n",
       "4  Landing Page Submission          Google             0          1   \n",
       "\n",
       "   TotalVisits  Total Time Spent on Website  Page Views Per Visit  \\\n",
       "0          0.0                            0                   0.0   \n",
       "1          5.0                          674                   2.5   \n",
       "2          2.0                         1532                   2.0   \n",
       "3          1.0                          305                   1.0   \n",
       "4          2.0                         1428                   1.0   \n",
       "\n",
       "             Last Activity           Specialization  \\\n",
       "0  Page Visited on Website            Not Specified   \n",
       "1             Email Opened            Not Specified   \n",
       "2             Email Opened  Business Administration   \n",
       "3            Other Methods    Media and Advertising   \n",
       "4        Converted to Lead            Not Specified   \n",
       "\n",
       "  What is your current occupation                                 Tags  \\\n",
       "0                      Unemployed          Interested in other courses   \n",
       "1                      Unemployed                              Ringing   \n",
       "2                         Student  Will revert after reading the email   \n",
       "3                      Unemployed                              Ringing   \n",
       "4                      Unemployed  Will revert after reading the email   \n",
       "\n",
       "   A free copy of Mastering The Interview  \n",
       "0                                       0  \n",
       "1                                       0  \n",
       "2                                       1  \n",
       "3                                       0  \n",
       "4                                       0  "
      ]
     },
     "execution_count": 71,
     "metadata": {},
     "output_type": "execute_result"
    }
   ],
   "source": [
    "leads_final.head()"
   ]
  },
  {
   "cell_type": "markdown",
   "id": "844acc1b",
   "metadata": {},
   "source": [
    "# 8. Creating Dummy Vairables"
   ]
  },
  {
   "cell_type": "code",
   "execution_count": 72,
   "id": "ac4707e3",
   "metadata": {},
   "outputs": [
    {
     "data": {
      "text/plain": [
       "Index(['Lead Origin', 'Lead Source', 'Last Activity', 'Specialization',\n",
       "       'What is your current occupation', 'Tags'],\n",
       "      dtype='object')"
      ]
     },
     "execution_count": 72,
     "metadata": {},
     "output_type": "execute_result"
    }
   ],
   "source": [
    "cat_cols = leads_final.select_dtypes(include = 'object').columns\n",
    "cat_cols"
   ]
  },
  {
   "cell_type": "code",
   "execution_count": 73,
   "id": "93e9df60",
   "metadata": {},
   "outputs": [],
   "source": [
    "# Lead Origin\n",
    "Lead_Origin = pd.get_dummies(leads_final['Lead Origin'], prefix = 'Lead_Origin')\n",
    "Lead_Origin = Lead_Origin.drop('Lead_Origin_Quick Add Form', axis = 1)\n",
    "leads_final = pd.concat([leads_final, Lead_Origin], axis = 1)"
   ]
  },
  {
   "cell_type": "code",
   "execution_count": 74,
   "id": "527da500",
   "metadata": {},
   "outputs": [],
   "source": [
    "# Lead Source\n",
    "Lead_Source = pd.get_dummies(leads_final['Lead Source'], prefix = 'Lead_Source')\n",
    "Lead_Source = Lead_Source.drop('Lead_Source_Others', axis = 1)\n",
    "leads_final = pd.concat([leads_final, Lead_Source], axis = 1)"
   ]
  },
  {
   "cell_type": "code",
   "execution_count": 75,
   "id": "1ac3dd43",
   "metadata": {},
   "outputs": [],
   "source": [
    "# Last Activity\n",
    "Last_Activity = pd.get_dummies(leads_final['Last Activity'], prefix = 'Last_Activity')\n",
    "Last_Activity = Last_Activity.drop('Last_Activity_Other Methods', axis = 1)\n",
    "leads_final = pd.concat([leads_final, Last_Activity], axis = 1)"
   ]
  },
  {
   "cell_type": "code",
   "execution_count": 76,
   "id": "65adf8fa",
   "metadata": {},
   "outputs": [],
   "source": [
    "# Specialization\n",
    "Special = pd.get_dummies(leads_final['Specialization'], prefix = 'Specialization')\n",
    "Special = Special.drop('Specialization_Not Specified', axis = 1)\n",
    "leads_final = pd.concat([leads_final, Special], axis = 1)"
   ]
  },
  {
   "cell_type": "code",
   "execution_count": 77,
   "id": "4584212a",
   "metadata": {},
   "outputs": [],
   "source": [
    "# What is your current occupation\n",
    "occup = pd.get_dummies(leads_final['What is your current occupation'], prefix = 'Occupation')\n",
    "occup = occup.drop('Occupation_Other', axis = 1)\n",
    "leads_final = pd.concat([leads_final, occup], axis = 1)"
   ]
  },
  {
   "cell_type": "code",
   "execution_count": 78,
   "id": "cc565987",
   "metadata": {},
   "outputs": [],
   "source": [
    "# Tags\n",
    "tags = pd.get_dummies(leads_final['Tags'], prefix = 'Tags')\n",
    "tags = tags.drop('Tags_Not Specified', axis = 1)\n",
    "leads_final = pd.concat([leads_final, tags], axis = 1)"
   ]
  },
  {
   "cell_type": "code",
   "execution_count": 79,
   "id": "e02b7ce5",
   "metadata": {},
   "outputs": [
    {
     "data": {
      "text/html": [
       "<div>\n",
       "<style scoped>\n",
       "    .dataframe tbody tr th:only-of-type {\n",
       "        vertical-align: middle;\n",
       "    }\n",
       "\n",
       "    .dataframe tbody tr th {\n",
       "        vertical-align: top;\n",
       "    }\n",
       "\n",
       "    .dataframe thead th {\n",
       "        text-align: right;\n",
       "    }\n",
       "</style>\n",
       "<table border=\"1\" class=\"dataframe\">\n",
       "  <thead>\n",
       "    <tr style=\"text-align: right;\">\n",
       "      <th></th>\n",
       "      <th>Lead Origin</th>\n",
       "      <th>Lead Source</th>\n",
       "      <th>Do Not Email</th>\n",
       "      <th>Converted</th>\n",
       "      <th>TotalVisits</th>\n",
       "      <th>Total Time Spent on Website</th>\n",
       "      <th>Page Views Per Visit</th>\n",
       "      <th>Last Activity</th>\n",
       "      <th>Specialization</th>\n",
       "      <th>What is your current occupation</th>\n",
       "      <th>...</th>\n",
       "      <th>Occupation_Unemployed</th>\n",
       "      <th>Occupation_Working Professional</th>\n",
       "      <th>Tags_Already a student</th>\n",
       "      <th>Tags_Closed by Horizzon</th>\n",
       "      <th>Tags_Interested in Next batch</th>\n",
       "      <th>Tags_Interested in other courses</th>\n",
       "      <th>Tags_Other Tags</th>\n",
       "      <th>Tags_Ringing</th>\n",
       "      <th>Tags_Still Thinking</th>\n",
       "      <th>Tags_Will revert after reading the email</th>\n",
       "    </tr>\n",
       "  </thead>\n",
       "  <tbody>\n",
       "    <tr>\n",
       "      <th>0</th>\n",
       "      <td>API</td>\n",
       "      <td>Olark Chat</td>\n",
       "      <td>0</td>\n",
       "      <td>0</td>\n",
       "      <td>0.0</td>\n",
       "      <td>0</td>\n",
       "      <td>0.0</td>\n",
       "      <td>Page Visited on Website</td>\n",
       "      <td>Not Specified</td>\n",
       "      <td>Unemployed</td>\n",
       "      <td>...</td>\n",
       "      <td>1</td>\n",
       "      <td>0</td>\n",
       "      <td>0</td>\n",
       "      <td>0</td>\n",
       "      <td>0</td>\n",
       "      <td>1</td>\n",
       "      <td>0</td>\n",
       "      <td>0</td>\n",
       "      <td>0</td>\n",
       "      <td>0</td>\n",
       "    </tr>\n",
       "    <tr>\n",
       "      <th>1</th>\n",
       "      <td>API</td>\n",
       "      <td>Organic Search</td>\n",
       "      <td>0</td>\n",
       "      <td>0</td>\n",
       "      <td>5.0</td>\n",
       "      <td>674</td>\n",
       "      <td>2.5</td>\n",
       "      <td>Email Opened</td>\n",
       "      <td>Not Specified</td>\n",
       "      <td>Unemployed</td>\n",
       "      <td>...</td>\n",
       "      <td>1</td>\n",
       "      <td>0</td>\n",
       "      <td>0</td>\n",
       "      <td>0</td>\n",
       "      <td>0</td>\n",
       "      <td>0</td>\n",
       "      <td>0</td>\n",
       "      <td>1</td>\n",
       "      <td>0</td>\n",
       "      <td>0</td>\n",
       "    </tr>\n",
       "    <tr>\n",
       "      <th>2</th>\n",
       "      <td>Landing Page Submission</td>\n",
       "      <td>Direct Traffic</td>\n",
       "      <td>0</td>\n",
       "      <td>1</td>\n",
       "      <td>2.0</td>\n",
       "      <td>1532</td>\n",
       "      <td>2.0</td>\n",
       "      <td>Email Opened</td>\n",
       "      <td>Business Administration</td>\n",
       "      <td>Student</td>\n",
       "      <td>...</td>\n",
       "      <td>0</td>\n",
       "      <td>0</td>\n",
       "      <td>0</td>\n",
       "      <td>0</td>\n",
       "      <td>0</td>\n",
       "      <td>0</td>\n",
       "      <td>0</td>\n",
       "      <td>0</td>\n",
       "      <td>0</td>\n",
       "      <td>1</td>\n",
       "    </tr>\n",
       "    <tr>\n",
       "      <th>3</th>\n",
       "      <td>Landing Page Submission</td>\n",
       "      <td>Direct Traffic</td>\n",
       "      <td>0</td>\n",
       "      <td>0</td>\n",
       "      <td>1.0</td>\n",
       "      <td>305</td>\n",
       "      <td>1.0</td>\n",
       "      <td>Other Methods</td>\n",
       "      <td>Media and Advertising</td>\n",
       "      <td>Unemployed</td>\n",
       "      <td>...</td>\n",
       "      <td>1</td>\n",
       "      <td>0</td>\n",
       "      <td>0</td>\n",
       "      <td>0</td>\n",
       "      <td>0</td>\n",
       "      <td>0</td>\n",
       "      <td>0</td>\n",
       "      <td>1</td>\n",
       "      <td>0</td>\n",
       "      <td>0</td>\n",
       "    </tr>\n",
       "    <tr>\n",
       "      <th>4</th>\n",
       "      <td>Landing Page Submission</td>\n",
       "      <td>Google</td>\n",
       "      <td>0</td>\n",
       "      <td>1</td>\n",
       "      <td>2.0</td>\n",
       "      <td>1428</td>\n",
       "      <td>1.0</td>\n",
       "      <td>Converted to Lead</td>\n",
       "      <td>Not Specified</td>\n",
       "      <td>Unemployed</td>\n",
       "      <td>...</td>\n",
       "      <td>1</td>\n",
       "      <td>0</td>\n",
       "      <td>0</td>\n",
       "      <td>0</td>\n",
       "      <td>0</td>\n",
       "      <td>0</td>\n",
       "      <td>0</td>\n",
       "      <td>0</td>\n",
       "      <td>0</td>\n",
       "      <td>1</td>\n",
       "    </tr>\n",
       "  </tbody>\n",
       "</table>\n",
       "<p>5 rows × 49 columns</p>\n",
       "</div>"
      ],
      "text/plain": [
       "               Lead Origin     Lead Source  Do Not Email  Converted  \\\n",
       "0                      API      Olark Chat             0          0   \n",
       "1                      API  Organic Search             0          0   \n",
       "2  Landing Page Submission  Direct Traffic             0          1   \n",
       "3  Landing Page Submission  Direct Traffic             0          0   \n",
       "4  Landing Page Submission          Google             0          1   \n",
       "\n",
       "   TotalVisits  Total Time Spent on Website  Page Views Per Visit  \\\n",
       "0          0.0                            0                   0.0   \n",
       "1          5.0                          674                   2.5   \n",
       "2          2.0                         1532                   2.0   \n",
       "3          1.0                          305                   1.0   \n",
       "4          2.0                         1428                   1.0   \n",
       "\n",
       "             Last Activity           Specialization  \\\n",
       "0  Page Visited on Website            Not Specified   \n",
       "1             Email Opened            Not Specified   \n",
       "2             Email Opened  Business Administration   \n",
       "3            Other Methods    Media and Advertising   \n",
       "4        Converted to Lead            Not Specified   \n",
       "\n",
       "  What is your current occupation  ... Occupation_Unemployed  \\\n",
       "0                      Unemployed  ...                     1   \n",
       "1                      Unemployed  ...                     1   \n",
       "2                         Student  ...                     0   \n",
       "3                      Unemployed  ...                     1   \n",
       "4                      Unemployed  ...                     1   \n",
       "\n",
       "   Occupation_Working Professional  Tags_Already a student  \\\n",
       "0                                0                       0   \n",
       "1                                0                       0   \n",
       "2                                0                       0   \n",
       "3                                0                       0   \n",
       "4                                0                       0   \n",
       "\n",
       "   Tags_Closed by Horizzon  Tags_Interested in Next batch  \\\n",
       "0                        0                              0   \n",
       "1                        0                              0   \n",
       "2                        0                              0   \n",
       "3                        0                              0   \n",
       "4                        0                              0   \n",
       "\n",
       "   Tags_Interested in other courses  Tags_Other Tags  Tags_Ringing  \\\n",
       "0                                 1                0             0   \n",
       "1                                 0                0             1   \n",
       "2                                 0                0             0   \n",
       "3                                 0                0             1   \n",
       "4                                 0                0             0   \n",
       "\n",
       "   Tags_Still Thinking  Tags_Will revert after reading the email  \n",
       "0                    0                                         0  \n",
       "1                    0                                         0  \n",
       "2                    0                                         1  \n",
       "3                    0                                         0  \n",
       "4                    0                                         1  \n",
       "\n",
       "[5 rows x 49 columns]"
      ]
     },
     "execution_count": 79,
     "metadata": {},
     "output_type": "execute_result"
    }
   ],
   "source": [
    "leads_final.head()"
   ]
  },
  {
   "cell_type": "markdown",
   "id": "b69e06c4",
   "metadata": {},
   "source": [
    "#### Dropping Repeated Variables"
   ]
  },
  {
   "cell_type": "code",
   "execution_count": 80,
   "id": "25a9da70",
   "metadata": {},
   "outputs": [],
   "source": [
    "leads_final = leads_final.drop(cat_cols, axis = 1)"
   ]
  },
  {
   "cell_type": "code",
   "execution_count": 81,
   "id": "73b8427a",
   "metadata": {
    "scrolled": true
   },
   "outputs": [
    {
     "data": {
      "text/html": [
       "<div>\n",
       "<style scoped>\n",
       "    .dataframe tbody tr th:only-of-type {\n",
       "        vertical-align: middle;\n",
       "    }\n",
       "\n",
       "    .dataframe tbody tr th {\n",
       "        vertical-align: top;\n",
       "    }\n",
       "\n",
       "    .dataframe thead th {\n",
       "        text-align: right;\n",
       "    }\n",
       "</style>\n",
       "<table border=\"1\" class=\"dataframe\">\n",
       "  <thead>\n",
       "    <tr style=\"text-align: right;\">\n",
       "      <th></th>\n",
       "      <th>Do Not Email</th>\n",
       "      <th>Converted</th>\n",
       "      <th>TotalVisits</th>\n",
       "      <th>Total Time Spent on Website</th>\n",
       "      <th>Page Views Per Visit</th>\n",
       "      <th>A free copy of Mastering The Interview</th>\n",
       "      <th>Lead_Origin_API</th>\n",
       "      <th>Lead_Origin_Landing Page Submission</th>\n",
       "      <th>Lead_Origin_Lead Add Form</th>\n",
       "      <th>Lead_Origin_Lead Import</th>\n",
       "      <th>...</th>\n",
       "      <th>Occupation_Unemployed</th>\n",
       "      <th>Occupation_Working Professional</th>\n",
       "      <th>Tags_Already a student</th>\n",
       "      <th>Tags_Closed by Horizzon</th>\n",
       "      <th>Tags_Interested in Next batch</th>\n",
       "      <th>Tags_Interested in other courses</th>\n",
       "      <th>Tags_Other Tags</th>\n",
       "      <th>Tags_Ringing</th>\n",
       "      <th>Tags_Still Thinking</th>\n",
       "      <th>Tags_Will revert after reading the email</th>\n",
       "    </tr>\n",
       "  </thead>\n",
       "  <tbody>\n",
       "    <tr>\n",
       "      <th>0</th>\n",
       "      <td>0</td>\n",
       "      <td>0</td>\n",
       "      <td>0.0</td>\n",
       "      <td>0</td>\n",
       "      <td>0.0</td>\n",
       "      <td>0</td>\n",
       "      <td>1</td>\n",
       "      <td>0</td>\n",
       "      <td>0</td>\n",
       "      <td>0</td>\n",
       "      <td>...</td>\n",
       "      <td>1</td>\n",
       "      <td>0</td>\n",
       "      <td>0</td>\n",
       "      <td>0</td>\n",
       "      <td>0</td>\n",
       "      <td>1</td>\n",
       "      <td>0</td>\n",
       "      <td>0</td>\n",
       "      <td>0</td>\n",
       "      <td>0</td>\n",
       "    </tr>\n",
       "    <tr>\n",
       "      <th>1</th>\n",
       "      <td>0</td>\n",
       "      <td>0</td>\n",
       "      <td>5.0</td>\n",
       "      <td>674</td>\n",
       "      <td>2.5</td>\n",
       "      <td>0</td>\n",
       "      <td>1</td>\n",
       "      <td>0</td>\n",
       "      <td>0</td>\n",
       "      <td>0</td>\n",
       "      <td>...</td>\n",
       "      <td>1</td>\n",
       "      <td>0</td>\n",
       "      <td>0</td>\n",
       "      <td>0</td>\n",
       "      <td>0</td>\n",
       "      <td>0</td>\n",
       "      <td>0</td>\n",
       "      <td>1</td>\n",
       "      <td>0</td>\n",
       "      <td>0</td>\n",
       "    </tr>\n",
       "    <tr>\n",
       "      <th>2</th>\n",
       "      <td>0</td>\n",
       "      <td>1</td>\n",
       "      <td>2.0</td>\n",
       "      <td>1532</td>\n",
       "      <td>2.0</td>\n",
       "      <td>1</td>\n",
       "      <td>0</td>\n",
       "      <td>1</td>\n",
       "      <td>0</td>\n",
       "      <td>0</td>\n",
       "      <td>...</td>\n",
       "      <td>0</td>\n",
       "      <td>0</td>\n",
       "      <td>0</td>\n",
       "      <td>0</td>\n",
       "      <td>0</td>\n",
       "      <td>0</td>\n",
       "      <td>0</td>\n",
       "      <td>0</td>\n",
       "      <td>0</td>\n",
       "      <td>1</td>\n",
       "    </tr>\n",
       "    <tr>\n",
       "      <th>3</th>\n",
       "      <td>0</td>\n",
       "      <td>0</td>\n",
       "      <td>1.0</td>\n",
       "      <td>305</td>\n",
       "      <td>1.0</td>\n",
       "      <td>0</td>\n",
       "      <td>0</td>\n",
       "      <td>1</td>\n",
       "      <td>0</td>\n",
       "      <td>0</td>\n",
       "      <td>...</td>\n",
       "      <td>1</td>\n",
       "      <td>0</td>\n",
       "      <td>0</td>\n",
       "      <td>0</td>\n",
       "      <td>0</td>\n",
       "      <td>0</td>\n",
       "      <td>0</td>\n",
       "      <td>1</td>\n",
       "      <td>0</td>\n",
       "      <td>0</td>\n",
       "    </tr>\n",
       "    <tr>\n",
       "      <th>4</th>\n",
       "      <td>0</td>\n",
       "      <td>1</td>\n",
       "      <td>2.0</td>\n",
       "      <td>1428</td>\n",
       "      <td>1.0</td>\n",
       "      <td>0</td>\n",
       "      <td>0</td>\n",
       "      <td>1</td>\n",
       "      <td>0</td>\n",
       "      <td>0</td>\n",
       "      <td>...</td>\n",
       "      <td>1</td>\n",
       "      <td>0</td>\n",
       "      <td>0</td>\n",
       "      <td>0</td>\n",
       "      <td>0</td>\n",
       "      <td>0</td>\n",
       "      <td>0</td>\n",
       "      <td>0</td>\n",
       "      <td>0</td>\n",
       "      <td>1</td>\n",
       "    </tr>\n",
       "  </tbody>\n",
       "</table>\n",
       "<p>5 rows × 43 columns</p>\n",
       "</div>"
      ],
      "text/plain": [
       "   Do Not Email  Converted  TotalVisits  Total Time Spent on Website  \\\n",
       "0             0          0          0.0                            0   \n",
       "1             0          0          5.0                          674   \n",
       "2             0          1          2.0                         1532   \n",
       "3             0          0          1.0                          305   \n",
       "4             0          1          2.0                         1428   \n",
       "\n",
       "   Page Views Per Visit  A free copy of Mastering The Interview  \\\n",
       "0                   0.0                                       0   \n",
       "1                   2.5                                       0   \n",
       "2                   2.0                                       1   \n",
       "3                   1.0                                       0   \n",
       "4                   1.0                                       0   \n",
       "\n",
       "   Lead_Origin_API  Lead_Origin_Landing Page Submission  \\\n",
       "0                1                                    0   \n",
       "1                1                                    0   \n",
       "2                0                                    1   \n",
       "3                0                                    1   \n",
       "4                0                                    1   \n",
       "\n",
       "   Lead_Origin_Lead Add Form  Lead_Origin_Lead Import  ...  \\\n",
       "0                          0                        0  ...   \n",
       "1                          0                        0  ...   \n",
       "2                          0                        0  ...   \n",
       "3                          0                        0  ...   \n",
       "4                          0                        0  ...   \n",
       "\n",
       "   Occupation_Unemployed  Occupation_Working Professional  \\\n",
       "0                      1                                0   \n",
       "1                      1                                0   \n",
       "2                      0                                0   \n",
       "3                      1                                0   \n",
       "4                      1                                0   \n",
       "\n",
       "   Tags_Already a student  Tags_Closed by Horizzon  \\\n",
       "0                       0                        0   \n",
       "1                       0                        0   \n",
       "2                       0                        0   \n",
       "3                       0                        0   \n",
       "4                       0                        0   \n",
       "\n",
       "   Tags_Interested in Next batch  Tags_Interested in other courses  \\\n",
       "0                              0                                 1   \n",
       "1                              0                                 0   \n",
       "2                              0                                 0   \n",
       "3                              0                                 0   \n",
       "4                              0                                 0   \n",
       "\n",
       "   Tags_Other Tags  Tags_Ringing  Tags_Still Thinking  \\\n",
       "0                0             0                    0   \n",
       "1                0             1                    0   \n",
       "2                0             0                    0   \n",
       "3                0             1                    0   \n",
       "4                0             0                    0   \n",
       "\n",
       "   Tags_Will revert after reading the email  \n",
       "0                                         0  \n",
       "1                                         0  \n",
       "2                                         1  \n",
       "3                                         0  \n",
       "4                                         1  \n",
       "\n",
       "[5 rows x 43 columns]"
      ]
     },
     "execution_count": 81,
     "metadata": {},
     "output_type": "execute_result"
    }
   ],
   "source": [
    "leads_final.head()"
   ]
  },
  {
   "cell_type": "markdown",
   "id": "3cb37f71",
   "metadata": {},
   "source": [
    "# 9. Train - Test Split"
   ]
  },
  {
   "cell_type": "code",
   "execution_count": 82,
   "id": "7277ca08",
   "metadata": {},
   "outputs": [],
   "source": [
    "y = leads_final['Converted']\n",
    "X = leads_final.drop('Converted', axis = 1)"
   ]
  },
  {
   "cell_type": "code",
   "execution_count": 83,
   "id": "1d6eff34",
   "metadata": {},
   "outputs": [],
   "source": [
    "X_train, X_test, y_train, y_test = train_test_split(X, y, train_size= 0.70, random_state= 100)"
   ]
  },
  {
   "cell_type": "code",
   "execution_count": 84,
   "id": "702a4c64",
   "metadata": {},
   "outputs": [
    {
     "data": {
      "text/html": [
       "<div>\n",
       "<style scoped>\n",
       "    .dataframe tbody tr th:only-of-type {\n",
       "        vertical-align: middle;\n",
       "    }\n",
       "\n",
       "    .dataframe tbody tr th {\n",
       "        vertical-align: top;\n",
       "    }\n",
       "\n",
       "    .dataframe thead th {\n",
       "        text-align: right;\n",
       "    }\n",
       "</style>\n",
       "<table border=\"1\" class=\"dataframe\">\n",
       "  <thead>\n",
       "    <tr style=\"text-align: right;\">\n",
       "      <th></th>\n",
       "      <th>Do Not Email</th>\n",
       "      <th>TotalVisits</th>\n",
       "      <th>Total Time Spent on Website</th>\n",
       "      <th>Page Views Per Visit</th>\n",
       "      <th>A free copy of Mastering The Interview</th>\n",
       "      <th>Lead_Origin_API</th>\n",
       "      <th>Lead_Origin_Landing Page Submission</th>\n",
       "      <th>Lead_Origin_Lead Add Form</th>\n",
       "      <th>Lead_Origin_Lead Import</th>\n",
       "      <th>Lead_Source_Direct Traffic</th>\n",
       "      <th>...</th>\n",
       "      <th>Occupation_Unemployed</th>\n",
       "      <th>Occupation_Working Professional</th>\n",
       "      <th>Tags_Already a student</th>\n",
       "      <th>Tags_Closed by Horizzon</th>\n",
       "      <th>Tags_Interested in Next batch</th>\n",
       "      <th>Tags_Interested in other courses</th>\n",
       "      <th>Tags_Other Tags</th>\n",
       "      <th>Tags_Ringing</th>\n",
       "      <th>Tags_Still Thinking</th>\n",
       "      <th>Tags_Will revert after reading the email</th>\n",
       "    </tr>\n",
       "  </thead>\n",
       "  <tbody>\n",
       "    <tr>\n",
       "      <th>302</th>\n",
       "      <td>0</td>\n",
       "      <td>7.0</td>\n",
       "      <td>250</td>\n",
       "      <td>2.33</td>\n",
       "      <td>0</td>\n",
       "      <td>1</td>\n",
       "      <td>0</td>\n",
       "      <td>0</td>\n",
       "      <td>0</td>\n",
       "      <td>0</td>\n",
       "      <td>...</td>\n",
       "      <td>0</td>\n",
       "      <td>0</td>\n",
       "      <td>0</td>\n",
       "      <td>0</td>\n",
       "      <td>0</td>\n",
       "      <td>0</td>\n",
       "      <td>0</td>\n",
       "      <td>0</td>\n",
       "      <td>0</td>\n",
       "      <td>0</td>\n",
       "    </tr>\n",
       "    <tr>\n",
       "      <th>6087</th>\n",
       "      <td>1</td>\n",
       "      <td>0.0</td>\n",
       "      <td>0</td>\n",
       "      <td>0.00</td>\n",
       "      <td>0</td>\n",
       "      <td>1</td>\n",
       "      <td>0</td>\n",
       "      <td>0</td>\n",
       "      <td>0</td>\n",
       "      <td>0</td>\n",
       "      <td>...</td>\n",
       "      <td>0</td>\n",
       "      <td>0</td>\n",
       "      <td>0</td>\n",
       "      <td>0</td>\n",
       "      <td>0</td>\n",
       "      <td>0</td>\n",
       "      <td>0</td>\n",
       "      <td>0</td>\n",
       "      <td>0</td>\n",
       "      <td>0</td>\n",
       "    </tr>\n",
       "    <tr>\n",
       "      <th>1033</th>\n",
       "      <td>0</td>\n",
       "      <td>5.0</td>\n",
       "      <td>470</td>\n",
       "      <td>5.00</td>\n",
       "      <td>0</td>\n",
       "      <td>1</td>\n",
       "      <td>0</td>\n",
       "      <td>0</td>\n",
       "      <td>0</td>\n",
       "      <td>0</td>\n",
       "      <td>...</td>\n",
       "      <td>1</td>\n",
       "      <td>0</td>\n",
       "      <td>0</td>\n",
       "      <td>0</td>\n",
       "      <td>0</td>\n",
       "      <td>0</td>\n",
       "      <td>0</td>\n",
       "      <td>0</td>\n",
       "      <td>0</td>\n",
       "      <td>0</td>\n",
       "    </tr>\n",
       "    <tr>\n",
       "      <th>7656</th>\n",
       "      <td>1</td>\n",
       "      <td>6.0</td>\n",
       "      <td>352</td>\n",
       "      <td>6.00</td>\n",
       "      <td>1</td>\n",
       "      <td>0</td>\n",
       "      <td>1</td>\n",
       "      <td>0</td>\n",
       "      <td>0</td>\n",
       "      <td>1</td>\n",
       "      <td>...</td>\n",
       "      <td>1</td>\n",
       "      <td>0</td>\n",
       "      <td>0</td>\n",
       "      <td>0</td>\n",
       "      <td>0</td>\n",
       "      <td>0</td>\n",
       "      <td>0</td>\n",
       "      <td>1</td>\n",
       "      <td>0</td>\n",
       "      <td>0</td>\n",
       "    </tr>\n",
       "    <tr>\n",
       "      <th>3241</th>\n",
       "      <td>0</td>\n",
       "      <td>4.0</td>\n",
       "      <td>973</td>\n",
       "      <td>1.33</td>\n",
       "      <td>1</td>\n",
       "      <td>0</td>\n",
       "      <td>1</td>\n",
       "      <td>0</td>\n",
       "      <td>0</td>\n",
       "      <td>1</td>\n",
       "      <td>...</td>\n",
       "      <td>1</td>\n",
       "      <td>0</td>\n",
       "      <td>0</td>\n",
       "      <td>0</td>\n",
       "      <td>0</td>\n",
       "      <td>0</td>\n",
       "      <td>0</td>\n",
       "      <td>0</td>\n",
       "      <td>0</td>\n",
       "      <td>1</td>\n",
       "    </tr>\n",
       "  </tbody>\n",
       "</table>\n",
       "<p>5 rows × 42 columns</p>\n",
       "</div>"
      ],
      "text/plain": [
       "      Do Not Email  TotalVisits  Total Time Spent on Website  \\\n",
       "302              0          7.0                          250   \n",
       "6087             1          0.0                            0   \n",
       "1033             0          5.0                          470   \n",
       "7656             1          6.0                          352   \n",
       "3241             0          4.0                          973   \n",
       "\n",
       "      Page Views Per Visit  A free copy of Mastering The Interview  \\\n",
       "302                   2.33                                       0   \n",
       "6087                  0.00                                       0   \n",
       "1033                  5.00                                       0   \n",
       "7656                  6.00                                       1   \n",
       "3241                  1.33                                       1   \n",
       "\n",
       "      Lead_Origin_API  Lead_Origin_Landing Page Submission  \\\n",
       "302                 1                                    0   \n",
       "6087                1                                    0   \n",
       "1033                1                                    0   \n",
       "7656                0                                    1   \n",
       "3241                0                                    1   \n",
       "\n",
       "      Lead_Origin_Lead Add Form  Lead_Origin_Lead Import  \\\n",
       "302                           0                        0   \n",
       "6087                          0                        0   \n",
       "1033                          0                        0   \n",
       "7656                          0                        0   \n",
       "3241                          0                        0   \n",
       "\n",
       "      Lead_Source_Direct Traffic  ...  Occupation_Unemployed  \\\n",
       "302                            0  ...                      0   \n",
       "6087                           0  ...                      0   \n",
       "1033                           0  ...                      1   \n",
       "7656                           1  ...                      1   \n",
       "3241                           1  ...                      1   \n",
       "\n",
       "      Occupation_Working Professional  Tags_Already a student  \\\n",
       "302                                 0                       0   \n",
       "6087                                0                       0   \n",
       "1033                                0                       0   \n",
       "7656                                0                       0   \n",
       "3241                                0                       0   \n",
       "\n",
       "      Tags_Closed by Horizzon  Tags_Interested in Next batch  \\\n",
       "302                         0                              0   \n",
       "6087                        0                              0   \n",
       "1033                        0                              0   \n",
       "7656                        0                              0   \n",
       "3241                        0                              0   \n",
       "\n",
       "      Tags_Interested in other courses  Tags_Other Tags  Tags_Ringing  \\\n",
       "302                                  0                0             0   \n",
       "6087                                 0                0             0   \n",
       "1033                                 0                0             0   \n",
       "7656                                 0                0             1   \n",
       "3241                                 0                0             0   \n",
       "\n",
       "      Tags_Still Thinking  Tags_Will revert after reading the email  \n",
       "302                     0                                         0  \n",
       "6087                    0                                         0  \n",
       "1033                    0                                         0  \n",
       "7656                    0                                         0  \n",
       "3241                    0                                         1  \n",
       "\n",
       "[5 rows x 42 columns]"
      ]
     },
     "execution_count": 84,
     "metadata": {},
     "output_type": "execute_result"
    }
   ],
   "source": [
    "X_train.head()"
   ]
  },
  {
   "cell_type": "markdown",
   "id": "63bf8724",
   "metadata": {},
   "source": [
    "# 10. Feature Scaling"
   ]
  },
  {
   "cell_type": "code",
   "execution_count": 85,
   "id": "3b5af242",
   "metadata": {},
   "outputs": [
    {
     "data": {
      "text/html": [
       "<div>\n",
       "<style scoped>\n",
       "    .dataframe tbody tr th:only-of-type {\n",
       "        vertical-align: middle;\n",
       "    }\n",
       "\n",
       "    .dataframe tbody tr th {\n",
       "        vertical-align: top;\n",
       "    }\n",
       "\n",
       "    .dataframe thead th {\n",
       "        text-align: right;\n",
       "    }\n",
       "</style>\n",
       "<table border=\"1\" class=\"dataframe\">\n",
       "  <thead>\n",
       "    <tr style=\"text-align: right;\">\n",
       "      <th></th>\n",
       "      <th>Do Not Email</th>\n",
       "      <th>TotalVisits</th>\n",
       "      <th>Total Time Spent on Website</th>\n",
       "      <th>Page Views Per Visit</th>\n",
       "      <th>A free copy of Mastering The Interview</th>\n",
       "      <th>Lead_Origin_API</th>\n",
       "      <th>Lead_Origin_Landing Page Submission</th>\n",
       "      <th>Lead_Origin_Lead Add Form</th>\n",
       "      <th>Lead_Origin_Lead Import</th>\n",
       "      <th>Lead_Source_Direct Traffic</th>\n",
       "      <th>...</th>\n",
       "      <th>Occupation_Unemployed</th>\n",
       "      <th>Occupation_Working Professional</th>\n",
       "      <th>Tags_Already a student</th>\n",
       "      <th>Tags_Closed by Horizzon</th>\n",
       "      <th>Tags_Interested in Next batch</th>\n",
       "      <th>Tags_Interested in other courses</th>\n",
       "      <th>Tags_Other Tags</th>\n",
       "      <th>Tags_Ringing</th>\n",
       "      <th>Tags_Still Thinking</th>\n",
       "      <th>Tags_Will revert after reading the email</th>\n",
       "    </tr>\n",
       "  </thead>\n",
       "  <tbody>\n",
       "    <tr>\n",
       "      <th>302</th>\n",
       "      <td>0</td>\n",
       "      <td>1.336782</td>\n",
       "      <td>-0.428736</td>\n",
       "      <td>0.059262</td>\n",
       "      <td>0</td>\n",
       "      <td>1</td>\n",
       "      <td>0</td>\n",
       "      <td>0</td>\n",
       "      <td>0</td>\n",
       "      <td>0</td>\n",
       "      <td>...</td>\n",
       "      <td>0</td>\n",
       "      <td>0</td>\n",
       "      <td>0</td>\n",
       "      <td>0</td>\n",
       "      <td>0</td>\n",
       "      <td>0</td>\n",
       "      <td>0</td>\n",
       "      <td>0</td>\n",
       "      <td>0</td>\n",
       "      <td>0</td>\n",
       "    </tr>\n",
       "    <tr>\n",
       "      <th>6087</th>\n",
       "      <td>1</td>\n",
       "      <td>-1.094877</td>\n",
       "      <td>-0.887355</td>\n",
       "      <td>-1.178546</td>\n",
       "      <td>0</td>\n",
       "      <td>1</td>\n",
       "      <td>0</td>\n",
       "      <td>0</td>\n",
       "      <td>0</td>\n",
       "      <td>0</td>\n",
       "      <td>...</td>\n",
       "      <td>0</td>\n",
       "      <td>0</td>\n",
       "      <td>0</td>\n",
       "      <td>0</td>\n",
       "      <td>0</td>\n",
       "      <td>0</td>\n",
       "      <td>0</td>\n",
       "      <td>0</td>\n",
       "      <td>0</td>\n",
       "      <td>0</td>\n",
       "    </tr>\n",
       "    <tr>\n",
       "      <th>1033</th>\n",
       "      <td>0</td>\n",
       "      <td>0.642022</td>\n",
       "      <td>-0.025151</td>\n",
       "      <td>1.477695</td>\n",
       "      <td>0</td>\n",
       "      <td>1</td>\n",
       "      <td>0</td>\n",
       "      <td>0</td>\n",
       "      <td>0</td>\n",
       "      <td>0</td>\n",
       "      <td>...</td>\n",
       "      <td>1</td>\n",
       "      <td>0</td>\n",
       "      <td>0</td>\n",
       "      <td>0</td>\n",
       "      <td>0</td>\n",
       "      <td>0</td>\n",
       "      <td>0</td>\n",
       "      <td>0</td>\n",
       "      <td>0</td>\n",
       "      <td>0</td>\n",
       "    </tr>\n",
       "    <tr>\n",
       "      <th>7656</th>\n",
       "      <td>1</td>\n",
       "      <td>0.989402</td>\n",
       "      <td>-0.241619</td>\n",
       "      <td>2.008943</td>\n",
       "      <td>1</td>\n",
       "      <td>0</td>\n",
       "      <td>1</td>\n",
       "      <td>0</td>\n",
       "      <td>0</td>\n",
       "      <td>1</td>\n",
       "      <td>...</td>\n",
       "      <td>1</td>\n",
       "      <td>0</td>\n",
       "      <td>0</td>\n",
       "      <td>0</td>\n",
       "      <td>0</td>\n",
       "      <td>0</td>\n",
       "      <td>0</td>\n",
       "      <td>1</td>\n",
       "      <td>0</td>\n",
       "      <td>0</td>\n",
       "    </tr>\n",
       "    <tr>\n",
       "      <th>3241</th>\n",
       "      <td>0</td>\n",
       "      <td>0.294642</td>\n",
       "      <td>0.897591</td>\n",
       "      <td>-0.471986</td>\n",
       "      <td>1</td>\n",
       "      <td>0</td>\n",
       "      <td>1</td>\n",
       "      <td>0</td>\n",
       "      <td>0</td>\n",
       "      <td>1</td>\n",
       "      <td>...</td>\n",
       "      <td>1</td>\n",
       "      <td>0</td>\n",
       "      <td>0</td>\n",
       "      <td>0</td>\n",
       "      <td>0</td>\n",
       "      <td>0</td>\n",
       "      <td>0</td>\n",
       "      <td>0</td>\n",
       "      <td>0</td>\n",
       "      <td>1</td>\n",
       "    </tr>\n",
       "  </tbody>\n",
       "</table>\n",
       "<p>5 rows × 42 columns</p>\n",
       "</div>"
      ],
      "text/plain": [
       "      Do Not Email  TotalVisits  Total Time Spent on Website  \\\n",
       "302              0     1.336782                    -0.428736   \n",
       "6087             1    -1.094877                    -0.887355   \n",
       "1033             0     0.642022                    -0.025151   \n",
       "7656             1     0.989402                    -0.241619   \n",
       "3241             0     0.294642                     0.897591   \n",
       "\n",
       "      Page Views Per Visit  A free copy of Mastering The Interview  \\\n",
       "302               0.059262                                       0   \n",
       "6087             -1.178546                                       0   \n",
       "1033              1.477695                                       0   \n",
       "7656              2.008943                                       1   \n",
       "3241             -0.471986                                       1   \n",
       "\n",
       "      Lead_Origin_API  Lead_Origin_Landing Page Submission  \\\n",
       "302                 1                                    0   \n",
       "6087                1                                    0   \n",
       "1033                1                                    0   \n",
       "7656                0                                    1   \n",
       "3241                0                                    1   \n",
       "\n",
       "      Lead_Origin_Lead Add Form  Lead_Origin_Lead Import  \\\n",
       "302                           0                        0   \n",
       "6087                          0                        0   \n",
       "1033                          0                        0   \n",
       "7656                          0                        0   \n",
       "3241                          0                        0   \n",
       "\n",
       "      Lead_Source_Direct Traffic  ...  Occupation_Unemployed  \\\n",
       "302                            0  ...                      0   \n",
       "6087                           0  ...                      0   \n",
       "1033                           0  ...                      1   \n",
       "7656                           1  ...                      1   \n",
       "3241                           1  ...                      1   \n",
       "\n",
       "      Occupation_Working Professional  Tags_Already a student  \\\n",
       "302                                 0                       0   \n",
       "6087                                0                       0   \n",
       "1033                                0                       0   \n",
       "7656                                0                       0   \n",
       "3241                                0                       0   \n",
       "\n",
       "      Tags_Closed by Horizzon  Tags_Interested in Next batch  \\\n",
       "302                         0                              0   \n",
       "6087                        0                              0   \n",
       "1033                        0                              0   \n",
       "7656                        0                              0   \n",
       "3241                        0                              0   \n",
       "\n",
       "      Tags_Interested in other courses  Tags_Other Tags  Tags_Ringing  \\\n",
       "302                                  0                0             0   \n",
       "6087                                 0                0             0   \n",
       "1033                                 0                0             0   \n",
       "7656                                 0                0             1   \n",
       "3241                                 0                0             0   \n",
       "\n",
       "      Tags_Still Thinking  Tags_Will revert after reading the email  \n",
       "302                     0                                         0  \n",
       "6087                    0                                         0  \n",
       "1033                    0                                         0  \n",
       "7656                    0                                         0  \n",
       "3241                    0                                         1  \n",
       "\n",
       "[5 rows x 42 columns]"
      ]
     },
     "execution_count": 85,
     "metadata": {},
     "output_type": "execute_result"
    }
   ],
   "source": [
    "# Scaling the Numerical variables\n",
    "scaler = StandardScaler()\n",
    "num_cols = ['TotalVisits', 'Total Time Spent on Website', 'Page Views Per Visit']\n",
    "X_train[num_cols] = scaler.fit_transform(X_train[num_cols])\n",
    "X_train.head()"
   ]
  },
  {
   "cell_type": "markdown",
   "id": "592b1297",
   "metadata": {},
   "source": [
    "# 11 . Model Building"
   ]
  },
  {
   "cell_type": "code",
   "execution_count": 86,
   "id": "d04be027",
   "metadata": {},
   "outputs": [
    {
     "data": {
      "text/html": [
       "<table class=\"simpletable\">\n",
       "<caption>Generalized Linear Model Regression Results</caption>\n",
       "<tr>\n",
       "  <th>Dep. Variable:</th>       <td>Converted</td>    <th>  No. Observations:  </th>  <td>  6363</td> \n",
       "</tr>\n",
       "<tr>\n",
       "  <th>Model:</th>                  <td>GLM</td>       <th>  Df Residuals:      </th>  <td>  6320</td> \n",
       "</tr>\n",
       "<tr>\n",
       "  <th>Model Family:</th>        <td>Binomial</td>     <th>  Df Model:          </th>  <td>    42</td> \n",
       "</tr>\n",
       "<tr>\n",
       "  <th>Link Function:</th>         <td>Logit</td>      <th>  Scale:             </th> <td>  1.0000</td>\n",
       "</tr>\n",
       "<tr>\n",
       "  <th>Method:</th>                <td>IRLS</td>       <th>  Log-Likelihood:    </th> <td> -1435.0</td>\n",
       "</tr>\n",
       "<tr>\n",
       "  <th>Date:</th>            <td>Tue, 24 Jan 2023</td> <th>  Deviance:          </th> <td>  2870.0</td>\n",
       "</tr>\n",
       "<tr>\n",
       "  <th>Time:</th>                <td>02:09:04</td>     <th>  Pearson chi2:      </th> <td>7.51e+03</td>\n",
       "</tr>\n",
       "<tr>\n",
       "  <th>No. Iterations:</th>         <td>20</td>        <th>  Pseudo R-squ. (CS):</th>  <td>0.5846</td> \n",
       "</tr>\n",
       "<tr>\n",
       "  <th>Covariance Type:</th>     <td>nonrobust</td>    <th>                     </th>     <td> </td>   \n",
       "</tr>\n",
       "</table>\n",
       "<table class=\"simpletable\">\n",
       "<tr>\n",
       "                          <td></td>                            <th>coef</th>     <th>std err</th>      <th>z</th>      <th>P>|z|</th>  <th>[0.025</th>    <th>0.975]</th>  \n",
       "</tr>\n",
       "<tr>\n",
       "  <th>const</th>                                            <td>   20.4724</td> <td> 2.92e+04</td> <td>    0.001</td> <td> 0.999</td> <td>-5.73e+04</td> <td> 5.73e+04</td>\n",
       "</tr>\n",
       "<tr>\n",
       "  <th>Do Not Email</th>                                     <td>   -1.1370</td> <td>    0.256</td> <td>   -4.450</td> <td> 0.000</td> <td>   -1.638</td> <td>   -0.636</td>\n",
       "</tr>\n",
       "<tr>\n",
       "  <th>TotalVisits</th>                                      <td>    0.2529</td> <td>    0.073</td> <td>    3.467</td> <td> 0.001</td> <td>    0.110</td> <td>    0.396</td>\n",
       "</tr>\n",
       "<tr>\n",
       "  <th>Total Time Spent on Website</th>                      <td>    1.0770</td> <td>    0.057</td> <td>   19.054</td> <td> 0.000</td> <td>    0.966</td> <td>    1.188</td>\n",
       "</tr>\n",
       "<tr>\n",
       "  <th>Page Views Per Visit</th>                             <td>   -0.2846</td> <td>    0.085</td> <td>   -3.364</td> <td> 0.001</td> <td>   -0.450</td> <td>   -0.119</td>\n",
       "</tr>\n",
       "<tr>\n",
       "  <th>A free copy of Mastering The Interview</th>           <td>   -0.0592</td> <td>    0.157</td> <td>   -0.377</td> <td> 0.706</td> <td>   -0.367</td> <td>    0.249</td>\n",
       "</tr>\n",
       "<tr>\n",
       "  <th>Lead_Origin_API</th>                                  <td>  -20.0957</td> <td> 2.92e+04</td> <td>   -0.001</td> <td> 0.999</td> <td>-5.73e+04</td> <td> 5.73e+04</td>\n",
       "</tr>\n",
       "<tr>\n",
       "  <th>Lead_Origin_Landing Page Submission</th>              <td>  -20.3183</td> <td> 2.92e+04</td> <td>   -0.001</td> <td> 0.999</td> <td>-5.73e+04</td> <td> 5.73e+04</td>\n",
       "</tr>\n",
       "<tr>\n",
       "  <th>Lead_Origin_Lead Add Form</th>                        <td>  -17.5442</td> <td> 2.92e+04</td> <td>   -0.001</td> <td> 1.000</td> <td>-5.73e+04</td> <td> 5.73e+04</td>\n",
       "</tr>\n",
       "<tr>\n",
       "  <th>Lead_Origin_Lead Import</th>                          <td>  -21.1126</td> <td> 2.92e+04</td> <td>   -0.001</td> <td> 0.999</td> <td>-5.73e+04</td> <td> 5.73e+04</td>\n",
       "</tr>\n",
       "<tr>\n",
       "  <th>Lead_Source_Direct Traffic</th>                       <td>   -0.1760</td> <td>    0.422</td> <td>   -0.417</td> <td> 0.677</td> <td>   -1.004</td> <td>    0.652</td>\n",
       "</tr>\n",
       "<tr>\n",
       "  <th>Lead_Source_Google</th>                               <td>   -0.2072</td> <td>    0.405</td> <td>   -0.511</td> <td> 0.609</td> <td>   -1.001</td> <td>    0.587</td>\n",
       "</tr>\n",
       "<tr>\n",
       "  <th>Lead_Source_Olark Chat</th>                           <td>    0.7438</td> <td>    0.426</td> <td>    1.746</td> <td> 0.081</td> <td>   -0.091</td> <td>    1.579</td>\n",
       "</tr>\n",
       "<tr>\n",
       "  <th>Lead_Source_Organic Search</th>                       <td>   -0.5537</td> <td>    0.422</td> <td>   -1.313</td> <td> 0.189</td> <td>   -1.380</td> <td>    0.273</td>\n",
       "</tr>\n",
       "<tr>\n",
       "  <th>Lead_Source_Reference</th>                            <td>   -1.6617</td> <td>    1.081</td> <td>   -1.537</td> <td> 0.124</td> <td>   -3.781</td> <td>    0.458</td>\n",
       "</tr>\n",
       "<tr>\n",
       "  <th>Lead_Source_Welingak Website</th>                     <td>    2.4129</td> <td>    1.450</td> <td>    1.664</td> <td> 0.096</td> <td>   -0.429</td> <td>    5.255</td>\n",
       "</tr>\n",
       "<tr>\n",
       "  <th>Last_Activity_Converted to Lead</th>                  <td>   -0.8240</td> <td>    0.388</td> <td>   -2.126</td> <td> 0.033</td> <td>   -1.584</td> <td>   -0.064</td>\n",
       "</tr>\n",
       "<tr>\n",
       "  <th>Last_Activity_Email Bounced</th>                      <td>   -1.4464</td> <td>    0.566</td> <td>   -2.556</td> <td> 0.011</td> <td>   -2.556</td> <td>   -0.337</td>\n",
       "</tr>\n",
       "<tr>\n",
       "  <th>Last_Activity_Email Link Clicked</th>                 <td>   -0.3773</td> <td>    0.403</td> <td>   -0.937</td> <td> 0.349</td> <td>   -1.167</td> <td>    0.412</td>\n",
       "</tr>\n",
       "<tr>\n",
       "  <th>Last_Activity_Email Opened</th>                       <td>    0.0520</td> <td>    0.284</td> <td>    0.183</td> <td> 0.855</td> <td>   -0.504</td> <td>    0.608</td>\n",
       "</tr>\n",
       "<tr>\n",
       "  <th>Last_Activity_Olark Chat Conversation</th>            <td>   -1.2638</td> <td>    0.342</td> <td>   -3.695</td> <td> 0.000</td> <td>   -1.934</td> <td>   -0.593</td>\n",
       "</tr>\n",
       "<tr>\n",
       "  <th>Last_Activity_Page Visited on Website</th>            <td>   -0.6448</td> <td>    0.345</td> <td>   -1.870</td> <td> 0.062</td> <td>   -1.321</td> <td>    0.031</td>\n",
       "</tr>\n",
       "<tr>\n",
       "  <th>Last_Activity_SMS Sent</th>                           <td>    1.4787</td> <td>    0.283</td> <td>    5.234</td> <td> 0.000</td> <td>    0.925</td> <td>    2.032</td>\n",
       "</tr>\n",
       "<tr>\n",
       "  <th>Specialization_Banking, Investment And Insurance</th> <td>    0.1322</td> <td>    0.324</td> <td>    0.408</td> <td> 0.683</td> <td>   -0.502</td> <td>    0.767</td>\n",
       "</tr>\n",
       "<tr>\n",
       "  <th>Specialization_Business Administration</th>           <td>    0.0619</td> <td>    0.297</td> <td>    0.209</td> <td> 0.835</td> <td>   -0.519</td> <td>    0.643</td>\n",
       "</tr>\n",
       "<tr>\n",
       "  <th>Specialization_Business Specializations</th>          <td>    0.0616</td> <td>    0.325</td> <td>    0.190</td> <td> 0.850</td> <td>   -0.575</td> <td>    0.698</td>\n",
       "</tr>\n",
       "<tr>\n",
       "  <th>Specialization_E-COMMERCE</th>                        <td>    0.6087</td> <td>    0.475</td> <td>    1.281</td> <td> 0.200</td> <td>   -0.322</td> <td>    1.540</td>\n",
       "</tr>\n",
       "<tr>\n",
       "  <th>Specialization_Management Specializations</th>        <td>    0.0265</td> <td>    0.201</td> <td>    0.132</td> <td> 0.895</td> <td>   -0.367</td> <td>    0.420</td>\n",
       "</tr>\n",
       "<tr>\n",
       "  <th>Specialization_Media and Advertising</th>             <td>   -0.0745</td> <td>    0.388</td> <td>   -0.192</td> <td> 0.848</td> <td>   -0.835</td> <td>    0.686</td>\n",
       "</tr>\n",
       "<tr>\n",
       "  <th>Specialization_Services Excellence</th>               <td>   -0.3948</td> <td>    0.775</td> <td>   -0.509</td> <td> 0.611</td> <td>   -1.915</td> <td>    1.125</td>\n",
       "</tr>\n",
       "<tr>\n",
       "  <th>Specialization_Travel and Tourism</th>                <td>   -0.8540</td> <td>    0.436</td> <td>   -1.958</td> <td> 0.050</td> <td>   -1.709</td> <td>    0.001</td>\n",
       "</tr>\n",
       "<tr>\n",
       "  <th>Occupation_Not Specified</th>                         <td>   -2.3257</td> <td>    0.827</td> <td>   -2.811</td> <td> 0.005</td> <td>   -3.947</td> <td>   -0.704</td>\n",
       "</tr>\n",
       "<tr>\n",
       "  <th>Occupation_Student</th>                               <td>   -0.2625</td> <td>    0.937</td> <td>   -0.280</td> <td> 0.779</td> <td>   -2.099</td> <td>    1.574</td>\n",
       "</tr>\n",
       "<tr>\n",
       "  <th>Occupation_Unemployed</th>                            <td>   -0.4708</td> <td>    0.820</td> <td>   -0.574</td> <td> 0.566</td> <td>   -2.079</td> <td>    1.137</td>\n",
       "</tr>\n",
       "<tr>\n",
       "  <th>Occupation_Working Professional</th>                  <td>    0.1809</td> <td>    0.861</td> <td>    0.210</td> <td> 0.834</td> <td>   -1.507</td> <td>    1.869</td>\n",
       "</tr>\n",
       "<tr>\n",
       "  <th>Tags_Already a student</th>                           <td>   -4.4903</td> <td>    0.615</td> <td>   -7.305</td> <td> 0.000</td> <td>   -5.695</td> <td>   -3.286</td>\n",
       "</tr>\n",
       "<tr>\n",
       "  <th>Tags_Closed by Horizzon</th>                          <td>    4.6570</td> <td>    0.755</td> <td>    6.167</td> <td> 0.000</td> <td>    3.177</td> <td>    6.137</td>\n",
       "</tr>\n",
       "<tr>\n",
       "  <th>Tags_Interested in Next batch</th>                    <td>   19.8909</td> <td> 1.57e+04</td> <td>    0.001</td> <td> 0.999</td> <td>-3.07e+04</td> <td> 3.08e+04</td>\n",
       "</tr>\n",
       "<tr>\n",
       "  <th>Tags_Interested in other courses</th>                 <td>   -3.8128</td> <td>    0.428</td> <td>   -8.914</td> <td> 0.000</td> <td>   -4.651</td> <td>   -2.974</td>\n",
       "</tr>\n",
       "<tr>\n",
       "  <th>Tags_Other Tags</th>                                  <td>   -1.1479</td> <td>    0.156</td> <td>   -7.335</td> <td> 0.000</td> <td>   -1.455</td> <td>   -0.841</td>\n",
       "</tr>\n",
       "<tr>\n",
       "  <th>Tags_Ringing</th>                                     <td>   -4.0813</td> <td>    0.251</td> <td>  -16.228</td> <td> 0.000</td> <td>   -4.574</td> <td>   -3.588</td>\n",
       "</tr>\n",
       "<tr>\n",
       "  <th>Tags_Still Thinking</th>                              <td>   -1.9945</td> <td>    1.318</td> <td>   -1.513</td> <td> 0.130</td> <td>   -4.578</td> <td>    0.589</td>\n",
       "</tr>\n",
       "<tr>\n",
       "  <th>Tags_Will revert after reading the email</th>         <td>    2.8673</td> <td>    0.208</td> <td>   13.812</td> <td> 0.000</td> <td>    2.460</td> <td>    3.274</td>\n",
       "</tr>\n",
       "</table>"
      ],
      "text/plain": [
       "<class 'statsmodels.iolib.summary.Summary'>\n",
       "\"\"\"\n",
       "                 Generalized Linear Model Regression Results                  \n",
       "==============================================================================\n",
       "Dep. Variable:              Converted   No. Observations:                 6363\n",
       "Model:                            GLM   Df Residuals:                     6320\n",
       "Model Family:                Binomial   Df Model:                           42\n",
       "Link Function:                  Logit   Scale:                          1.0000\n",
       "Method:                          IRLS   Log-Likelihood:                -1435.0\n",
       "Date:                Tue, 24 Jan 2023   Deviance:                       2870.0\n",
       "Time:                        02:09:04   Pearson chi2:                 7.51e+03\n",
       "No. Iterations:                    20   Pseudo R-squ. (CS):             0.5846\n",
       "Covariance Type:            nonrobust                                         \n",
       "====================================================================================================================\n",
       "                                                       coef    std err          z      P>|z|      [0.025      0.975]\n",
       "--------------------------------------------------------------------------------------------------------------------\n",
       "const                                               20.4724   2.92e+04      0.001      0.999   -5.73e+04    5.73e+04\n",
       "Do Not Email                                        -1.1370      0.256     -4.450      0.000      -1.638      -0.636\n",
       "TotalVisits                                          0.2529      0.073      3.467      0.001       0.110       0.396\n",
       "Total Time Spent on Website                          1.0770      0.057     19.054      0.000       0.966       1.188\n",
       "Page Views Per Visit                                -0.2846      0.085     -3.364      0.001      -0.450      -0.119\n",
       "A free copy of Mastering The Interview              -0.0592      0.157     -0.377      0.706      -0.367       0.249\n",
       "Lead_Origin_API                                    -20.0957   2.92e+04     -0.001      0.999   -5.73e+04    5.73e+04\n",
       "Lead_Origin_Landing Page Submission                -20.3183   2.92e+04     -0.001      0.999   -5.73e+04    5.73e+04\n",
       "Lead_Origin_Lead Add Form                          -17.5442   2.92e+04     -0.001      1.000   -5.73e+04    5.73e+04\n",
       "Lead_Origin_Lead Import                            -21.1126   2.92e+04     -0.001      0.999   -5.73e+04    5.73e+04\n",
       "Lead_Source_Direct Traffic                          -0.1760      0.422     -0.417      0.677      -1.004       0.652\n",
       "Lead_Source_Google                                  -0.2072      0.405     -0.511      0.609      -1.001       0.587\n",
       "Lead_Source_Olark Chat                               0.7438      0.426      1.746      0.081      -0.091       1.579\n",
       "Lead_Source_Organic Search                          -0.5537      0.422     -1.313      0.189      -1.380       0.273\n",
       "Lead_Source_Reference                               -1.6617      1.081     -1.537      0.124      -3.781       0.458\n",
       "Lead_Source_Welingak Website                         2.4129      1.450      1.664      0.096      -0.429       5.255\n",
       "Last_Activity_Converted to Lead                     -0.8240      0.388     -2.126      0.033      -1.584      -0.064\n",
       "Last_Activity_Email Bounced                         -1.4464      0.566     -2.556      0.011      -2.556      -0.337\n",
       "Last_Activity_Email Link Clicked                    -0.3773      0.403     -0.937      0.349      -1.167       0.412\n",
       "Last_Activity_Email Opened                           0.0520      0.284      0.183      0.855      -0.504       0.608\n",
       "Last_Activity_Olark Chat Conversation               -1.2638      0.342     -3.695      0.000      -1.934      -0.593\n",
       "Last_Activity_Page Visited on Website               -0.6448      0.345     -1.870      0.062      -1.321       0.031\n",
       "Last_Activity_SMS Sent                               1.4787      0.283      5.234      0.000       0.925       2.032\n",
       "Specialization_Banking, Investment And Insurance     0.1322      0.324      0.408      0.683      -0.502       0.767\n",
       "Specialization_Business Administration               0.0619      0.297      0.209      0.835      -0.519       0.643\n",
       "Specialization_Business Specializations              0.0616      0.325      0.190      0.850      -0.575       0.698\n",
       "Specialization_E-COMMERCE                            0.6087      0.475      1.281      0.200      -0.322       1.540\n",
       "Specialization_Management Specializations            0.0265      0.201      0.132      0.895      -0.367       0.420\n",
       "Specialization_Media and Advertising                -0.0745      0.388     -0.192      0.848      -0.835       0.686\n",
       "Specialization_Services Excellence                  -0.3948      0.775     -0.509      0.611      -1.915       1.125\n",
       "Specialization_Travel and Tourism                   -0.8540      0.436     -1.958      0.050      -1.709       0.001\n",
       "Occupation_Not Specified                            -2.3257      0.827     -2.811      0.005      -3.947      -0.704\n",
       "Occupation_Student                                  -0.2625      0.937     -0.280      0.779      -2.099       1.574\n",
       "Occupation_Unemployed                               -0.4708      0.820     -0.574      0.566      -2.079       1.137\n",
       "Occupation_Working Professional                      0.1809      0.861      0.210      0.834      -1.507       1.869\n",
       "Tags_Already a student                              -4.4903      0.615     -7.305      0.000      -5.695      -3.286\n",
       "Tags_Closed by Horizzon                              4.6570      0.755      6.167      0.000       3.177       6.137\n",
       "Tags_Interested in Next batch                       19.8909   1.57e+04      0.001      0.999   -3.07e+04    3.08e+04\n",
       "Tags_Interested in other courses                    -3.8128      0.428     -8.914      0.000      -4.651      -2.974\n",
       "Tags_Other Tags                                     -1.1479      0.156     -7.335      0.000      -1.455      -0.841\n",
       "Tags_Ringing                                        -4.0813      0.251    -16.228      0.000      -4.574      -3.588\n",
       "Tags_Still Thinking                                 -1.9945      1.318     -1.513      0.130      -4.578       0.589\n",
       "Tags_Will revert after reading the email             2.8673      0.208     13.812      0.000       2.460       3.274\n",
       "====================================================================================================================\n",
       "\"\"\""
      ]
     },
     "execution_count": 86,
     "metadata": {},
     "output_type": "execute_result"
    }
   ],
   "source": [
    "# Model 1: Model building using statsmodels\n",
    "# Logistic regression model\n",
    "\n",
    "logm1 = sm.GLM(y_train,(sm.add_constant(X_train)), family = sm.families.Binomial())\n",
    "logm1.fit().summary()"
   ]
  },
  {
   "cell_type": "markdown",
   "id": "0b4289af",
   "metadata": {},
   "source": [
    "# 12. Feature Selection - RFE"
   ]
  },
  {
   "cell_type": "code",
   "execution_count": 87,
   "id": "6d79158c",
   "metadata": {},
   "outputs": [],
   "source": [
    "# Logistic Regression\n",
    "logreg = LogisticRegression()\n",
    "\n",
    "rfe = RFE(logreg, n_features_to_select=20)             \n",
    "rfe = rfe.fit(X_train, y_train)"
   ]
  },
  {
   "cell_type": "code",
   "execution_count": 88,
   "id": "31dc80b3",
   "metadata": {},
   "outputs": [
    {
     "data": {
      "text/plain": [
       "[('Do Not Email', True, 1),\n",
       " ('TotalVisits', False, 12),\n",
       " ('Total Time Spent on Website', True, 1),\n",
       " ('Page Views Per Visit', False, 11),\n",
       " ('A free copy of Mastering The Interview', False, 18),\n",
       " ('Lead_Origin_API', False, 5),\n",
       " ('Lead_Origin_Landing Page Submission', False, 4),\n",
       " ('Lead_Origin_Lead Add Form', True, 1),\n",
       " ('Lead_Origin_Lead Import', False, 3),\n",
       " ('Lead_Source_Direct Traffic', False, 14),\n",
       " ('Lead_Source_Google', False, 15),\n",
       " ('Lead_Source_Olark Chat', True, 1),\n",
       " ('Lead_Source_Organic Search', False, 9),\n",
       " ('Lead_Source_Reference', True, 1),\n",
       " ('Lead_Source_Welingak Website', True, 1),\n",
       " ('Last_Activity_Converted to Lead', True, 1),\n",
       " ('Last_Activity_Email Bounced', True, 1),\n",
       " ('Last_Activity_Email Link Clicked', False, 10),\n",
       " ('Last_Activity_Email Opened', False, 13),\n",
       " ('Last_Activity_Olark Chat Conversation', True, 1),\n",
       " ('Last_Activity_Page Visited on Website', False, 2),\n",
       " ('Last_Activity_SMS Sent', True, 1),\n",
       " ('Specialization_Banking, Investment And Insurance', False, 16),\n",
       " ('Specialization_Business Administration', False, 22),\n",
       " ('Specialization_Business Specializations', False, 21),\n",
       " ('Specialization_E-COMMERCE', False, 6),\n",
       " ('Specialization_Management Specializations', False, 23),\n",
       " ('Specialization_Media and Advertising', False, 17),\n",
       " ('Specialization_Services Excellence', False, 8),\n",
       " ('Specialization_Travel and Tourism', True, 1),\n",
       " ('Occupation_Not Specified', True, 1),\n",
       " ('Occupation_Student', False, 20),\n",
       " ('Occupation_Unemployed', False, 19),\n",
       " ('Occupation_Working Professional', True, 1),\n",
       " ('Tags_Already a student', True, 1),\n",
       " ('Tags_Closed by Horizzon', True, 1),\n",
       " ('Tags_Interested in Next batch', False, 7),\n",
       " ('Tags_Interested in other courses', True, 1),\n",
       " ('Tags_Other Tags', True, 1),\n",
       " ('Tags_Ringing', True, 1),\n",
       " ('Tags_Still Thinking', True, 1),\n",
       " ('Tags_Will revert after reading the email', True, 1)]"
      ]
     },
     "execution_count": 88,
     "metadata": {},
     "output_type": "execute_result"
    }
   ],
   "source": [
    "list(zip(X_train.columns, rfe.support_, rfe.ranking_))"
   ]
  },
  {
   "cell_type": "code",
   "execution_count": 89,
   "id": "42f63904",
   "metadata": {},
   "outputs": [
    {
     "data": {
      "text/plain": [
       "Index(['Do Not Email', 'Total Time Spent on Website',\n",
       "       'Lead_Origin_Lead Add Form', 'Lead_Source_Olark Chat',\n",
       "       'Lead_Source_Reference', 'Lead_Source_Welingak Website',\n",
       "       'Last_Activity_Converted to Lead', 'Last_Activity_Email Bounced',\n",
       "       'Last_Activity_Olark Chat Conversation', 'Last_Activity_SMS Sent',\n",
       "       'Specialization_Travel and Tourism', 'Occupation_Not Specified',\n",
       "       'Occupation_Working Professional', 'Tags_Already a student',\n",
       "       'Tags_Closed by Horizzon', 'Tags_Interested in other courses',\n",
       "       'Tags_Other Tags', 'Tags_Ringing', 'Tags_Still Thinking',\n",
       "       'Tags_Will revert after reading the email'],\n",
       "      dtype='object')"
      ]
     },
     "execution_count": 89,
     "metadata": {},
     "output_type": "execute_result"
    }
   ],
   "source": [
    "# Selected Variables\n",
    "col = X_train.columns[rfe.support_]\n",
    "col"
   ]
  },
  {
   "cell_type": "code",
   "execution_count": 90,
   "id": "43fd292b",
   "metadata": {},
   "outputs": [
    {
     "data": {
      "text/plain": [
       "Index(['TotalVisits', 'Page Views Per Visit',\n",
       "       'A free copy of Mastering The Interview', 'Lead_Origin_API',\n",
       "       'Lead_Origin_Landing Page Submission', 'Lead_Origin_Lead Import',\n",
       "       'Lead_Source_Direct Traffic', 'Lead_Source_Google',\n",
       "       'Lead_Source_Organic Search', 'Last_Activity_Email Link Clicked',\n",
       "       'Last_Activity_Email Opened', 'Last_Activity_Page Visited on Website',\n",
       "       'Specialization_Banking, Investment And Insurance',\n",
       "       'Specialization_Business Administration',\n",
       "       'Specialization_Business Specializations', 'Specialization_E-COMMERCE',\n",
       "       'Specialization_Management Specializations',\n",
       "       'Specialization_Media and Advertising',\n",
       "       'Specialization_Services Excellence', 'Occupation_Student',\n",
       "       'Occupation_Unemployed', 'Tags_Interested in Next batch'],\n",
       "      dtype='object')"
      ]
     },
     "execution_count": 90,
     "metadata": {},
     "output_type": "execute_result"
    }
   ],
   "source": [
    "X_train.columns[~rfe.support_]"
   ]
  },
  {
   "cell_type": "code",
   "execution_count": 91,
   "id": "2f4d8814",
   "metadata": {},
   "outputs": [
    {
     "data": {
      "text/html": [
       "<table class=\"simpletable\">\n",
       "<caption>Generalized Linear Model Regression Results</caption>\n",
       "<tr>\n",
       "  <th>Dep. Variable:</th>       <td>Converted</td>    <th>  No. Observations:  </th>  <td>  6363</td> \n",
       "</tr>\n",
       "<tr>\n",
       "  <th>Model:</th>                  <td>GLM</td>       <th>  Df Residuals:      </th>  <td>  6342</td> \n",
       "</tr>\n",
       "<tr>\n",
       "  <th>Model Family:</th>        <td>Binomial</td>     <th>  Df Model:          </th>  <td>    20</td> \n",
       "</tr>\n",
       "<tr>\n",
       "  <th>Link Function:</th>         <td>Logit</td>      <th>  Scale:             </th> <td>  1.0000</td>\n",
       "</tr>\n",
       "<tr>\n",
       "  <th>Method:</th>                <td>IRLS</td>       <th>  Log-Likelihood:    </th> <td> -1454.0</td>\n",
       "</tr>\n",
       "<tr>\n",
       "  <th>Date:</th>            <td>Tue, 24 Jan 2023</td> <th>  Deviance:          </th> <td>  2907.9</td>\n",
       "</tr>\n",
       "<tr>\n",
       "  <th>Time:</th>                <td>02:09:06</td>     <th>  Pearson chi2:      </th> <td>7.38e+03</td>\n",
       "</tr>\n",
       "<tr>\n",
       "  <th>No. Iterations:</th>          <td>8</td>        <th>  Pseudo R-squ. (CS):</th>  <td>0.5822</td> \n",
       "</tr>\n",
       "<tr>\n",
       "  <th>Covariance Type:</th>     <td>nonrobust</td>    <th>                     </th>     <td> </td>   \n",
       "</tr>\n",
       "</table>\n",
       "<table class=\"simpletable\">\n",
       "<tr>\n",
       "                      <td></td>                        <th>coef</th>     <th>std err</th>      <th>z</th>      <th>P>|z|</th>  <th>[0.025</th>    <th>0.975]</th>  \n",
       "</tr>\n",
       "<tr>\n",
       "  <th>const</th>                                    <td>   -0.4710</td> <td>    0.134</td> <td>   -3.503</td> <td> 0.000</td> <td>   -0.735</td> <td>   -0.207</td>\n",
       "</tr>\n",
       "<tr>\n",
       "  <th>Do Not Email</th>                             <td>   -1.1920</td> <td>    0.245</td> <td>   -4.869</td> <td> 0.000</td> <td>   -1.672</td> <td>   -0.712</td>\n",
       "</tr>\n",
       "<tr>\n",
       "  <th>Total Time Spent on Website</th>              <td>    1.0823</td> <td>    0.055</td> <td>   19.639</td> <td> 0.000</td> <td>    0.974</td> <td>    1.190</td>\n",
       "</tr>\n",
       "<tr>\n",
       "  <th>Lead_Origin_Lead Add Form</th>                <td>    2.9400</td> <td>    0.962</td> <td>    3.055</td> <td> 0.002</td> <td>    1.054</td> <td>    4.826</td>\n",
       "</tr>\n",
       "<tr>\n",
       "  <th>Lead_Source_Olark Chat</th>                   <td>    1.2260</td> <td>    0.143</td> <td>    8.580</td> <td> 0.000</td> <td>    0.946</td> <td>    1.506</td>\n",
       "</tr>\n",
       "<tr>\n",
       "  <th>Lead_Source_Reference</th>                    <td>   -1.4323</td> <td>    1.012</td> <td>   -1.415</td> <td> 0.157</td> <td>   -3.416</td> <td>    0.551</td>\n",
       "</tr>\n",
       "<tr>\n",
       "  <th>Lead_Source_Welingak Website</th>             <td>    2.4983</td> <td>    1.402</td> <td>    1.781</td> <td> 0.075</td> <td>   -0.250</td> <td>    5.247</td>\n",
       "</tr>\n",
       "<tr>\n",
       "  <th>Last_Activity_Converted to Lead</th>          <td>   -0.7594</td> <td>    0.278</td> <td>   -2.731</td> <td> 0.006</td> <td>   -1.304</td> <td>   -0.214</td>\n",
       "</tr>\n",
       "<tr>\n",
       "  <th>Last_Activity_Email Bounced</th>              <td>   -1.3584</td> <td>    0.497</td> <td>   -2.732</td> <td> 0.006</td> <td>   -2.333</td> <td>   -0.384</td>\n",
       "</tr>\n",
       "<tr>\n",
       "  <th>Last_Activity_Olark Chat Conversation</th>    <td>   -1.1761</td> <td>    0.208</td> <td>   -5.654</td> <td> 0.000</td> <td>   -1.584</td> <td>   -0.768</td>\n",
       "</tr>\n",
       "<tr>\n",
       "  <th>Last_Activity_SMS Sent</th>                   <td>    1.4768</td> <td>    0.108</td> <td>   13.703</td> <td> 0.000</td> <td>    1.266</td> <td>    1.688</td>\n",
       "</tr>\n",
       "<tr>\n",
       "  <th>Specialization_Travel and Tourism</th>        <td>   -1.0833</td> <td>    0.378</td> <td>   -2.868</td> <td> 0.004</td> <td>   -1.824</td> <td>   -0.343</td>\n",
       "</tr>\n",
       "<tr>\n",
       "  <th>Occupation_Not Specified</th>                 <td>   -1.9184</td> <td>    0.139</td> <td>  -13.808</td> <td> 0.000</td> <td>   -2.191</td> <td>   -1.646</td>\n",
       "</tr>\n",
       "<tr>\n",
       "  <th>Occupation_Working Professional</th>          <td>    0.6178</td> <td>    0.290</td> <td>    2.130</td> <td> 0.033</td> <td>    0.049</td> <td>    1.186</td>\n",
       "</tr>\n",
       "<tr>\n",
       "  <th>Tags_Already a student</th>                   <td>   -4.4856</td> <td>    0.605</td> <td>   -7.416</td> <td> 0.000</td> <td>   -5.671</td> <td>   -3.300</td>\n",
       "</tr>\n",
       "<tr>\n",
       "  <th>Tags_Closed by Horizzon</th>                  <td>    4.5336</td> <td>    0.742</td> <td>    6.113</td> <td> 0.000</td> <td>    3.080</td> <td>    5.987</td>\n",
       "</tr>\n",
       "<tr>\n",
       "  <th>Tags_Interested in other courses</th>         <td>   -3.8723</td> <td>    0.423</td> <td>   -9.165</td> <td> 0.000</td> <td>   -4.700</td> <td>   -3.044</td>\n",
       "</tr>\n",
       "<tr>\n",
       "  <th>Tags_Other Tags</th>                          <td>   -1.2665</td> <td>    0.150</td> <td>   -8.464</td> <td> 0.000</td> <td>   -1.560</td> <td>   -0.973</td>\n",
       "</tr>\n",
       "<tr>\n",
       "  <th>Tags_Ringing</th>                             <td>   -4.1572</td> <td>    0.248</td> <td>  -16.777</td> <td> 0.000</td> <td>   -4.643</td> <td>   -3.672</td>\n",
       "</tr>\n",
       "<tr>\n",
       "  <th>Tags_Still Thinking</th>                      <td>   -2.2238</td> <td>    1.271</td> <td>   -1.750</td> <td> 0.080</td> <td>   -4.714</td> <td>    0.266</td>\n",
       "</tr>\n",
       "<tr>\n",
       "  <th>Tags_Will revert after reading the email</th> <td>    2.7593</td> <td>    0.197</td> <td>   13.988</td> <td> 0.000</td> <td>    2.373</td> <td>    3.146</td>\n",
       "</tr>\n",
       "</table>"
      ],
      "text/plain": [
       "<class 'statsmodels.iolib.summary.Summary'>\n",
       "\"\"\"\n",
       "                 Generalized Linear Model Regression Results                  \n",
       "==============================================================================\n",
       "Dep. Variable:              Converted   No. Observations:                 6363\n",
       "Model:                            GLM   Df Residuals:                     6342\n",
       "Model Family:                Binomial   Df Model:                           20\n",
       "Link Function:                  Logit   Scale:                          1.0000\n",
       "Method:                          IRLS   Log-Likelihood:                -1454.0\n",
       "Date:                Tue, 24 Jan 2023   Deviance:                       2907.9\n",
       "Time:                        02:09:06   Pearson chi2:                 7.38e+03\n",
       "No. Iterations:                     8   Pseudo R-squ. (CS):             0.5822\n",
       "Covariance Type:            nonrobust                                         \n",
       "============================================================================================================\n",
       "                                               coef    std err          z      P>|z|      [0.025      0.975]\n",
       "------------------------------------------------------------------------------------------------------------\n",
       "const                                       -0.4710      0.134     -3.503      0.000      -0.735      -0.207\n",
       "Do Not Email                                -1.1920      0.245     -4.869      0.000      -1.672      -0.712\n",
       "Total Time Spent on Website                  1.0823      0.055     19.639      0.000       0.974       1.190\n",
       "Lead_Origin_Lead Add Form                    2.9400      0.962      3.055      0.002       1.054       4.826\n",
       "Lead_Source_Olark Chat                       1.2260      0.143      8.580      0.000       0.946       1.506\n",
       "Lead_Source_Reference                       -1.4323      1.012     -1.415      0.157      -3.416       0.551\n",
       "Lead_Source_Welingak Website                 2.4983      1.402      1.781      0.075      -0.250       5.247\n",
       "Last_Activity_Converted to Lead             -0.7594      0.278     -2.731      0.006      -1.304      -0.214\n",
       "Last_Activity_Email Bounced                 -1.3584      0.497     -2.732      0.006      -2.333      -0.384\n",
       "Last_Activity_Olark Chat Conversation       -1.1761      0.208     -5.654      0.000      -1.584      -0.768\n",
       "Last_Activity_SMS Sent                       1.4768      0.108     13.703      0.000       1.266       1.688\n",
       "Specialization_Travel and Tourism           -1.0833      0.378     -2.868      0.004      -1.824      -0.343\n",
       "Occupation_Not Specified                    -1.9184      0.139    -13.808      0.000      -2.191      -1.646\n",
       "Occupation_Working Professional              0.6178      0.290      2.130      0.033       0.049       1.186\n",
       "Tags_Already a student                      -4.4856      0.605     -7.416      0.000      -5.671      -3.300\n",
       "Tags_Closed by Horizzon                      4.5336      0.742      6.113      0.000       3.080       5.987\n",
       "Tags_Interested in other courses            -3.8723      0.423     -9.165      0.000      -4.700      -3.044\n",
       "Tags_Other Tags                             -1.2665      0.150     -8.464      0.000      -1.560      -0.973\n",
       "Tags_Ringing                                -4.1572      0.248    -16.777      0.000      -4.643      -3.672\n",
       "Tags_Still Thinking                         -2.2238      1.271     -1.750      0.080      -4.714       0.266\n",
       "Tags_Will revert after reading the email     2.7593      0.197     13.988      0.000       2.373       3.146\n",
       "============================================================================================================\n",
       "\"\"\""
      ]
     },
     "execution_count": 91,
     "metadata": {},
     "output_type": "execute_result"
    }
   ],
   "source": [
    "# Model 2 using statsmodels\n",
    "\n",
    "X_train_sm = sm.add_constant(X_train[col])\n",
    "\n",
    "logm2 = sm.GLM(y_train, X_train_sm, family= sm.families.Binomial())\n",
    "res = logm2.fit()\n",
    "res.summary()"
   ]
  },
  {
   "cell_type": "code",
   "execution_count": 92,
   "id": "24b94eb4",
   "metadata": {},
   "outputs": [
    {
     "data": {
      "text/plain": [
       "Index(['Do Not Email', 'Total Time Spent on Website',\n",
       "       'Lead_Origin_Lead Add Form', 'Lead_Source_Olark Chat',\n",
       "       'Last_Activity_Converted to Lead', 'Last_Activity_Email Bounced',\n",
       "       'Last_Activity_Olark Chat Conversation', 'Last_Activity_SMS Sent',\n",
       "       'Specialization_Travel and Tourism', 'Occupation_Not Specified',\n",
       "       'Occupation_Working Professional', 'Tags_Already a student',\n",
       "       'Tags_Closed by Horizzon', 'Tags_Interested in other courses',\n",
       "       'Tags_Other Tags', 'Tags_Ringing', 'Tags_Still Thinking',\n",
       "       'Tags_Will revert after reading the email'],\n",
       "      dtype='object')"
      ]
     },
     "execution_count": 92,
     "metadata": {},
     "output_type": "execute_result"
    }
   ],
   "source": [
    "# Dropping the variables with p-values greater than 0.05\n",
    "col = col.drop(['Lead_Source_Reference', 'Lead_Source_Welingak Website'])\n",
    "col"
   ]
  },
  {
   "cell_type": "code",
   "execution_count": 93,
   "id": "74d8a121",
   "metadata": {},
   "outputs": [
    {
     "data": {
      "text/html": [
       "<table class=\"simpletable\">\n",
       "<caption>Generalized Linear Model Regression Results</caption>\n",
       "<tr>\n",
       "  <th>Dep. Variable:</th>       <td>Converted</td>    <th>  No. Observations:  </th>  <td>  6363</td> \n",
       "</tr>\n",
       "<tr>\n",
       "  <th>Model:</th>                  <td>GLM</td>       <th>  Df Residuals:      </th>  <td>  6344</td> \n",
       "</tr>\n",
       "<tr>\n",
       "  <th>Model Family:</th>        <td>Binomial</td>     <th>  Df Model:          </th>  <td>    18</td> \n",
       "</tr>\n",
       "<tr>\n",
       "  <th>Link Function:</th>         <td>Logit</td>      <th>  Scale:             </th> <td>  1.0000</td>\n",
       "</tr>\n",
       "<tr>\n",
       "  <th>Method:</th>                <td>IRLS</td>       <th>  Log-Likelihood:    </th> <td> -1468.4</td>\n",
       "</tr>\n",
       "<tr>\n",
       "  <th>Date:</th>            <td>Tue, 24 Jan 2023</td> <th>  Deviance:          </th> <td>  2936.8</td>\n",
       "</tr>\n",
       "<tr>\n",
       "  <th>Time:</th>                <td>02:09:06</td>     <th>  Pearson chi2:      </th> <td>8.47e+03</td>\n",
       "</tr>\n",
       "<tr>\n",
       "  <th>No. Iterations:</th>          <td>8</td>        <th>  Pseudo R-squ. (CS):</th>  <td>0.5803</td> \n",
       "</tr>\n",
       "<tr>\n",
       "  <th>Covariance Type:</th>     <td>nonrobust</td>    <th>                     </th>     <td> </td>   \n",
       "</tr>\n",
       "</table>\n",
       "<table class=\"simpletable\">\n",
       "<tr>\n",
       "                      <td></td>                        <th>coef</th>     <th>std err</th>      <th>z</th>      <th>P>|z|</th>  <th>[0.025</th>    <th>0.975]</th>  \n",
       "</tr>\n",
       "<tr>\n",
       "  <th>const</th>                                    <td>   -0.3737</td> <td>    0.132</td> <td>   -2.820</td> <td> 0.005</td> <td>   -0.633</td> <td>   -0.114</td>\n",
       "</tr>\n",
       "<tr>\n",
       "  <th>Do Not Email</th>                             <td>   -1.1647</td> <td>    0.240</td> <td>   -4.858</td> <td> 0.000</td> <td>   -1.635</td> <td>   -0.695</td>\n",
       "</tr>\n",
       "<tr>\n",
       "  <th>Total Time Spent on Website</th>              <td>    1.0784</td> <td>    0.055</td> <td>   19.578</td> <td> 0.000</td> <td>    0.970</td> <td>    1.186</td>\n",
       "</tr>\n",
       "<tr>\n",
       "  <th>Lead_Origin_Lead Add Form</th>                <td>    2.6995</td> <td>    0.273</td> <td>    9.877</td> <td> 0.000</td> <td>    2.164</td> <td>    3.235</td>\n",
       "</tr>\n",
       "<tr>\n",
       "  <th>Lead_Source_Olark Chat</th>                   <td>    1.1952</td> <td>    0.143</td> <td>    8.383</td> <td> 0.000</td> <td>    0.916</td> <td>    1.475</td>\n",
       "</tr>\n",
       "<tr>\n",
       "  <th>Last_Activity_Converted to Lead</th>          <td>   -0.7562</td> <td>    0.276</td> <td>   -2.741</td> <td> 0.006</td> <td>   -1.297</td> <td>   -0.216</td>\n",
       "</tr>\n",
       "<tr>\n",
       "  <th>Last_Activity_Email Bounced</th>              <td>   -1.2827</td> <td>    0.484</td> <td>   -2.653</td> <td> 0.008</td> <td>   -2.230</td> <td>   -0.335</td>\n",
       "</tr>\n",
       "<tr>\n",
       "  <th>Last_Activity_Olark Chat Conversation</th>    <td>   -1.1753</td> <td>    0.207</td> <td>   -5.668</td> <td> 0.000</td> <td>   -1.582</td> <td>   -0.769</td>\n",
       "</tr>\n",
       "<tr>\n",
       "  <th>Last_Activity_SMS Sent</th>                   <td>    1.4720</td> <td>    0.107</td> <td>   13.723</td> <td> 0.000</td> <td>    1.262</td> <td>    1.682</td>\n",
       "</tr>\n",
       "<tr>\n",
       "  <th>Specialization_Travel and Tourism</th>        <td>   -1.0635</td> <td>    0.374</td> <td>   -2.845</td> <td> 0.004</td> <td>   -1.796</td> <td>   -0.331</td>\n",
       "</tr>\n",
       "<tr>\n",
       "  <th>Occupation_Not Specified</th>                 <td>   -2.0047</td> <td>    0.138</td> <td>  -14.537</td> <td> 0.000</td> <td>   -2.275</td> <td>   -1.734</td>\n",
       "</tr>\n",
       "<tr>\n",
       "  <th>Occupation_Working Professional</th>          <td>    0.4884</td> <td>    0.287</td> <td>    1.700</td> <td> 0.089</td> <td>   -0.075</td> <td>    1.051</td>\n",
       "</tr>\n",
       "<tr>\n",
       "  <th>Tags_Already a student</th>                   <td>   -4.5711</td> <td>    0.604</td> <td>   -7.564</td> <td> 0.000</td> <td>   -5.756</td> <td>   -3.387</td>\n",
       "</tr>\n",
       "<tr>\n",
       "  <th>Tags_Closed by Horizzon</th>                  <td>    4.2341</td> <td>    0.742</td> <td>    5.706</td> <td> 0.000</td> <td>    2.780</td> <td>    5.688</td>\n",
       "</tr>\n",
       "<tr>\n",
       "  <th>Tags_Interested in other courses</th>         <td>   -4.0077</td> <td>    0.421</td> <td>   -9.523</td> <td> 0.000</td> <td>   -4.833</td> <td>   -3.183</td>\n",
       "</tr>\n",
       "<tr>\n",
       "  <th>Tags_Other Tags</th>                          <td>   -1.3663</td> <td>    0.148</td> <td>   -9.248</td> <td> 0.000</td> <td>   -1.656</td> <td>   -1.077</td>\n",
       "</tr>\n",
       "<tr>\n",
       "  <th>Tags_Ringing</th>                             <td>   -4.3112</td> <td>    0.246</td> <td>  -17.539</td> <td> 0.000</td> <td>   -4.793</td> <td>   -3.829</td>\n",
       "</tr>\n",
       "<tr>\n",
       "  <th>Tags_Still Thinking</th>                      <td>   -2.3224</td> <td>    1.271</td> <td>   -1.827</td> <td> 0.068</td> <td>   -4.814</td> <td>    0.170</td>\n",
       "</tr>\n",
       "<tr>\n",
       "  <th>Tags_Will revert after reading the email</th> <td>    2.6092</td> <td>    0.195</td> <td>   13.395</td> <td> 0.000</td> <td>    2.227</td> <td>    2.991</td>\n",
       "</tr>\n",
       "</table>"
      ],
      "text/plain": [
       "<class 'statsmodels.iolib.summary.Summary'>\n",
       "\"\"\"\n",
       "                 Generalized Linear Model Regression Results                  \n",
       "==============================================================================\n",
       "Dep. Variable:              Converted   No. Observations:                 6363\n",
       "Model:                            GLM   Df Residuals:                     6344\n",
       "Model Family:                Binomial   Df Model:                           18\n",
       "Link Function:                  Logit   Scale:                          1.0000\n",
       "Method:                          IRLS   Log-Likelihood:                -1468.4\n",
       "Date:                Tue, 24 Jan 2023   Deviance:                       2936.8\n",
       "Time:                        02:09:06   Pearson chi2:                 8.47e+03\n",
       "No. Iterations:                     8   Pseudo R-squ. (CS):             0.5803\n",
       "Covariance Type:            nonrobust                                         \n",
       "============================================================================================================\n",
       "                                               coef    std err          z      P>|z|      [0.025      0.975]\n",
       "------------------------------------------------------------------------------------------------------------\n",
       "const                                       -0.3737      0.132     -2.820      0.005      -0.633      -0.114\n",
       "Do Not Email                                -1.1647      0.240     -4.858      0.000      -1.635      -0.695\n",
       "Total Time Spent on Website                  1.0784      0.055     19.578      0.000       0.970       1.186\n",
       "Lead_Origin_Lead Add Form                    2.6995      0.273      9.877      0.000       2.164       3.235\n",
       "Lead_Source_Olark Chat                       1.1952      0.143      8.383      0.000       0.916       1.475\n",
       "Last_Activity_Converted to Lead             -0.7562      0.276     -2.741      0.006      -1.297      -0.216\n",
       "Last_Activity_Email Bounced                 -1.2827      0.484     -2.653      0.008      -2.230      -0.335\n",
       "Last_Activity_Olark Chat Conversation       -1.1753      0.207     -5.668      0.000      -1.582      -0.769\n",
       "Last_Activity_SMS Sent                       1.4720      0.107     13.723      0.000       1.262       1.682\n",
       "Specialization_Travel and Tourism           -1.0635      0.374     -2.845      0.004      -1.796      -0.331\n",
       "Occupation_Not Specified                    -2.0047      0.138    -14.537      0.000      -2.275      -1.734\n",
       "Occupation_Working Professional              0.4884      0.287      1.700      0.089      -0.075       1.051\n",
       "Tags_Already a student                      -4.5711      0.604     -7.564      0.000      -5.756      -3.387\n",
       "Tags_Closed by Horizzon                      4.2341      0.742      5.706      0.000       2.780       5.688\n",
       "Tags_Interested in other courses            -4.0077      0.421     -9.523      0.000      -4.833      -3.183\n",
       "Tags_Other Tags                             -1.3663      0.148     -9.248      0.000      -1.656      -1.077\n",
       "Tags_Ringing                                -4.3112      0.246    -17.539      0.000      -4.793      -3.829\n",
       "Tags_Still Thinking                         -2.3224      1.271     -1.827      0.068      -4.814       0.170\n",
       "Tags_Will revert after reading the email     2.6092      0.195     13.395      0.000       2.227       2.991\n",
       "============================================================================================================\n",
       "\"\"\""
      ]
     },
     "execution_count": 93,
     "metadata": {},
     "output_type": "execute_result"
    }
   ],
   "source": [
    "# Model 3 \n",
    "\n",
    "X_train_sm = sm.add_constant(X_train[col])\n",
    "\n",
    "logm3 = sm.GLM(y_train, X_train_sm, family= sm.families.Binomial())\n",
    "res = logm3.fit()\n",
    "res.summary()"
   ]
  },
  {
   "cell_type": "code",
   "execution_count": 94,
   "id": "9dc528dd",
   "metadata": {},
   "outputs": [
    {
     "data": {
      "text/html": [
       "<div>\n",
       "<style scoped>\n",
       "    .dataframe tbody tr th:only-of-type {\n",
       "        vertical-align: middle;\n",
       "    }\n",
       "\n",
       "    .dataframe tbody tr th {\n",
       "        vertical-align: top;\n",
       "    }\n",
       "\n",
       "    .dataframe thead th {\n",
       "        text-align: right;\n",
       "    }\n",
       "</style>\n",
       "<table border=\"1\" class=\"dataframe\">\n",
       "  <thead>\n",
       "    <tr style=\"text-align: right;\">\n",
       "      <th></th>\n",
       "      <th>Features</th>\n",
       "      <th>VIF</th>\n",
       "    </tr>\n",
       "  </thead>\n",
       "  <tbody>\n",
       "    <tr>\n",
       "      <th>17</th>\n",
       "      <td>Tags_Will revert after reading the email</td>\n",
       "      <td>1.81</td>\n",
       "    </tr>\n",
       "    <tr>\n",
       "      <th>0</th>\n",
       "      <td>Do Not Email</td>\n",
       "      <td>1.78</td>\n",
       "    </tr>\n",
       "    <tr>\n",
       "      <th>3</th>\n",
       "      <td>Lead_Source_Olark Chat</td>\n",
       "      <td>1.73</td>\n",
       "    </tr>\n",
       "    <tr>\n",
       "      <th>5</th>\n",
       "      <td>Last_Activity_Email Bounced</td>\n",
       "      <td>1.71</td>\n",
       "    </tr>\n",
       "    <tr>\n",
       "      <th>7</th>\n",
       "      <td>Last_Activity_SMS Sent</td>\n",
       "      <td>1.61</td>\n",
       "    </tr>\n",
       "    <tr>\n",
       "      <th>6</th>\n",
       "      <td>Last_Activity_Olark Chat Conversation</td>\n",
       "      <td>1.49</td>\n",
       "    </tr>\n",
       "    <tr>\n",
       "      <th>2</th>\n",
       "      <td>Lead_Origin_Lead Add Form</td>\n",
       "      <td>1.46</td>\n",
       "    </tr>\n",
       "    <tr>\n",
       "      <th>9</th>\n",
       "      <td>Occupation_Not Specified</td>\n",
       "      <td>1.43</td>\n",
       "    </tr>\n",
       "    <tr>\n",
       "      <th>1</th>\n",
       "      <td>Total Time Spent on Website</td>\n",
       "      <td>1.36</td>\n",
       "    </tr>\n",
       "    <tr>\n",
       "      <th>10</th>\n",
       "      <td>Occupation_Working Professional</td>\n",
       "      <td>1.33</td>\n",
       "    </tr>\n",
       "    <tr>\n",
       "      <th>12</th>\n",
       "      <td>Tags_Closed by Horizzon</td>\n",
       "      <td>1.26</td>\n",
       "    </tr>\n",
       "    <tr>\n",
       "      <th>14</th>\n",
       "      <td>Tags_Other Tags</td>\n",
       "      <td>1.15</td>\n",
       "    </tr>\n",
       "    <tr>\n",
       "      <th>15</th>\n",
       "      <td>Tags_Ringing</td>\n",
       "      <td>1.12</td>\n",
       "    </tr>\n",
       "    <tr>\n",
       "      <th>4</th>\n",
       "      <td>Last_Activity_Converted to Lead</td>\n",
       "      <td>1.11</td>\n",
       "    </tr>\n",
       "    <tr>\n",
       "      <th>11</th>\n",
       "      <td>Tags_Already a student</td>\n",
       "      <td>1.07</td>\n",
       "    </tr>\n",
       "    <tr>\n",
       "      <th>13</th>\n",
       "      <td>Tags_Interested in other courses</td>\n",
       "      <td>1.07</td>\n",
       "    </tr>\n",
       "    <tr>\n",
       "      <th>8</th>\n",
       "      <td>Specialization_Travel and Tourism</td>\n",
       "      <td>1.04</td>\n",
       "    </tr>\n",
       "    <tr>\n",
       "      <th>16</th>\n",
       "      <td>Tags_Still Thinking</td>\n",
       "      <td>1.00</td>\n",
       "    </tr>\n",
       "  </tbody>\n",
       "</table>\n",
       "</div>"
      ],
      "text/plain": [
       "                                    Features   VIF\n",
       "17  Tags_Will revert after reading the email  1.81\n",
       "0                               Do Not Email  1.78\n",
       "3                     Lead_Source_Olark Chat  1.73\n",
       "5                Last_Activity_Email Bounced  1.71\n",
       "7                     Last_Activity_SMS Sent  1.61\n",
       "6      Last_Activity_Olark Chat Conversation  1.49\n",
       "2                  Lead_Origin_Lead Add Form  1.46\n",
       "9                   Occupation_Not Specified  1.43\n",
       "1                Total Time Spent on Website  1.36\n",
       "10           Occupation_Working Professional  1.33\n",
       "12                   Tags_Closed by Horizzon  1.26\n",
       "14                           Tags_Other Tags  1.15\n",
       "15                              Tags_Ringing  1.12\n",
       "4            Last_Activity_Converted to Lead  1.11\n",
       "11                    Tags_Already a student  1.07\n",
       "13          Tags_Interested in other courses  1.07\n",
       "8          Specialization_Travel and Tourism  1.04\n",
       "16                       Tags_Still Thinking  1.00"
      ]
     },
     "execution_count": 94,
     "metadata": {},
     "output_type": "execute_result"
    }
   ],
   "source": [
    "# Checking VIFs\n",
    "# Create a dataframe that will contain the names of all the feature variables and their respective VIFs\n",
    "vif = pd.DataFrame()\n",
    "vif['Features'] = X_train[col].columns\n",
    "vif['VIF'] = [variance_inflation_factor(X_train[col].values, i) for i in range(X_train[col].shape[1])]\n",
    "vif['VIF'] = round(vif['VIF'], 2)\n",
    "vif = vif.sort_values(by = \"VIF\", ascending = False)\n",
    "vif"
   ]
  },
  {
   "cell_type": "code",
   "execution_count": 95,
   "id": "36cc9556",
   "metadata": {},
   "outputs": [
    {
     "data": {
      "text/plain": [
       "array([0.05516093, 0.01007602, 0.40111853, ..., 0.41829572, 0.75188426,\n",
       "       0.00289358])"
      ]
     },
     "execution_count": 95,
     "metadata": {},
     "output_type": "execute_result"
    }
   ],
   "source": [
    "# Predictions on the train set\n",
    "y_train_pred = res.predict(X_train_sm).values.reshape(-1)\n",
    "y_train_pred"
   ]
  },
  {
   "cell_type": "code",
   "execution_count": 96,
   "id": "4999ad7a",
   "metadata": {},
   "outputs": [
    {
     "data": {
      "text/html": [
       "<div>\n",
       "<style scoped>\n",
       "    .dataframe tbody tr th:only-of-type {\n",
       "        vertical-align: middle;\n",
       "    }\n",
       "\n",
       "    .dataframe tbody tr th {\n",
       "        vertical-align: top;\n",
       "    }\n",
       "\n",
       "    .dataframe thead th {\n",
       "        text-align: right;\n",
       "    }\n",
       "</style>\n",
       "<table border=\"1\" class=\"dataframe\">\n",
       "  <thead>\n",
       "    <tr style=\"text-align: right;\">\n",
       "      <th></th>\n",
       "      <th>Converted</th>\n",
       "      <th>Converted_Prob</th>\n",
       "      <th>Prospect ID</th>\n",
       "    </tr>\n",
       "  </thead>\n",
       "  <tbody>\n",
       "    <tr>\n",
       "      <th>0</th>\n",
       "      <td>0</td>\n",
       "      <td>0.055161</td>\n",
       "      <td>302</td>\n",
       "    </tr>\n",
       "    <tr>\n",
       "      <th>1</th>\n",
       "      <td>0</td>\n",
       "      <td>0.010076</td>\n",
       "      <td>6087</td>\n",
       "    </tr>\n",
       "    <tr>\n",
       "      <th>2</th>\n",
       "      <td>0</td>\n",
       "      <td>0.401119</td>\n",
       "      <td>1033</td>\n",
       "    </tr>\n",
       "    <tr>\n",
       "      <th>3</th>\n",
       "      <td>0</td>\n",
       "      <td>0.009583</td>\n",
       "      <td>7656</td>\n",
       "    </tr>\n",
       "    <tr>\n",
       "      <th>4</th>\n",
       "      <td>1</td>\n",
       "      <td>0.990765</td>\n",
       "      <td>3241</td>\n",
       "    </tr>\n",
       "  </tbody>\n",
       "</table>\n",
       "</div>"
      ],
      "text/plain": [
       "   Converted  Converted_Prob  Prospect ID\n",
       "0          0        0.055161          302\n",
       "1          0        0.010076         6087\n",
       "2          0        0.401119         1033\n",
       "3          0        0.009583         7656\n",
       "4          1        0.990765         3241"
      ]
     },
     "execution_count": 96,
     "metadata": {},
     "output_type": "execute_result"
    }
   ],
   "source": [
    "# Creating the DataFrame with Actual Converted and Predicted Probabilities\n",
    "y_train_pred_final = pd.DataFrame({'Converted': y_train.values, 'Converted_Prob': y_train_pred})\n",
    "y_train_pred_final['Prospect ID'] = y_train.index\n",
    "y_train_pred_final.head()"
   ]
  },
  {
   "cell_type": "code",
   "execution_count": 97,
   "id": "533ee116",
   "metadata": {},
   "outputs": [
    {
     "data": {
      "text/html": [
       "<div>\n",
       "<style scoped>\n",
       "    .dataframe tbody tr th:only-of-type {\n",
       "        vertical-align: middle;\n",
       "    }\n",
       "\n",
       "    .dataframe tbody tr th {\n",
       "        vertical-align: top;\n",
       "    }\n",
       "\n",
       "    .dataframe thead th {\n",
       "        text-align: right;\n",
       "    }\n",
       "</style>\n",
       "<table border=\"1\" class=\"dataframe\">\n",
       "  <thead>\n",
       "    <tr style=\"text-align: right;\">\n",
       "      <th></th>\n",
       "      <th>Converted</th>\n",
       "      <th>Converted_Prob</th>\n",
       "      <th>Prospect ID</th>\n",
       "      <th>Predicted</th>\n",
       "    </tr>\n",
       "  </thead>\n",
       "  <tbody>\n",
       "    <tr>\n",
       "      <th>0</th>\n",
       "      <td>0</td>\n",
       "      <td>0.055161</td>\n",
       "      <td>302</td>\n",
       "      <td>0</td>\n",
       "    </tr>\n",
       "    <tr>\n",
       "      <th>1</th>\n",
       "      <td>0</td>\n",
       "      <td>0.010076</td>\n",
       "      <td>6087</td>\n",
       "      <td>0</td>\n",
       "    </tr>\n",
       "    <tr>\n",
       "      <th>2</th>\n",
       "      <td>0</td>\n",
       "      <td>0.401119</td>\n",
       "      <td>1033</td>\n",
       "      <td>0</td>\n",
       "    </tr>\n",
       "    <tr>\n",
       "      <th>3</th>\n",
       "      <td>0</td>\n",
       "      <td>0.009583</td>\n",
       "      <td>7656</td>\n",
       "      <td>0</td>\n",
       "    </tr>\n",
       "    <tr>\n",
       "      <th>4</th>\n",
       "      <td>1</td>\n",
       "      <td>0.990765</td>\n",
       "      <td>3241</td>\n",
       "      <td>1</td>\n",
       "    </tr>\n",
       "  </tbody>\n",
       "</table>\n",
       "</div>"
      ],
      "text/plain": [
       "   Converted  Converted_Prob  Prospect ID  Predicted\n",
       "0          0        0.055161          302          0\n",
       "1          0        0.010076         6087          0\n",
       "2          0        0.401119         1033          0\n",
       "3          0        0.009583         7656          0\n",
       "4          1        0.990765         3241          1"
      ]
     },
     "execution_count": 97,
     "metadata": {},
     "output_type": "execute_result"
    }
   ],
   "source": [
    "# Making a new column Predicted with values which has Probability greater than 0.5\n",
    "y_train_pred_final['Predicted'] = y_train_pred_final.Converted_Prob.map(lambda x: 1 if x > 0.5 else 0)\n",
    "y_train_pred_final.head()"
   ]
  },
  {
   "cell_type": "code",
   "execution_count": 98,
   "id": "5c3175ad",
   "metadata": {},
   "outputs": [
    {
     "name": "stdout",
     "output_type": "stream",
     "text": [
      "0.9104196133899104\n"
     ]
    }
   ],
   "source": [
    "# Let's check the overall accuracy.\n",
    "print(metrics.accuracy_score(y_true= y_train_pred_final.Converted, y_pred= y_train_pred_final.Predicted))"
   ]
  },
  {
   "cell_type": "code",
   "execution_count": 99,
   "id": "f253dfef",
   "metadata": {},
   "outputs": [
    {
     "data": {
      "text/plain": [
       "array([[3749,  186],\n",
       "       [ 384, 2044]], dtype=int64)"
      ]
     },
     "execution_count": 99,
     "metadata": {},
     "output_type": "execute_result"
    }
   ],
   "source": [
    "# Let's take a look at the confusion matrix again \n",
    "confusion = metrics.confusion_matrix(y_true= y_train_pred_final.Converted, y_pred= y_train_pred_final.Predicted)\n",
    "confusion"
   ]
  },
  {
   "cell_type": "code",
   "execution_count": 100,
   "id": "ffcbd251",
   "metadata": {},
   "outputs": [],
   "source": [
    "# Actual/Predicted     Not_Converted    Converted\n",
    "    # Not_Converted        3749            186\n",
    "    # Converted            384             2044  "
   ]
  },
  {
   "cell_type": "markdown",
   "id": "0c595b50",
   "metadata": {},
   "source": [
    "##### Metrics beyond Simple Accuracy"
   ]
  },
  {
   "cell_type": "code",
   "execution_count": 101,
   "id": "66818ad8",
   "metadata": {},
   "outputs": [],
   "source": [
    "TP = confusion[1,1] # true positive \n",
    "TN = confusion[0,0] # true negatives\n",
    "FP = confusion[0,1] # false positives\n",
    "FN = confusion[1,0] # false negatives"
   ]
  },
  {
   "cell_type": "code",
   "execution_count": 102,
   "id": "fed246c9",
   "metadata": {},
   "outputs": [
    {
     "data": {
      "text/plain": [
       "0.841845140032949"
      ]
     },
     "execution_count": 102,
     "metadata": {},
     "output_type": "execute_result"
    }
   ],
   "source": [
    "# Sensitivity\n",
    "TP / float(TP+FN)"
   ]
  },
  {
   "cell_type": "code",
   "execution_count": 103,
   "id": "97cf5af1",
   "metadata": {},
   "outputs": [
    {
     "data": {
      "text/plain": [
       "0.9527318932655654"
      ]
     },
     "execution_count": 103,
     "metadata": {},
     "output_type": "execute_result"
    }
   ],
   "source": [
    "# Specificity\n",
    "TN / float(TN+FP)"
   ]
  },
  {
   "cell_type": "code",
   "execution_count": 104,
   "id": "af84f33f",
   "metadata": {},
   "outputs": [
    {
     "name": "stdout",
     "output_type": "stream",
     "text": [
      "0.04726810673443456\n"
     ]
    }
   ],
   "source": [
    "# False postive rate - predicting churn when customer does not have churned\n",
    "print(FP/ float(TN+FP))"
   ]
  },
  {
   "cell_type": "code",
   "execution_count": 105,
   "id": "0dbff38e",
   "metadata": {},
   "outputs": [
    {
     "name": "stdout",
     "output_type": "stream",
     "text": [
      "0.9165919282511211\n"
     ]
    }
   ],
   "source": [
    "# Positive predictive value \n",
    "print (TP / float(TP+FP))"
   ]
  },
  {
   "cell_type": "code",
   "execution_count": 106,
   "id": "25ae3070",
   "metadata": {},
   "outputs": [
    {
     "name": "stdout",
     "output_type": "stream",
     "text": [
      "0.9070892813936607\n"
     ]
    }
   ],
   "source": [
    "# Negative predictive value\n",
    "print (TN / float(TN+ FN))"
   ]
  },
  {
   "cell_type": "markdown",
   "id": "1b14faf1",
   "metadata": {},
   "source": [
    "# 13. ROC curve"
   ]
  },
  {
   "cell_type": "code",
   "execution_count": 107,
   "id": "4bdc3750",
   "metadata": {},
   "outputs": [],
   "source": [
    "def draw_roc( actual, probs ):\n",
    "    fpr, tpr, thresholds = metrics.roc_curve (actual, probs, drop_intermediate = False)\n",
    "    auc_score = metrics.roc_auc_score( actual, probs )\n",
    "    plt.figure(figsize=(5, 5))\n",
    "    plt.plot( fpr, tpr, label='ROC curve (area = %0.2f)' % auc_score )\n",
    "    plt.plot([0, 1], [0, 1], 'k--')\n",
    "    plt.xlim([0.0, 1.0])\n",
    "    plt.ylim([0.0, 1.05])\n",
    "    plt.xlabel('False Positive Rate or [1 - True Negative Rate]')\n",
    "    plt.ylabel('True Positive Rate')\n",
    "    plt.title('Receiver Operating Characteristic Curve')\n",
    "    plt.legend(loc=\"lower right\")\n",
    "    plt.show()\n",
    "\n",
    "    return None"
   ]
  },
  {
   "cell_type": "code",
   "execution_count": 108,
   "id": "fc394268",
   "metadata": {},
   "outputs": [],
   "source": [
    "fpr, tpr, thresholds = metrics.roc_curve(y_train_pred_final.Converted, y_train_pred_final.Converted_Prob, drop_intermediate = False)\n"
   ]
  },
  {
   "cell_type": "code",
   "execution_count": 109,
   "id": "e9ea6500",
   "metadata": {},
   "outputs": [
    {
     "data": {
      "image/png": "[encoded data removed]",
      "text/plain": [
       "<Figure size 360x360 with 1 Axes>"
      ]
     },
     "metadata": {},
     "output_type": "display_data"
    }
   ],
   "source": [
    "draw_roc(y_train_pred_final.Converted, y_train_pred_final.Converted_Prob)"
   ]
  },
  {
   "cell_type": "markdown",
   "id": "9805e043",
   "metadata": {},
   "source": [
    "# 14. Finding the cut-off"
   ]
  },
  {
   "cell_type": "markdown",
   "id": "798b9edf",
   "metadata": {},
   "source": [
    "##### Optimal cutoff probability is that probability where we get balanced sensitivity and specificity."
   ]
  },
  {
   "cell_type": "code",
   "execution_count": 110,
   "id": "ce1d1446",
   "metadata": {},
   "outputs": [
    {
     "data": {
      "text/html": [
       "<div>\n",
       "<style scoped>\n",
       "    .dataframe tbody tr th:only-of-type {\n",
       "        vertical-align: middle;\n",
       "    }\n",
       "\n",
       "    .dataframe tbody tr th {\n",
       "        vertical-align: top;\n",
       "    }\n",
       "\n",
       "    .dataframe thead th {\n",
       "        text-align: right;\n",
       "    }\n",
       "</style>\n",
       "<table border=\"1\" class=\"dataframe\">\n",
       "  <thead>\n",
       "    <tr style=\"text-align: right;\">\n",
       "      <th></th>\n",
       "      <th>Converted</th>\n",
       "      <th>Converted_Prob</th>\n",
       "      <th>Prospect ID</th>\n",
       "      <th>Predicted</th>\n",
       "      <th>0.0</th>\n",
       "      <th>0.1</th>\n",
       "      <th>0.2</th>\n",
       "      <th>0.3</th>\n",
       "      <th>0.4</th>\n",
       "      <th>0.5</th>\n",
       "      <th>0.6</th>\n",
       "      <th>0.7</th>\n",
       "      <th>0.8</th>\n",
       "      <th>0.9</th>\n",
       "    </tr>\n",
       "  </thead>\n",
       "  <tbody>\n",
       "    <tr>\n",
       "      <th>0</th>\n",
       "      <td>0</td>\n",
       "      <td>0.055161</td>\n",
       "      <td>302</td>\n",
       "      <td>0</td>\n",
       "      <td>1</td>\n",
       "      <td>0</td>\n",
       "      <td>0</td>\n",
       "      <td>0</td>\n",
       "      <td>0</td>\n",
       "      <td>0</td>\n",
       "      <td>0</td>\n",
       "      <td>0</td>\n",
       "      <td>0</td>\n",
       "      <td>0</td>\n",
       "    </tr>\n",
       "    <tr>\n",
       "      <th>1</th>\n",
       "      <td>0</td>\n",
       "      <td>0.010076</td>\n",
       "      <td>6087</td>\n",
       "      <td>0</td>\n",
       "      <td>1</td>\n",
       "      <td>0</td>\n",
       "      <td>0</td>\n",
       "      <td>0</td>\n",
       "      <td>0</td>\n",
       "      <td>0</td>\n",
       "      <td>0</td>\n",
       "      <td>0</td>\n",
       "      <td>0</td>\n",
       "      <td>0</td>\n",
       "    </tr>\n",
       "    <tr>\n",
       "      <th>2</th>\n",
       "      <td>0</td>\n",
       "      <td>0.401119</td>\n",
       "      <td>1033</td>\n",
       "      <td>0</td>\n",
       "      <td>1</td>\n",
       "      <td>1</td>\n",
       "      <td>1</td>\n",
       "      <td>1</td>\n",
       "      <td>1</td>\n",
       "      <td>0</td>\n",
       "      <td>0</td>\n",
       "      <td>0</td>\n",
       "      <td>0</td>\n",
       "      <td>0</td>\n",
       "    </tr>\n",
       "    <tr>\n",
       "      <th>3</th>\n",
       "      <td>0</td>\n",
       "      <td>0.009583</td>\n",
       "      <td>7656</td>\n",
       "      <td>0</td>\n",
       "      <td>1</td>\n",
       "      <td>0</td>\n",
       "      <td>0</td>\n",
       "      <td>0</td>\n",
       "      <td>0</td>\n",
       "      <td>0</td>\n",
       "      <td>0</td>\n",
       "      <td>0</td>\n",
       "      <td>0</td>\n",
       "      <td>0</td>\n",
       "    </tr>\n",
       "    <tr>\n",
       "      <th>4</th>\n",
       "      <td>1</td>\n",
       "      <td>0.990765</td>\n",
       "      <td>3241</td>\n",
       "      <td>1</td>\n",
       "      <td>1</td>\n",
       "      <td>1</td>\n",
       "      <td>1</td>\n",
       "      <td>1</td>\n",
       "      <td>1</td>\n",
       "      <td>1</td>\n",
       "      <td>1</td>\n",
       "      <td>1</td>\n",
       "      <td>1</td>\n",
       "      <td>1</td>\n",
       "    </tr>\n",
       "  </tbody>\n",
       "</table>\n",
       "</div>"
      ],
      "text/plain": [
       "   Converted  Converted_Prob  Prospect ID  Predicted  0.0  0.1  0.2  0.3  0.4  \\\n",
       "0          0        0.055161          302          0    1    0    0    0    0   \n",
       "1          0        0.010076         6087          0    1    0    0    0    0   \n",
       "2          0        0.401119         1033          0    1    1    1    1    1   \n",
       "3          0        0.009583         7656          0    1    0    0    0    0   \n",
       "4          1        0.990765         3241          1    1    1    1    1    1   \n",
       "\n",
       "   0.5  0.6  0.7  0.8  0.9  \n",
       "0    0    0    0    0    0  \n",
       "1    0    0    0    0    0  \n",
       "2    0    0    0    0    0  \n",
       "3    0    0    0    0    0  \n",
       "4    1    1    1    1    1  "
      ]
     },
     "execution_count": 110,
     "metadata": {},
     "output_type": "execute_result"
    }
   ],
   "source": [
    "# Let's create columns with different probability cutoffs \n",
    "numbers = [float(x)/10 for x in range(10)]\n",
    "for i in numbers:\n",
    "    y_train_pred_final[i]= y_train_pred_final.Converted_Prob.map(lambda x: 1 if x > i else 0)\n",
    "y_train_pred_final.head()"
   ]
  },
  {
   "cell_type": "code",
   "execution_count": 111,
   "id": "a1f3326d",
   "metadata": {},
   "outputs": [
    {
     "name": "stdout",
     "output_type": "stream",
     "text": [
      "     prob  accuracy  sensitivity  specificity\n",
      "0.0   0.0  0.381581     1.000000     0.000000\n",
      "0.1   0.1  0.801037     0.964168     0.700381\n",
      "0.2   0.2  0.878359     0.934514     0.843710\n",
      "0.3   0.3  0.900361     0.910626     0.894028\n",
      "0.4   0.4  0.911834     0.880148     0.931385\n",
      "0.5   0.5  0.910420     0.841845     0.952732\n",
      "0.6   0.6  0.906333     0.815486     0.962389\n",
      "0.7   0.7  0.903190     0.788715     0.973825\n",
      "0.8   0.8  0.883545     0.725288     0.981194\n",
      "0.9   0.9  0.866101     0.662273     0.991868\n"
     ]
    }
   ],
   "source": [
    "# Now let's calculate accuracy sensitivity and specificity for various probability cutoffs.\n",
    "cutoff_df = pd.DataFrame( columns = ['prob','accuracy','sensitivity','specificity'])\n",
    "from sklearn.metrics import confusion_matrix\n",
    "\n",
    "# TP = confusion[1,1] # true positive \n",
    "# TN = confusion[0,0] # true negatives\n",
    "# FP = confusion[0,1] # false positives\n",
    "# FN = confusion[1,0] # false negatives\n",
    "\n",
    "num = [0.0,0.1,0.2,0.3,0.4,0.5,0.6,0.7,0.8,0.9]\n",
    "for i in num:\n",
    "    cm1 = metrics.confusion_matrix(y_train_pred_final.Converted, y_train_pred_final[i] )\n",
    "    total1=sum(sum(cm1))\n",
    "    accuracy = (cm1[0,0]+cm1[1,1])/total1\n",
    "    \n",
    "    speci = cm1[0,0]/(cm1[0,0]+cm1[0,1])\n",
    "    sensi = cm1[1,1]/(cm1[1,0]+cm1[1,1])\n",
    "    cutoff_df.loc[i] =[ i ,accuracy,sensi,speci]\n",
    "print(cutoff_df)"
   ]
  },
  {
   "cell_type": "code",
   "execution_count": 112,
   "id": "3b9d631c",
   "metadata": {},
   "outputs": [
    {
     "data": {
      "image/png": "[encoded data removed]",
      "text/plain": [
       "<Figure size 432x288 with 1 Axes>"
      ]
     },
     "metadata": {},
     "output_type": "display_data"
    }
   ],
   "source": [
    "# Let's plot accuracy sensitivity and specificity for various probabilities.\n",
    "cutoff_df.plot.line(x='prob', y=['accuracy','sensitivity','specificity'])\n",
    "plt.show()"
   ]
  },
  {
   "cell_type": "markdown",
   "id": "97945086",
   "metadata": {},
   "source": [
    "##### From the curve above, we can see that 0.3 is our Optimal Point"
   ]
  },
  {
   "cell_type": "code",
   "execution_count": 113,
   "id": "903495ef",
   "metadata": {},
   "outputs": [
    {
     "data": {
      "text/html": [
       "<div>\n",
       "<style scoped>\n",
       "    .dataframe tbody tr th:only-of-type {\n",
       "        vertical-align: middle;\n",
       "    }\n",
       "\n",
       "    .dataframe tbody tr th {\n",
       "        vertical-align: top;\n",
       "    }\n",
       "\n",
       "    .dataframe thead th {\n",
       "        text-align: right;\n",
       "    }\n",
       "</style>\n",
       "<table border=\"1\" class=\"dataframe\">\n",
       "  <thead>\n",
       "    <tr style=\"text-align: right;\">\n",
       "      <th></th>\n",
       "      <th>Converted</th>\n",
       "      <th>Converted_Prob</th>\n",
       "      <th>Prospect ID</th>\n",
       "      <th>Predicted</th>\n",
       "      <th>0.0</th>\n",
       "      <th>0.1</th>\n",
       "      <th>0.2</th>\n",
       "      <th>0.3</th>\n",
       "      <th>0.4</th>\n",
       "      <th>0.5</th>\n",
       "      <th>0.6</th>\n",
       "      <th>0.7</th>\n",
       "      <th>0.8</th>\n",
       "      <th>0.9</th>\n",
       "      <th>Final_Predicted</th>\n",
       "    </tr>\n",
       "  </thead>\n",
       "  <tbody>\n",
       "    <tr>\n",
       "      <th>0</th>\n",
       "      <td>0</td>\n",
       "      <td>0.055161</td>\n",
       "      <td>302</td>\n",
       "      <td>0</td>\n",
       "      <td>1</td>\n",
       "      <td>0</td>\n",
       "      <td>0</td>\n",
       "      <td>0</td>\n",
       "      <td>0</td>\n",
       "      <td>0</td>\n",
       "      <td>0</td>\n",
       "      <td>0</td>\n",
       "      <td>0</td>\n",
       "      <td>0</td>\n",
       "      <td>0</td>\n",
       "    </tr>\n",
       "    <tr>\n",
       "      <th>1</th>\n",
       "      <td>0</td>\n",
       "      <td>0.010076</td>\n",
       "      <td>6087</td>\n",
       "      <td>0</td>\n",
       "      <td>1</td>\n",
       "      <td>0</td>\n",
       "      <td>0</td>\n",
       "      <td>0</td>\n",
       "      <td>0</td>\n",
       "      <td>0</td>\n",
       "      <td>0</td>\n",
       "      <td>0</td>\n",
       "      <td>0</td>\n",
       "      <td>0</td>\n",
       "      <td>0</td>\n",
       "    </tr>\n",
       "    <tr>\n",
       "      <th>2</th>\n",
       "      <td>0</td>\n",
       "      <td>0.401119</td>\n",
       "      <td>1033</td>\n",
       "      <td>0</td>\n",
       "      <td>1</td>\n",
       "      <td>1</td>\n",
       "      <td>1</td>\n",
       "      <td>1</td>\n",
       "      <td>1</td>\n",
       "      <td>0</td>\n",
       "      <td>0</td>\n",
       "      <td>0</td>\n",
       "      <td>0</td>\n",
       "      <td>0</td>\n",
       "      <td>1</td>\n",
       "    </tr>\n",
       "    <tr>\n",
       "      <th>3</th>\n",
       "      <td>0</td>\n",
       "      <td>0.009583</td>\n",
       "      <td>7656</td>\n",
       "      <td>0</td>\n",
       "      <td>1</td>\n",
       "      <td>0</td>\n",
       "      <td>0</td>\n",
       "      <td>0</td>\n",
       "      <td>0</td>\n",
       "      <td>0</td>\n",
       "      <td>0</td>\n",
       "      <td>0</td>\n",
       "      <td>0</td>\n",
       "      <td>0</td>\n",
       "      <td>0</td>\n",
       "    </tr>\n",
       "    <tr>\n",
       "      <th>4</th>\n",
       "      <td>1</td>\n",
       "      <td>0.990765</td>\n",
       "      <td>3241</td>\n",
       "      <td>1</td>\n",
       "      <td>1</td>\n",
       "      <td>1</td>\n",
       "      <td>1</td>\n",
       "      <td>1</td>\n",
       "      <td>1</td>\n",
       "      <td>1</td>\n",
       "      <td>1</td>\n",
       "      <td>1</td>\n",
       "      <td>1</td>\n",
       "      <td>1</td>\n",
       "      <td>1</td>\n",
       "    </tr>\n",
       "  </tbody>\n",
       "</table>\n",
       "</div>"
      ],
      "text/plain": [
       "   Converted  Converted_Prob  Prospect ID  Predicted  0.0  0.1  0.2  0.3  0.4  \\\n",
       "0          0        0.055161          302          0    1    0    0    0    0   \n",
       "1          0        0.010076         6087          0    1    0    0    0    0   \n",
       "2          0        0.401119         1033          0    1    1    1    1    1   \n",
       "3          0        0.009583         7656          0    1    0    0    0    0   \n",
       "4          1        0.990765         3241          1    1    1    1    1    1   \n",
       "\n",
       "   0.5  0.6  0.7  0.8  0.9  Final_Predicted  \n",
       "0    0    0    0    0    0                0  \n",
       "1    0    0    0    0    0                0  \n",
       "2    0    0    0    0    0                1  \n",
       "3    0    0    0    0    0                0  \n",
       "4    1    1    1    1    1                1  "
      ]
     },
     "execution_count": 113,
     "metadata": {},
     "output_type": "execute_result"
    }
   ],
   "source": [
    "y_train_pred_final['Final_Predicted'] = y_train_pred_final.Converted_Prob.map( lambda x: 1 if x > 0.3 else 0)\n",
    "\n",
    "y_train_pred_final.head()"
   ]
  },
  {
   "cell_type": "code",
   "execution_count": 114,
   "id": "b102caed",
   "metadata": {},
   "outputs": [
    {
     "name": "stdout",
     "output_type": "stream",
     "text": [
      "0.9003614647179004\n"
     ]
    }
   ],
   "source": [
    "# Let's check the overall accuracy.\n",
    "print(metrics.accuracy_score(y_true= y_train_pred_final.Converted, y_pred= y_train_pred_final.Final_Predicted))"
   ]
  },
  {
   "cell_type": "code",
   "execution_count": 115,
   "id": "f562c7d3",
   "metadata": {},
   "outputs": [
    {
     "data": {
      "text/plain": [
       "array([[3518,  417],\n",
       "       [ 217, 2211]], dtype=int64)"
      ]
     },
     "execution_count": 115,
     "metadata": {},
     "output_type": "execute_result"
    }
   ],
   "source": [
    "# Let's take a look at the confusion matrix again \n",
    "confusion = metrics.confusion_matrix(y_true= y_train_pred_final.Converted, y_pred= y_train_pred_final.Final_Predicted)\n",
    "confusion"
   ]
  },
  {
   "cell_type": "code",
   "execution_count": 116,
   "id": "aee841af",
   "metadata": {},
   "outputs": [],
   "source": [
    "# Actual/Predicted     Not_Converted    Converted\n",
    "    # Not_Converted        3518            417\n",
    "    # Converted            217             2211  "
   ]
  },
  {
   "cell_type": "markdown",
   "id": "360e6543",
   "metadata": {},
   "source": [
    "##### Metrics beyond Simple Accuracy with 0.3 as Optimal Cutoff point"
   ]
  },
  {
   "cell_type": "code",
   "execution_count": 117,
   "id": "a3eb1268",
   "metadata": {},
   "outputs": [],
   "source": [
    "TP = confusion[1,1] # true positive \n",
    "TN = confusion[0,0] # true negatives\n",
    "FP = confusion[0,1] # false positives\n",
    "FN = confusion[1,0] # false negatives"
   ]
  },
  {
   "cell_type": "code",
   "execution_count": 118,
   "id": "2d0615c5",
   "metadata": {},
   "outputs": [
    {
     "data": {
      "text/plain": [
       "0.9106260296540363"
      ]
     },
     "execution_count": 118,
     "metadata": {},
     "output_type": "execute_result"
    }
   ],
   "source": [
    "# Sensitivity\n",
    "TP / float(TP+FN)"
   ]
  },
  {
   "cell_type": "code",
   "execution_count": 119,
   "id": "cb464779",
   "metadata": {},
   "outputs": [
    {
     "data": {
      "text/plain": [
       "0.8940279542566709"
      ]
     },
     "execution_count": 119,
     "metadata": {},
     "output_type": "execute_result"
    }
   ],
   "source": [
    "# Specificity\n",
    "TN / float(TN+FP)"
   ]
  },
  {
   "cell_type": "code",
   "execution_count": 120,
   "id": "51b708fb",
   "metadata": {},
   "outputs": [
    {
     "name": "stdout",
     "output_type": "stream",
     "text": [
      "0.1059720457433291\n"
     ]
    }
   ],
   "source": [
    "# False postive rate - predicting churn when customer does not have churned\n",
    "print(FP/ float(TN+FP))"
   ]
  },
  {
   "cell_type": "code",
   "execution_count": 121,
   "id": "a1a272c3",
   "metadata": {},
   "outputs": [
    {
     "name": "stdout",
     "output_type": "stream",
     "text": [
      "0.841324200913242\n"
     ]
    }
   ],
   "source": [
    "# Positive predictive value \n",
    "print (TP / float(TP+FP))"
   ]
  },
  {
   "cell_type": "code",
   "execution_count": 122,
   "id": "6b7d2516",
   "metadata": {},
   "outputs": [
    {
     "name": "stdout",
     "output_type": "stream",
     "text": [
      "0.94190093708166\n"
     ]
    }
   ],
   "source": [
    "# Negative predictive value\n",
    "print (TN / float(TN+ FN))"
   ]
  },
  {
   "cell_type": "markdown",
   "id": "df38e84d",
   "metadata": {},
   "source": [
    "# 15. Precision & Recall"
   ]
  },
  {
   "cell_type": "code",
   "execution_count": 123,
   "id": "0bff63d2",
   "metadata": {},
   "outputs": [
    {
     "data": {
      "text/plain": [
       "0.841324200913242"
      ]
     },
     "execution_count": 123,
     "metadata": {},
     "output_type": "execute_result"
    }
   ],
   "source": [
    "# Precision Score\n",
    "precision_score(y_train_pred_final.Converted, y_train_pred_final.Final_Predicted)"
   ]
  },
  {
   "cell_type": "code",
   "execution_count": 124,
   "id": "1160c853",
   "metadata": {},
   "outputs": [
    {
     "data": {
      "text/plain": [
       "0.9106260296540363"
      ]
     },
     "execution_count": 124,
     "metadata": {},
     "output_type": "execute_result"
    }
   ],
   "source": [
    "# Recall Score\n",
    "recall_score(y_train_pred_final.Converted, y_train_pred_final.Final_Predicted)"
   ]
  },
  {
   "cell_type": "markdown",
   "id": "e2994c91",
   "metadata": {},
   "source": [
    "##### Precision and Recall Tradeoff"
   ]
  },
  {
   "cell_type": "code",
   "execution_count": 126,
   "id": "e02a3d6e",
   "metadata": {},
   "outputs": [],
   "source": [
    "p, r, thresholds = precision_recall_curve(y_train_pred_final.Converted, y_train_pred_final.Converted_Prob)"
   ]
  },
  {
   "cell_type": "code",
   "execution_count": 127,
   "id": "971a576b",
   "metadata": {},
   "outputs": [
    {
     "data": {
      "image/png": "[encoded data removed]",
      "text/plain": [
       "<Figure size 432x288 with 1 Axes>"
      ]
     },
     "metadata": {},
     "output_type": "display_data"
    }
   ],
   "source": [
    "plt.plot(thresholds, p[:-1], \"g-\")\n",
    "plt.plot(thresholds, r[:-1], \"r-\")\n",
    "plt.show()"
   ]
  },
  {
   "cell_type": "markdown",
   "id": "7969f0db",
   "metadata": {},
   "source": [
    "# 16. Prediction on Test set"
   ]
  },
  {
   "cell_type": "code",
   "execution_count": 128,
   "id": "e55f0f2b",
   "metadata": {},
   "outputs": [],
   "source": [
    "# Scaling the Numerical Variables\n",
    "X_test[num_cols] = scaler.transform(X_test[num_cols])"
   ]
  },
  {
   "cell_type": "code",
   "execution_count": 129,
   "id": "9203b4da",
   "metadata": {},
   "outputs": [
    {
     "data": {
      "text/html": [
       "<div>\n",
       "<style scoped>\n",
       "    .dataframe tbody tr th:only-of-type {\n",
       "        vertical-align: middle;\n",
       "    }\n",
       "\n",
       "    .dataframe tbody tr th {\n",
       "        vertical-align: top;\n",
       "    }\n",
       "\n",
       "    .dataframe thead th {\n",
       "        text-align: right;\n",
       "    }\n",
       "</style>\n",
       "<table border=\"1\" class=\"dataframe\">\n",
       "  <thead>\n",
       "    <tr style=\"text-align: right;\">\n",
       "      <th></th>\n",
       "      <th>Do Not Email</th>\n",
       "      <th>Total Time Spent on Website</th>\n",
       "      <th>Lead_Origin_Lead Add Form</th>\n",
       "      <th>Lead_Source_Olark Chat</th>\n",
       "      <th>Last_Activity_Converted to Lead</th>\n",
       "      <th>Last_Activity_Email Bounced</th>\n",
       "      <th>Last_Activity_Olark Chat Conversation</th>\n",
       "      <th>Last_Activity_SMS Sent</th>\n",
       "      <th>Specialization_Travel and Tourism</th>\n",
       "      <th>Occupation_Not Specified</th>\n",
       "      <th>Occupation_Working Professional</th>\n",
       "      <th>Tags_Already a student</th>\n",
       "      <th>Tags_Closed by Horizzon</th>\n",
       "      <th>Tags_Interested in other courses</th>\n",
       "      <th>Tags_Other Tags</th>\n",
       "      <th>Tags_Ringing</th>\n",
       "      <th>Tags_Still Thinking</th>\n",
       "      <th>Tags_Will revert after reading the email</th>\n",
       "    </tr>\n",
       "  </thead>\n",
       "  <tbody>\n",
       "    <tr>\n",
       "      <th>6906</th>\n",
       "      <td>0</td>\n",
       "      <td>1.919395</td>\n",
       "      <td>0</td>\n",
       "      <td>0</td>\n",
       "      <td>0</td>\n",
       "      <td>0</td>\n",
       "      <td>0</td>\n",
       "      <td>1</td>\n",
       "      <td>0</td>\n",
       "      <td>0</td>\n",
       "      <td>0</td>\n",
       "      <td>0</td>\n",
       "      <td>0</td>\n",
       "      <td>0</td>\n",
       "      <td>0</td>\n",
       "      <td>0</td>\n",
       "      <td>0</td>\n",
       "      <td>1</td>\n",
       "    </tr>\n",
       "    <tr>\n",
       "      <th>1873</th>\n",
       "      <td>0</td>\n",
       "      <td>-0.546142</td>\n",
       "      <td>0</td>\n",
       "      <td>0</td>\n",
       "      <td>0</td>\n",
       "      <td>0</td>\n",
       "      <td>0</td>\n",
       "      <td>1</td>\n",
       "      <td>0</td>\n",
       "      <td>0</td>\n",
       "      <td>0</td>\n",
       "      <td>0</td>\n",
       "      <td>0</td>\n",
       "      <td>1</td>\n",
       "      <td>0</td>\n",
       "      <td>0</td>\n",
       "      <td>0</td>\n",
       "      <td>0</td>\n",
       "    </tr>\n",
       "    <tr>\n",
       "      <th>771</th>\n",
       "      <td>0</td>\n",
       "      <td>-0.797465</td>\n",
       "      <td>0</td>\n",
       "      <td>0</td>\n",
       "      <td>0</td>\n",
       "      <td>0</td>\n",
       "      <td>0</td>\n",
       "      <td>0</td>\n",
       "      <td>0</td>\n",
       "      <td>0</td>\n",
       "      <td>0</td>\n",
       "      <td>0</td>\n",
       "      <td>0</td>\n",
       "      <td>0</td>\n",
       "      <td>0</td>\n",
       "      <td>1</td>\n",
       "      <td>0</td>\n",
       "      <td>0</td>\n",
       "    </tr>\n",
       "    <tr>\n",
       "      <th>4495</th>\n",
       "      <td>0</td>\n",
       "      <td>-0.623190</td>\n",
       "      <td>0</td>\n",
       "      <td>0</td>\n",
       "      <td>0</td>\n",
       "      <td>0</td>\n",
       "      <td>0</td>\n",
       "      <td>0</td>\n",
       "      <td>0</td>\n",
       "      <td>0</td>\n",
       "      <td>0</td>\n",
       "      <td>0</td>\n",
       "      <td>0</td>\n",
       "      <td>0</td>\n",
       "      <td>0</td>\n",
       "      <td>1</td>\n",
       "      <td>0</td>\n",
       "      <td>0</td>\n",
       "    </tr>\n",
       "    <tr>\n",
       "      <th>9061</th>\n",
       "      <td>0</td>\n",
       "      <td>2.392690</td>\n",
       "      <td>0</td>\n",
       "      <td>0</td>\n",
       "      <td>0</td>\n",
       "      <td>0</td>\n",
       "      <td>0</td>\n",
       "      <td>0</td>\n",
       "      <td>0</td>\n",
       "      <td>1</td>\n",
       "      <td>0</td>\n",
       "      <td>0</td>\n",
       "      <td>0</td>\n",
       "      <td>0</td>\n",
       "      <td>1</td>\n",
       "      <td>0</td>\n",
       "      <td>0</td>\n",
       "      <td>0</td>\n",
       "    </tr>\n",
       "  </tbody>\n",
       "</table>\n",
       "</div>"
      ],
      "text/plain": [
       "      Do Not Email  Total Time Spent on Website  Lead_Origin_Lead Add Form  \\\n",
       "6906             0                     1.919395                          0   \n",
       "1873             0                    -0.546142                          0   \n",
       "771              0                    -0.797465                          0   \n",
       "4495             0                    -0.623190                          0   \n",
       "9061             0                     2.392690                          0   \n",
       "\n",
       "      Lead_Source_Olark Chat  Last_Activity_Converted to Lead  \\\n",
       "6906                       0                                0   \n",
       "1873                       0                                0   \n",
       "771                        0                                0   \n",
       "4495                       0                                0   \n",
       "9061                       0                                0   \n",
       "\n",
       "      Last_Activity_Email Bounced  Last_Activity_Olark Chat Conversation  \\\n",
       "6906                            0                                      0   \n",
       "1873                            0                                      0   \n",
       "771                             0                                      0   \n",
       "4495                            0                                      0   \n",
       "9061                            0                                      0   \n",
       "\n",
       "      Last_Activity_SMS Sent  Specialization_Travel and Tourism  \\\n",
       "6906                       1                                  0   \n",
       "1873                       1                                  0   \n",
       "771                        0                                  0   \n",
       "4495                       0                                  0   \n",
       "9061                       0                                  0   \n",
       "\n",
       "      Occupation_Not Specified  Occupation_Working Professional  \\\n",
       "6906                         0                                0   \n",
       "1873                         0                                0   \n",
       "771                          0                                0   \n",
       "4495                         0                                0   \n",
       "9061                         1                                0   \n",
       "\n",
       "      Tags_Already a student  Tags_Closed by Horizzon  \\\n",
       "6906                       0                        0   \n",
       "1873                       0                        0   \n",
       "771                        0                        0   \n",
       "4495                       0                        0   \n",
       "9061                       0                        0   \n",
       "\n",
       "      Tags_Interested in other courses  Tags_Other Tags  Tags_Ringing  \\\n",
       "6906                                 0                0             0   \n",
       "1873                                 1                0             0   \n",
       "771                                  0                0             1   \n",
       "4495                                 0                0             1   \n",
       "9061                                 0                1             0   \n",
       "\n",
       "      Tags_Still Thinking  Tags_Will revert after reading the email  \n",
       "6906                    0                                         1  \n",
       "1873                    0                                         0  \n",
       "771                     0                                         0  \n",
       "4495                    0                                         0  \n",
       "9061                    0                                         0  "
      ]
     },
     "execution_count": 129,
     "metadata": {},
     "output_type": "execute_result"
    }
   ],
   "source": [
    "X_test = X_test[col]\n",
    "X_test.head()"
   ]
  },
  {
   "cell_type": "code",
   "execution_count": 130,
   "id": "4004e37a",
   "metadata": {},
   "outputs": [],
   "source": [
    "X_test_sm = sm.add_constant(X_test)"
   ]
  },
  {
   "cell_type": "code",
   "execution_count": 131,
   "id": "3d74b0c1",
   "metadata": {},
   "outputs": [
    {
     "data": {
      "text/plain": [
       "6906    0.996913\n",
       "1873    0.029359\n",
       "771     0.003892\n",
       "4495    0.004693\n",
       "9061    0.237875\n",
       "dtype: float64"
      ]
     },
     "execution_count": 131,
     "metadata": {},
     "output_type": "execute_result"
    }
   ],
   "source": [
    "# Predictions on test set\n",
    "y_test_pred = res.predict(X_test_sm)\n",
    "y_test_pred.head()"
   ]
  },
  {
   "cell_type": "code",
   "execution_count": 132,
   "id": "a1045336",
   "metadata": {},
   "outputs": [
    {
     "data": {
      "text/html": [
       "<div>\n",
       "<style scoped>\n",
       "    .dataframe tbody tr th:only-of-type {\n",
       "        vertical-align: middle;\n",
       "    }\n",
       "\n",
       "    .dataframe tbody tr th {\n",
       "        vertical-align: top;\n",
       "    }\n",
       "\n",
       "    .dataframe thead th {\n",
       "        text-align: right;\n",
       "    }\n",
       "</style>\n",
       "<table border=\"1\" class=\"dataframe\">\n",
       "  <thead>\n",
       "    <tr style=\"text-align: right;\">\n",
       "      <th></th>\n",
       "      <th>0</th>\n",
       "    </tr>\n",
       "  </thead>\n",
       "  <tbody>\n",
       "    <tr>\n",
       "      <th>6906</th>\n",
       "      <td>0.996913</td>\n",
       "    </tr>\n",
       "    <tr>\n",
       "      <th>1873</th>\n",
       "      <td>0.029359</td>\n",
       "    </tr>\n",
       "    <tr>\n",
       "      <th>771</th>\n",
       "      <td>0.003892</td>\n",
       "    </tr>\n",
       "    <tr>\n",
       "      <th>4495</th>\n",
       "      <td>0.004693</td>\n",
       "    </tr>\n",
       "    <tr>\n",
       "      <th>9061</th>\n",
       "      <td>0.237875</td>\n",
       "    </tr>\n",
       "  </tbody>\n",
       "</table>\n",
       "</div>"
      ],
      "text/plain": [
       "             0\n",
       "6906  0.996913\n",
       "1873  0.029359\n",
       "771   0.003892\n",
       "4495  0.004693\n",
       "9061  0.237875"
      ]
     },
     "execution_count": 132,
     "metadata": {},
     "output_type": "execute_result"
    }
   ],
   "source": [
    "# Converting y_pred to a DataFrame\n",
    "y_pred_1 = pd.DataFrame(y_test_pred)\n",
    "y_pred_1.head()"
   ]
  },
  {
   "cell_type": "code",
   "execution_count": 133,
   "id": "979034cf",
   "metadata": {},
   "outputs": [],
   "source": [
    "# Converting y_test to DataFrame\n",
    "y_test_df = pd.DataFrame(y_test)"
   ]
  },
  {
   "cell_type": "code",
   "execution_count": 134,
   "id": "d9c0d726",
   "metadata": {},
   "outputs": [],
   "source": [
    "# Putting 'Prospect ID' to index\n",
    "y_test_df['Prospect ID'] = y_test_df.index"
   ]
  },
  {
   "cell_type": "code",
   "execution_count": 135,
   "id": "a73f7710",
   "metadata": {},
   "outputs": [],
   "source": [
    "# Removing index for both DataFrames to concatenate them side by side\n",
    "y_pred_1.reset_index(drop= True, inplace= True)\n",
    "y_test_df.reset_index(drop= True, inplace= True)"
   ]
  },
  {
   "cell_type": "code",
   "execution_count": 136,
   "id": "513d996c",
   "metadata": {},
   "outputs": [
    {
     "data": {
      "text/html": [
       "<div>\n",
       "<style scoped>\n",
       "    .dataframe tbody tr th:only-of-type {\n",
       "        vertical-align: middle;\n",
       "    }\n",
       "\n",
       "    .dataframe tbody tr th {\n",
       "        vertical-align: top;\n",
       "    }\n",
       "\n",
       "    .dataframe thead th {\n",
       "        text-align: right;\n",
       "    }\n",
       "</style>\n",
       "<table border=\"1\" class=\"dataframe\">\n",
       "  <thead>\n",
       "    <tr style=\"text-align: right;\">\n",
       "      <th></th>\n",
       "      <th>Converted</th>\n",
       "      <th>Prospect ID</th>\n",
       "      <th>0</th>\n",
       "    </tr>\n",
       "  </thead>\n",
       "  <tbody>\n",
       "    <tr>\n",
       "      <th>0</th>\n",
       "      <td>1</td>\n",
       "      <td>6906</td>\n",
       "      <td>0.996913</td>\n",
       "    </tr>\n",
       "    <tr>\n",
       "      <th>1</th>\n",
       "      <td>0</td>\n",
       "      <td>1873</td>\n",
       "      <td>0.029359</td>\n",
       "    </tr>\n",
       "    <tr>\n",
       "      <th>2</th>\n",
       "      <td>0</td>\n",
       "      <td>771</td>\n",
       "      <td>0.003892</td>\n",
       "    </tr>\n",
       "    <tr>\n",
       "      <th>3</th>\n",
       "      <td>0</td>\n",
       "      <td>4495</td>\n",
       "      <td>0.004693</td>\n",
       "    </tr>\n",
       "    <tr>\n",
       "      <th>4</th>\n",
       "      <td>1</td>\n",
       "      <td>9061</td>\n",
       "      <td>0.237875</td>\n",
       "    </tr>\n",
       "  </tbody>\n",
       "</table>\n",
       "</div>"
      ],
      "text/plain": [
       "   Converted  Prospect ID         0\n",
       "0          1         6906  0.996913\n",
       "1          0         1873  0.029359\n",
       "2          0          771  0.003892\n",
       "3          0         4495  0.004693\n",
       "4          1         9061  0.237875"
      ]
     },
     "execution_count": 136,
     "metadata": {},
     "output_type": "execute_result"
    }
   ],
   "source": [
    "# Concatenating y_test_df and y_pred_1\n",
    "y_pred_final = pd.concat([y_test_df, y_pred_1], axis = 1)\n",
    "y_pred_final.head()"
   ]
  },
  {
   "cell_type": "code",
   "execution_count": 137,
   "id": "b5cd70bb",
   "metadata": {},
   "outputs": [],
   "source": [
    "# Renaming the column\n",
    "y_pred_final = y_pred_final.rename(columns = {0: 'Converted_Prob'})"
   ]
  },
  {
   "cell_type": "code",
   "execution_count": 138,
   "id": "9f26e14e",
   "metadata": {},
   "outputs": [
    {
     "data": {
      "text/html": [
       "<div>\n",
       "<style scoped>\n",
       "    .dataframe tbody tr th:only-of-type {\n",
       "        vertical-align: middle;\n",
       "    }\n",
       "\n",
       "    .dataframe tbody tr th {\n",
       "        vertical-align: top;\n",
       "    }\n",
       "\n",
       "    .dataframe thead th {\n",
       "        text-align: right;\n",
       "    }\n",
       "</style>\n",
       "<table border=\"1\" class=\"dataframe\">\n",
       "  <thead>\n",
       "    <tr style=\"text-align: right;\">\n",
       "      <th></th>\n",
       "      <th>Prospect ID</th>\n",
       "      <th>Converted</th>\n",
       "      <th>Converted_Prob</th>\n",
       "    </tr>\n",
       "  </thead>\n",
       "  <tbody>\n",
       "    <tr>\n",
       "      <th>0</th>\n",
       "      <td>6906</td>\n",
       "      <td>1</td>\n",
       "      <td>0.996913</td>\n",
       "    </tr>\n",
       "    <tr>\n",
       "      <th>1</th>\n",
       "      <td>1873</td>\n",
       "      <td>0</td>\n",
       "      <td>0.029359</td>\n",
       "    </tr>\n",
       "    <tr>\n",
       "      <th>2</th>\n",
       "      <td>771</td>\n",
       "      <td>0</td>\n",
       "      <td>0.003892</td>\n",
       "    </tr>\n",
       "    <tr>\n",
       "      <th>3</th>\n",
       "      <td>4495</td>\n",
       "      <td>0</td>\n",
       "      <td>0.004693</td>\n",
       "    </tr>\n",
       "    <tr>\n",
       "      <th>4</th>\n",
       "      <td>9061</td>\n",
       "      <td>1</td>\n",
       "      <td>0.237875</td>\n",
       "    </tr>\n",
       "  </tbody>\n",
       "</table>\n",
       "</div>"
      ],
      "text/plain": [
       "   Prospect ID  Converted  Converted_Prob\n",
       "0         6906          1        0.996913\n",
       "1         1873          0        0.029359\n",
       "2          771          0        0.003892\n",
       "3         4495          0        0.004693\n",
       "4         9061          1        0.237875"
      ]
     },
     "execution_count": 138,
     "metadata": {},
     "output_type": "execute_result"
    }
   ],
   "source": [
    "# Rearranging the columns\n",
    "y_pred_final = y_pred_final[['Prospect ID', 'Converted', 'Converted_Prob']]\n",
    "y_pred_final.head()"
   ]
  },
  {
   "cell_type": "code",
   "execution_count": 139,
   "id": "73d009b7",
   "metadata": {},
   "outputs": [
    {
     "data": {
      "text/html": [
       "<div>\n",
       "<style scoped>\n",
       "    .dataframe tbody tr th:only-of-type {\n",
       "        vertical-align: middle;\n",
       "    }\n",
       "\n",
       "    .dataframe tbody tr th {\n",
       "        vertical-align: top;\n",
       "    }\n",
       "\n",
       "    .dataframe thead th {\n",
       "        text-align: right;\n",
       "    }\n",
       "</style>\n",
       "<table border=\"1\" class=\"dataframe\">\n",
       "  <thead>\n",
       "    <tr style=\"text-align: right;\">\n",
       "      <th></th>\n",
       "      <th>Prospect ID</th>\n",
       "      <th>Converted</th>\n",
       "      <th>Converted_Prob</th>\n",
       "      <th>Final_Predicted</th>\n",
       "    </tr>\n",
       "  </thead>\n",
       "  <tbody>\n",
       "    <tr>\n",
       "      <th>0</th>\n",
       "      <td>6906</td>\n",
       "      <td>1</td>\n",
       "      <td>0.996913</td>\n",
       "      <td>1</td>\n",
       "    </tr>\n",
       "    <tr>\n",
       "      <th>1</th>\n",
       "      <td>1873</td>\n",
       "      <td>0</td>\n",
       "      <td>0.029359</td>\n",
       "      <td>0</td>\n",
       "    </tr>\n",
       "    <tr>\n",
       "      <th>2</th>\n",
       "      <td>771</td>\n",
       "      <td>0</td>\n",
       "      <td>0.003892</td>\n",
       "      <td>0</td>\n",
       "    </tr>\n",
       "    <tr>\n",
       "      <th>3</th>\n",
       "      <td>4495</td>\n",
       "      <td>0</td>\n",
       "      <td>0.004693</td>\n",
       "      <td>0</td>\n",
       "    </tr>\n",
       "    <tr>\n",
       "      <th>4</th>\n",
       "      <td>9061</td>\n",
       "      <td>1</td>\n",
       "      <td>0.237875</td>\n",
       "      <td>0</td>\n",
       "    </tr>\n",
       "  </tbody>\n",
       "</table>\n",
       "</div>"
      ],
      "text/plain": [
       "   Prospect ID  Converted  Converted_Prob  Final_Predicted\n",
       "0         6906          1        0.996913                1\n",
       "1         1873          0        0.029359                0\n",
       "2          771          0        0.003892                0\n",
       "3         4495          0        0.004693                0\n",
       "4         9061          1        0.237875                0"
      ]
     },
     "execution_count": 139,
     "metadata": {},
     "output_type": "execute_result"
    }
   ],
   "source": [
    "y_pred_final['Final_Predicted'] = y_pred_final.Converted_Prob.map(lambda x: 1 if x > 0.3 else 0)\n",
    "y_pred_final.head()"
   ]
  },
  {
   "cell_type": "code",
   "execution_count": 140,
   "id": "74622731",
   "metadata": {},
   "outputs": [
    {
     "data": {
      "text/plain": [
       "0.9130913091309131"
      ]
     },
     "execution_count": 140,
     "metadata": {},
     "output_type": "execute_result"
    }
   ],
   "source": [
    "# Overall Accuracy\n",
    "metrics.accuracy_score(y_true= y_pred_final.Converted, y_pred= y_pred_final.Final_Predicted)"
   ]
  },
  {
   "cell_type": "code",
   "execution_count": 141,
   "id": "991e0283",
   "metadata": {},
   "outputs": [
    {
     "data": {
      "text/plain": [
       "array([[1512,  148],\n",
       "       [  89,  978]], dtype=int64)"
      ]
     },
     "execution_count": 141,
     "metadata": {},
     "output_type": "execute_result"
    }
   ],
   "source": [
    "# Confusion Matrix\n",
    "confusion2 = metrics.confusion_matrix(y_true= y_pred_final.Converted, y_pred= y_pred_final.Final_Predicted)\n",
    "confusion2"
   ]
  },
  {
   "cell_type": "code",
   "execution_count": 156,
   "id": "04d414a5",
   "metadata": {},
   "outputs": [],
   "source": [
    "# Actual/Predicted     Not_Converted    Converted\n",
    "    # Not_Converted        1512            148\n",
    "    # Converted            89             978  "
   ]
  },
  {
   "cell_type": "code",
   "execution_count": 142,
   "id": "d9bf8eaa",
   "metadata": {},
   "outputs": [],
   "source": [
    "TP = confusion2[1,1]\n",
    "TN = confusion2[0,0]\n",
    "FP = confusion2[0,1]\n",
    "FN = confusion2[1,0]"
   ]
  },
  {
   "cell_type": "code",
   "execution_count": 143,
   "id": "cfcc8265",
   "metadata": {},
   "outputs": [
    {
     "data": {
      "text/plain": [
       "0.9165885660731021"
      ]
     },
     "execution_count": 143,
     "metadata": {},
     "output_type": "execute_result"
    }
   ],
   "source": [
    "# Sensitivity\n",
    "TP / float(TP+FN)"
   ]
  },
  {
   "cell_type": "code",
   "execution_count": 144,
   "id": "6c9a2b28",
   "metadata": {},
   "outputs": [
    {
     "data": {
      "text/plain": [
       "0.9108433734939759"
      ]
     },
     "execution_count": 144,
     "metadata": {},
     "output_type": "execute_result"
    }
   ],
   "source": [
    "# Specificity\n",
    "TN / float(TN+FP)"
   ]
  },
  {
   "cell_type": "code",
   "execution_count": 145,
   "id": "e028b3e6",
   "metadata": {},
   "outputs": [
    {
     "name": "stdout",
     "output_type": "stream",
     "text": [
      "0.0891566265060241\n"
     ]
    }
   ],
   "source": [
    "# False postive rate - predicting churn when customer does not have churned\n",
    "print(FP/ float(TN+FP))"
   ]
  },
  {
   "cell_type": "code",
   "execution_count": 146,
   "id": "d18854b5",
   "metadata": {},
   "outputs": [
    {
     "name": "stdout",
     "output_type": "stream",
     "text": [
      "0.8685612788632326\n"
     ]
    }
   ],
   "source": [
    "# Positive predictive value \n",
    "print (TP / float(TP+FP))"
   ]
  },
  {
   "cell_type": "code",
   "execution_count": 147,
   "id": "a4ec2c7b",
   "metadata": {},
   "outputs": [
    {
     "name": "stdout",
     "output_type": "stream",
     "text": [
      "0.9444097439100562\n"
     ]
    }
   ],
   "source": [
    "# Negative predictive value\n",
    "print (TN / float(TN+ FN))"
   ]
  },
  {
   "cell_type": "markdown",
   "id": "e3349ac6",
   "metadata": {},
   "source": [
    "## Conclusions:\n",
    "    Variables affecting the model the most are:\n",
    "        - Tags_Already a student\n",
    "        - Tags_Ringing\n",
    "        - Tags_Closed by Horizzon\n",
    "        - Tags_Interested in other courses\n",
    "        - Lead_Origin_Lead Add Form\n",
    "        - Tags_Will revert after reading the email"
   ]
  },
  {
   "cell_type": "markdown",
   "id": "3fa44bf9",
   "metadata": {},
   "source": [
    "# 17. Assigning Lead Score to Dataset"
   ]
  },
  {
   "cell_type": "code",
   "execution_count": 148,
   "id": "dcb51063",
   "metadata": {},
   "outputs": [
    {
     "data": {
      "text/html": [
       "<div>\n",
       "<style scoped>\n",
       "    .dataframe tbody tr th:only-of-type {\n",
       "        vertical-align: middle;\n",
       "    }\n",
       "\n",
       "    .dataframe tbody tr th {\n",
       "        vertical-align: top;\n",
       "    }\n",
       "\n",
       "    .dataframe thead th {\n",
       "        text-align: right;\n",
       "    }\n",
       "</style>\n",
       "<table border=\"1\" class=\"dataframe\">\n",
       "  <thead>\n",
       "    <tr style=\"text-align: right;\">\n",
       "      <th></th>\n",
       "      <th>Do Not Email</th>\n",
       "      <th>Converted</th>\n",
       "      <th>TotalVisits</th>\n",
       "      <th>Total Time Spent on Website</th>\n",
       "      <th>Page Views Per Visit</th>\n",
       "      <th>A free copy of Mastering The Interview</th>\n",
       "      <th>Lead_Origin_API</th>\n",
       "      <th>Lead_Origin_Landing Page Submission</th>\n",
       "      <th>Lead_Origin_Lead Add Form</th>\n",
       "      <th>Lead_Origin_Lead Import</th>\n",
       "      <th>...</th>\n",
       "      <th>Occupation_Unemployed</th>\n",
       "      <th>Occupation_Working Professional</th>\n",
       "      <th>Tags_Already a student</th>\n",
       "      <th>Tags_Closed by Horizzon</th>\n",
       "      <th>Tags_Interested in Next batch</th>\n",
       "      <th>Tags_Interested in other courses</th>\n",
       "      <th>Tags_Other Tags</th>\n",
       "      <th>Tags_Ringing</th>\n",
       "      <th>Tags_Still Thinking</th>\n",
       "      <th>Tags_Will revert after reading the email</th>\n",
       "    </tr>\n",
       "  </thead>\n",
       "  <tbody>\n",
       "    <tr>\n",
       "      <th>0</th>\n",
       "      <td>0</td>\n",
       "      <td>0</td>\n",
       "      <td>0.0</td>\n",
       "      <td>0</td>\n",
       "      <td>0.0</td>\n",
       "      <td>0</td>\n",
       "      <td>1</td>\n",
       "      <td>0</td>\n",
       "      <td>0</td>\n",
       "      <td>0</td>\n",
       "      <td>...</td>\n",
       "      <td>1</td>\n",
       "      <td>0</td>\n",
       "      <td>0</td>\n",
       "      <td>0</td>\n",
       "      <td>0</td>\n",
       "      <td>1</td>\n",
       "      <td>0</td>\n",
       "      <td>0</td>\n",
       "      <td>0</td>\n",
       "      <td>0</td>\n",
       "    </tr>\n",
       "    <tr>\n",
       "      <th>1</th>\n",
       "      <td>0</td>\n",
       "      <td>0</td>\n",
       "      <td>5.0</td>\n",
       "      <td>674</td>\n",
       "      <td>2.5</td>\n",
       "      <td>0</td>\n",
       "      <td>1</td>\n",
       "      <td>0</td>\n",
       "      <td>0</td>\n",
       "      <td>0</td>\n",
       "      <td>...</td>\n",
       "      <td>1</td>\n",
       "      <td>0</td>\n",
       "      <td>0</td>\n",
       "      <td>0</td>\n",
       "      <td>0</td>\n",
       "      <td>0</td>\n",
       "      <td>0</td>\n",
       "      <td>1</td>\n",
       "      <td>0</td>\n",
       "      <td>0</td>\n",
       "    </tr>\n",
       "    <tr>\n",
       "      <th>2</th>\n",
       "      <td>0</td>\n",
       "      <td>1</td>\n",
       "      <td>2.0</td>\n",
       "      <td>1532</td>\n",
       "      <td>2.0</td>\n",
       "      <td>1</td>\n",
       "      <td>0</td>\n",
       "      <td>1</td>\n",
       "      <td>0</td>\n",
       "      <td>0</td>\n",
       "      <td>...</td>\n",
       "      <td>0</td>\n",
       "      <td>0</td>\n",
       "      <td>0</td>\n",
       "      <td>0</td>\n",
       "      <td>0</td>\n",
       "      <td>0</td>\n",
       "      <td>0</td>\n",
       "      <td>0</td>\n",
       "      <td>0</td>\n",
       "      <td>1</td>\n",
       "    </tr>\n",
       "    <tr>\n",
       "      <th>3</th>\n",
       "      <td>0</td>\n",
       "      <td>0</td>\n",
       "      <td>1.0</td>\n",
       "      <td>305</td>\n",
       "      <td>1.0</td>\n",
       "      <td>0</td>\n",
       "      <td>0</td>\n",
       "      <td>1</td>\n",
       "      <td>0</td>\n",
       "      <td>0</td>\n",
       "      <td>...</td>\n",
       "      <td>1</td>\n",
       "      <td>0</td>\n",
       "      <td>0</td>\n",
       "      <td>0</td>\n",
       "      <td>0</td>\n",
       "      <td>0</td>\n",
       "      <td>0</td>\n",
       "      <td>1</td>\n",
       "      <td>0</td>\n",
       "      <td>0</td>\n",
       "    </tr>\n",
       "    <tr>\n",
       "      <th>4</th>\n",
       "      <td>0</td>\n",
       "      <td>1</td>\n",
       "      <td>2.0</td>\n",
       "      <td>1428</td>\n",
       "      <td>1.0</td>\n",
       "      <td>0</td>\n",
       "      <td>0</td>\n",
       "      <td>1</td>\n",
       "      <td>0</td>\n",
       "      <td>0</td>\n",
       "      <td>...</td>\n",
       "      <td>1</td>\n",
       "      <td>0</td>\n",
       "      <td>0</td>\n",
       "      <td>0</td>\n",
       "      <td>0</td>\n",
       "      <td>0</td>\n",
       "      <td>0</td>\n",
       "      <td>0</td>\n",
       "      <td>0</td>\n",
       "      <td>1</td>\n",
       "    </tr>\n",
       "  </tbody>\n",
       "</table>\n",
       "<p>5 rows × 43 columns</p>\n",
       "</div>"
      ],
      "text/plain": [
       "   Do Not Email  Converted  TotalVisits  Total Time Spent on Website  \\\n",
       "0             0          0          0.0                            0   \n",
       "1             0          0          5.0                          674   \n",
       "2             0          1          2.0                         1532   \n",
       "3             0          0          1.0                          305   \n",
       "4             0          1          2.0                         1428   \n",
       "\n",
       "   Page Views Per Visit  A free copy of Mastering The Interview  \\\n",
       "0                   0.0                                       0   \n",
       "1                   2.5                                       0   \n",
       "2                   2.0                                       1   \n",
       "3                   1.0                                       0   \n",
       "4                   1.0                                       0   \n",
       "\n",
       "   Lead_Origin_API  Lead_Origin_Landing Page Submission  \\\n",
       "0                1                                    0   \n",
       "1                1                                    0   \n",
       "2                0                                    1   \n",
       "3                0                                    1   \n",
       "4                0                                    1   \n",
       "\n",
       "   Lead_Origin_Lead Add Form  Lead_Origin_Lead Import  ...  \\\n",
       "0                          0                        0  ...   \n",
       "1                          0                        0  ...   \n",
       "2                          0                        0  ...   \n",
       "3                          0                        0  ...   \n",
       "4                          0                        0  ...   \n",
       "\n",
       "   Occupation_Unemployed  Occupation_Working Professional  \\\n",
       "0                      1                                0   \n",
       "1                      1                                0   \n",
       "2                      0                                0   \n",
       "3                      1                                0   \n",
       "4                      1                                0   \n",
       "\n",
       "   Tags_Already a student  Tags_Closed by Horizzon  \\\n",
       "0                       0                        0   \n",
       "1                       0                        0   \n",
       "2                       0                        0   \n",
       "3                       0                        0   \n",
       "4                       0                        0   \n",
       "\n",
       "   Tags_Interested in Next batch  Tags_Interested in other courses  \\\n",
       "0                              0                                 1   \n",
       "1                              0                                 0   \n",
       "2                              0                                 0   \n",
       "3                              0                                 0   \n",
       "4                              0                                 0   \n",
       "\n",
       "   Tags_Other Tags  Tags_Ringing  Tags_Still Thinking  \\\n",
       "0                0             0                    0   \n",
       "1                0             1                    0   \n",
       "2                0             0                    0   \n",
       "3                0             1                    0   \n",
       "4                0             0                    0   \n",
       "\n",
       "   Tags_Will revert after reading the email  \n",
       "0                                         0  \n",
       "1                                         0  \n",
       "2                                         1  \n",
       "3                                         0  \n",
       "4                                         1  \n",
       "\n",
       "[5 rows x 43 columns]"
      ]
     },
     "execution_count": 148,
     "metadata": {},
     "output_type": "execute_result"
    }
   ],
   "source": [
    "leads_score = leads_final\n",
    "leads_score.head()"
   ]
  },
  {
   "cell_type": "code",
   "execution_count": 149,
   "id": "84010d57",
   "metadata": {},
   "outputs": [],
   "source": [
    "# Scaling the numerical variables\n",
    "leads_score[num_cols] = scaler.transform(leads_score[num_cols])"
   ]
  },
  {
   "cell_type": "code",
   "execution_count": 150,
   "id": "675988d7",
   "metadata": {},
   "outputs": [
    {
     "data": {
      "text/html": [
       "<div>\n",
       "<style scoped>\n",
       "    .dataframe tbody tr th:only-of-type {\n",
       "        vertical-align: middle;\n",
       "    }\n",
       "\n",
       "    .dataframe tbody tr th {\n",
       "        vertical-align: top;\n",
       "    }\n",
       "\n",
       "    .dataframe thead th {\n",
       "        text-align: right;\n",
       "    }\n",
       "</style>\n",
       "<table border=\"1\" class=\"dataframe\">\n",
       "  <thead>\n",
       "    <tr style=\"text-align: right;\">\n",
       "      <th></th>\n",
       "      <th>const</th>\n",
       "      <th>Do Not Email</th>\n",
       "      <th>Total Time Spent on Website</th>\n",
       "      <th>Lead_Origin_Lead Add Form</th>\n",
       "      <th>Lead_Source_Olark Chat</th>\n",
       "      <th>Last_Activity_Converted to Lead</th>\n",
       "      <th>Last_Activity_Email Bounced</th>\n",
       "      <th>Last_Activity_Olark Chat Conversation</th>\n",
       "      <th>Last_Activity_SMS Sent</th>\n",
       "      <th>Specialization_Travel and Tourism</th>\n",
       "      <th>Occupation_Not Specified</th>\n",
       "      <th>Occupation_Working Professional</th>\n",
       "      <th>Tags_Already a student</th>\n",
       "      <th>Tags_Closed by Horizzon</th>\n",
       "      <th>Tags_Interested in other courses</th>\n",
       "      <th>Tags_Other Tags</th>\n",
       "      <th>Tags_Ringing</th>\n",
       "      <th>Tags_Still Thinking</th>\n",
       "      <th>Tags_Will revert after reading the email</th>\n",
       "    </tr>\n",
       "  </thead>\n",
       "  <tbody>\n",
       "    <tr>\n",
       "      <th>0</th>\n",
       "      <td>1.0</td>\n",
       "      <td>0</td>\n",
       "      <td>-0.887355</td>\n",
       "      <td>0</td>\n",
       "      <td>1</td>\n",
       "      <td>0</td>\n",
       "      <td>0</td>\n",
       "      <td>0</td>\n",
       "      <td>0</td>\n",
       "      <td>0</td>\n",
       "      <td>0</td>\n",
       "      <td>0</td>\n",
       "      <td>0</td>\n",
       "      <td>0</td>\n",
       "      <td>1</td>\n",
       "      <td>0</td>\n",
       "      <td>0</td>\n",
       "      <td>0</td>\n",
       "      <td>0</td>\n",
       "    </tr>\n",
       "    <tr>\n",
       "      <th>1</th>\n",
       "      <td>1.0</td>\n",
       "      <td>0</td>\n",
       "      <td>0.349083</td>\n",
       "      <td>0</td>\n",
       "      <td>0</td>\n",
       "      <td>0</td>\n",
       "      <td>0</td>\n",
       "      <td>0</td>\n",
       "      <td>0</td>\n",
       "      <td>0</td>\n",
       "      <td>0</td>\n",
       "      <td>0</td>\n",
       "      <td>0</td>\n",
       "      <td>0</td>\n",
       "      <td>0</td>\n",
       "      <td>0</td>\n",
       "      <td>1</td>\n",
       "      <td>0</td>\n",
       "      <td>0</td>\n",
       "    </tr>\n",
       "    <tr>\n",
       "      <th>2</th>\n",
       "      <td>1.0</td>\n",
       "      <td>0</td>\n",
       "      <td>1.923064</td>\n",
       "      <td>0</td>\n",
       "      <td>0</td>\n",
       "      <td>0</td>\n",
       "      <td>0</td>\n",
       "      <td>0</td>\n",
       "      <td>0</td>\n",
       "      <td>0</td>\n",
       "      <td>0</td>\n",
       "      <td>0</td>\n",
       "      <td>0</td>\n",
       "      <td>0</td>\n",
       "      <td>0</td>\n",
       "      <td>0</td>\n",
       "      <td>0</td>\n",
       "      <td>0</td>\n",
       "      <td>1</td>\n",
       "    </tr>\n",
       "    <tr>\n",
       "      <th>3</th>\n",
       "      <td>1.0</td>\n",
       "      <td>0</td>\n",
       "      <td>-0.327839</td>\n",
       "      <td>0</td>\n",
       "      <td>0</td>\n",
       "      <td>0</td>\n",
       "      <td>0</td>\n",
       "      <td>0</td>\n",
       "      <td>0</td>\n",
       "      <td>0</td>\n",
       "      <td>0</td>\n",
       "      <td>0</td>\n",
       "      <td>0</td>\n",
       "      <td>0</td>\n",
       "      <td>0</td>\n",
       "      <td>0</td>\n",
       "      <td>1</td>\n",
       "      <td>0</td>\n",
       "      <td>0</td>\n",
       "    </tr>\n",
       "    <tr>\n",
       "      <th>4</th>\n",
       "      <td>1.0</td>\n",
       "      <td>0</td>\n",
       "      <td>1.732278</td>\n",
       "      <td>0</td>\n",
       "      <td>0</td>\n",
       "      <td>1</td>\n",
       "      <td>0</td>\n",
       "      <td>0</td>\n",
       "      <td>0</td>\n",
       "      <td>0</td>\n",
       "      <td>0</td>\n",
       "      <td>0</td>\n",
       "      <td>0</td>\n",
       "      <td>0</td>\n",
       "      <td>0</td>\n",
       "      <td>0</td>\n",
       "      <td>0</td>\n",
       "      <td>0</td>\n",
       "      <td>1</td>\n",
       "    </tr>\n",
       "  </tbody>\n",
       "</table>\n",
       "</div>"
      ],
      "text/plain": [
       "   const  Do Not Email  Total Time Spent on Website  \\\n",
       "0    1.0             0                    -0.887355   \n",
       "1    1.0             0                     0.349083   \n",
       "2    1.0             0                     1.923064   \n",
       "3    1.0             0                    -0.327839   \n",
       "4    1.0             0                     1.732278   \n",
       "\n",
       "   Lead_Origin_Lead Add Form  Lead_Source_Olark Chat  \\\n",
       "0                          0                       1   \n",
       "1                          0                       0   \n",
       "2                          0                       0   \n",
       "3                          0                       0   \n",
       "4                          0                       0   \n",
       "\n",
       "   Last_Activity_Converted to Lead  Last_Activity_Email Bounced  \\\n",
       "0                                0                            0   \n",
       "1                                0                            0   \n",
       "2                                0                            0   \n",
       "3                                0                            0   \n",
       "4                                1                            0   \n",
       "\n",
       "   Last_Activity_Olark Chat Conversation  Last_Activity_SMS Sent  \\\n",
       "0                                      0                       0   \n",
       "1                                      0                       0   \n",
       "2                                      0                       0   \n",
       "3                                      0                       0   \n",
       "4                                      0                       0   \n",
       "\n",
       "   Specialization_Travel and Tourism  Occupation_Not Specified  \\\n",
       "0                                  0                         0   \n",
       "1                                  0                         0   \n",
       "2                                  0                         0   \n",
       "3                                  0                         0   \n",
       "4                                  0                         0   \n",
       "\n",
       "   Occupation_Working Professional  Tags_Already a student  \\\n",
       "0                                0                       0   \n",
       "1                                0                       0   \n",
       "2                                0                       0   \n",
       "3                                0                       0   \n",
       "4                                0                       0   \n",
       "\n",
       "   Tags_Closed by Horizzon  Tags_Interested in other courses  Tags_Other Tags  \\\n",
       "0                        0                                 1                0   \n",
       "1                        0                                 0                0   \n",
       "2                        0                                 0                0   \n",
       "3                        0                                 0                0   \n",
       "4                        0                                 0                0   \n",
       "\n",
       "   Tags_Ringing  Tags_Still Thinking  Tags_Will revert after reading the email  \n",
       "0             0                    0                                         0  \n",
       "1             1                    0                                         0  \n",
       "2             0                    0                                         1  \n",
       "3             1                    0                                         0  \n",
       "4             0                    0                                         1  "
      ]
     },
     "execution_count": 150,
     "metadata": {},
     "output_type": "execute_result"
    }
   ],
   "source": [
    "# Removing all the variables which were not in our final model\n",
    "leads_score = leads_score[col]\n",
    "leads_score = sm.add_constant(leads_score)\n",
    "leads_score.head()"
   ]
  },
  {
   "cell_type": "code",
   "execution_count": 151,
   "id": "b9e22645",
   "metadata": {},
   "outputs": [
    {
     "data": {
      "text/plain": [
       "0    0.015625\n",
       "1    0.013277\n",
       "2    0.986736\n",
       "3    0.006442\n",
       "4    0.966019\n",
       "dtype: float64"
      ]
     },
     "execution_count": 151,
     "metadata": {},
     "output_type": "execute_result"
    }
   ],
   "source": [
    "# Making predictions\n",
    "leads_score_pred = res.predict(leads_score)\n",
    "leads_score_pred.head()"
   ]
  },
  {
   "cell_type": "code",
   "execution_count": 152,
   "id": "afa82adc",
   "metadata": {},
   "outputs": [
    {
     "data": {
      "text/html": [
       "<div>\n",
       "<style scoped>\n",
       "    .dataframe tbody tr th:only-of-type {\n",
       "        vertical-align: middle;\n",
       "    }\n",
       "\n",
       "    .dataframe tbody tr th {\n",
       "        vertical-align: top;\n",
       "    }\n",
       "\n",
       "    .dataframe thead th {\n",
       "        text-align: right;\n",
       "    }\n",
       "</style>\n",
       "<table border=\"1\" class=\"dataframe\">\n",
       "  <thead>\n",
       "    <tr style=\"text-align: right;\">\n",
       "      <th></th>\n",
       "      <th>const</th>\n",
       "      <th>Do Not Email</th>\n",
       "      <th>Total Time Spent on Website</th>\n",
       "      <th>Lead_Origin_Lead Add Form</th>\n",
       "      <th>Lead_Source_Olark Chat</th>\n",
       "      <th>Last_Activity_Converted to Lead</th>\n",
       "      <th>Last_Activity_Email Bounced</th>\n",
       "      <th>Last_Activity_Olark Chat Conversation</th>\n",
       "      <th>Last_Activity_SMS Sent</th>\n",
       "      <th>Specialization_Travel and Tourism</th>\n",
       "      <th>Occupation_Not Specified</th>\n",
       "      <th>Occupation_Working Professional</th>\n",
       "      <th>Tags_Already a student</th>\n",
       "      <th>Tags_Closed by Horizzon</th>\n",
       "      <th>Tags_Interested in other courses</th>\n",
       "      <th>Tags_Other Tags</th>\n",
       "      <th>Tags_Ringing</th>\n",
       "      <th>Tags_Still Thinking</th>\n",
       "      <th>Tags_Will revert after reading the email</th>\n",
       "      <th>Lead Score</th>\n",
       "    </tr>\n",
       "  </thead>\n",
       "  <tbody>\n",
       "    <tr>\n",
       "      <th>0</th>\n",
       "      <td>1.0</td>\n",
       "      <td>0</td>\n",
       "      <td>-0.887355</td>\n",
       "      <td>0</td>\n",
       "      <td>1</td>\n",
       "      <td>0</td>\n",
       "      <td>0</td>\n",
       "      <td>0</td>\n",
       "      <td>0</td>\n",
       "      <td>0</td>\n",
       "      <td>0</td>\n",
       "      <td>0</td>\n",
       "      <td>0</td>\n",
       "      <td>0</td>\n",
       "      <td>1</td>\n",
       "      <td>0</td>\n",
       "      <td>0</td>\n",
       "      <td>0</td>\n",
       "      <td>0</td>\n",
       "      <td>2.0</td>\n",
       "    </tr>\n",
       "    <tr>\n",
       "      <th>1</th>\n",
       "      <td>1.0</td>\n",
       "      <td>0</td>\n",
       "      <td>0.349083</td>\n",
       "      <td>0</td>\n",
       "      <td>0</td>\n",
       "      <td>0</td>\n",
       "      <td>0</td>\n",
       "      <td>0</td>\n",
       "      <td>0</td>\n",
       "      <td>0</td>\n",
       "      <td>0</td>\n",
       "      <td>0</td>\n",
       "      <td>0</td>\n",
       "      <td>0</td>\n",
       "      <td>0</td>\n",
       "      <td>0</td>\n",
       "      <td>1</td>\n",
       "      <td>0</td>\n",
       "      <td>0</td>\n",
       "      <td>1.0</td>\n",
       "    </tr>\n",
       "    <tr>\n",
       "      <th>2</th>\n",
       "      <td>1.0</td>\n",
       "      <td>0</td>\n",
       "      <td>1.923064</td>\n",
       "      <td>0</td>\n",
       "      <td>0</td>\n",
       "      <td>0</td>\n",
       "      <td>0</td>\n",
       "      <td>0</td>\n",
       "      <td>0</td>\n",
       "      <td>0</td>\n",
       "      <td>0</td>\n",
       "      <td>0</td>\n",
       "      <td>0</td>\n",
       "      <td>0</td>\n",
       "      <td>0</td>\n",
       "      <td>0</td>\n",
       "      <td>0</td>\n",
       "      <td>0</td>\n",
       "      <td>1</td>\n",
       "      <td>99.0</td>\n",
       "    </tr>\n",
       "    <tr>\n",
       "      <th>3</th>\n",
       "      <td>1.0</td>\n",
       "      <td>0</td>\n",
       "      <td>-0.327839</td>\n",
       "      <td>0</td>\n",
       "      <td>0</td>\n",
       "      <td>0</td>\n",
       "      <td>0</td>\n",
       "      <td>0</td>\n",
       "      <td>0</td>\n",
       "      <td>0</td>\n",
       "      <td>0</td>\n",
       "      <td>0</td>\n",
       "      <td>0</td>\n",
       "      <td>0</td>\n",
       "      <td>0</td>\n",
       "      <td>0</td>\n",
       "      <td>1</td>\n",
       "      <td>0</td>\n",
       "      <td>0</td>\n",
       "      <td>1.0</td>\n",
       "    </tr>\n",
       "    <tr>\n",
       "      <th>4</th>\n",
       "      <td>1.0</td>\n",
       "      <td>0</td>\n",
       "      <td>1.732278</td>\n",
       "      <td>0</td>\n",
       "      <td>0</td>\n",
       "      <td>1</td>\n",
       "      <td>0</td>\n",
       "      <td>0</td>\n",
       "      <td>0</td>\n",
       "      <td>0</td>\n",
       "      <td>0</td>\n",
       "      <td>0</td>\n",
       "      <td>0</td>\n",
       "      <td>0</td>\n",
       "      <td>0</td>\n",
       "      <td>0</td>\n",
       "      <td>0</td>\n",
       "      <td>0</td>\n",
       "      <td>1</td>\n",
       "      <td>97.0</td>\n",
       "    </tr>\n",
       "  </tbody>\n",
       "</table>\n",
       "</div>"
      ],
      "text/plain": [
       "   const  Do Not Email  Total Time Spent on Website  \\\n",
       "0    1.0             0                    -0.887355   \n",
       "1    1.0             0                     0.349083   \n",
       "2    1.0             0                     1.923064   \n",
       "3    1.0             0                    -0.327839   \n",
       "4    1.0             0                     1.732278   \n",
       "\n",
       "   Lead_Origin_Lead Add Form  Lead_Source_Olark Chat  \\\n",
       "0                          0                       1   \n",
       "1                          0                       0   \n",
       "2                          0                       0   \n",
       "3                          0                       0   \n",
       "4                          0                       0   \n",
       "\n",
       "   Last_Activity_Converted to Lead  Last_Activity_Email Bounced  \\\n",
       "0                                0                            0   \n",
       "1                                0                            0   \n",
       "2                                0                            0   \n",
       "3                                0                            0   \n",
       "4                                1                            0   \n",
       "\n",
       "   Last_Activity_Olark Chat Conversation  Last_Activity_SMS Sent  \\\n",
       "0                                      0                       0   \n",
       "1                                      0                       0   \n",
       "2                                      0                       0   \n",
       "3                                      0                       0   \n",
       "4                                      0                       0   \n",
       "\n",
       "   Specialization_Travel and Tourism  Occupation_Not Specified  \\\n",
       "0                                  0                         0   \n",
       "1                                  0                         0   \n",
       "2                                  0                         0   \n",
       "3                                  0                         0   \n",
       "4                                  0                         0   \n",
       "\n",
       "   Occupation_Working Professional  Tags_Already a student  \\\n",
       "0                                0                       0   \n",
       "1                                0                       0   \n",
       "2                                0                       0   \n",
       "3                                0                       0   \n",
       "4                                0                       0   \n",
       "\n",
       "   Tags_Closed by Horizzon  Tags_Interested in other courses  Tags_Other Tags  \\\n",
       "0                        0                                 1                0   \n",
       "1                        0                                 0                0   \n",
       "2                        0                                 0                0   \n",
       "3                        0                                 0                0   \n",
       "4                        0                                 0                0   \n",
       "\n",
       "   Tags_Ringing  Tags_Still Thinking  \\\n",
       "0             0                    0   \n",
       "1             1                    0   \n",
       "2             0                    0   \n",
       "3             1                    0   \n",
       "4             0                    0   \n",
       "\n",
       "   Tags_Will revert after reading the email  Lead Score  \n",
       "0                                         0         2.0  \n",
       "1                                         0         1.0  \n",
       "2                                         1        99.0  \n",
       "3                                         0         1.0  \n",
       "4                                         1        97.0  "
      ]
     },
     "execution_count": 152,
     "metadata": {},
     "output_type": "execute_result"
    }
   ],
   "source": [
    "leads_score['Lead Score'] = round(leads_score_pred*100)\n",
    "leads_score.head()"
   ]
  },
  {
   "cell_type": "code",
   "execution_count": 153,
   "id": "7c738f12",
   "metadata": {},
   "outputs": [
    {
     "data": {
      "text/html": [
       "<div>\n",
       "<style scoped>\n",
       "    .dataframe tbody tr th:only-of-type {\n",
       "        vertical-align: middle;\n",
       "    }\n",
       "\n",
       "    .dataframe tbody tr th {\n",
       "        vertical-align: top;\n",
       "    }\n",
       "\n",
       "    .dataframe thead th {\n",
       "        text-align: right;\n",
       "    }\n",
       "</style>\n",
       "<table border=\"1\" class=\"dataframe\">\n",
       "  <thead>\n",
       "    <tr style=\"text-align: right;\">\n",
       "      <th></th>\n",
       "      <th>const</th>\n",
       "      <th>Do Not Email</th>\n",
       "      <th>Total Time Spent on Website</th>\n",
       "      <th>Lead_Origin_Lead Add Form</th>\n",
       "      <th>Lead_Source_Olark Chat</th>\n",
       "      <th>Last_Activity_Converted to Lead</th>\n",
       "      <th>Last_Activity_Email Bounced</th>\n",
       "      <th>Last_Activity_Olark Chat Conversation</th>\n",
       "      <th>Last_Activity_SMS Sent</th>\n",
       "      <th>Specialization_Travel and Tourism</th>\n",
       "      <th>...</th>\n",
       "      <th>Occupation_Working Professional</th>\n",
       "      <th>Tags_Already a student</th>\n",
       "      <th>Tags_Closed by Horizzon</th>\n",
       "      <th>Tags_Interested in other courses</th>\n",
       "      <th>Tags_Other Tags</th>\n",
       "      <th>Tags_Ringing</th>\n",
       "      <th>Tags_Still Thinking</th>\n",
       "      <th>Tags_Will revert after reading the email</th>\n",
       "      <th>Lead Score</th>\n",
       "      <th>Lead Number</th>\n",
       "    </tr>\n",
       "  </thead>\n",
       "  <tbody>\n",
       "    <tr>\n",
       "      <th>0</th>\n",
       "      <td>1.0</td>\n",
       "      <td>0</td>\n",
       "      <td>-0.887355</td>\n",
       "      <td>0</td>\n",
       "      <td>1</td>\n",
       "      <td>0</td>\n",
       "      <td>0</td>\n",
       "      <td>0</td>\n",
       "      <td>0</td>\n",
       "      <td>0</td>\n",
       "      <td>...</td>\n",
       "      <td>0</td>\n",
       "      <td>0</td>\n",
       "      <td>0</td>\n",
       "      <td>1</td>\n",
       "      <td>0</td>\n",
       "      <td>0</td>\n",
       "      <td>0</td>\n",
       "      <td>0</td>\n",
       "      <td>2.0</td>\n",
       "      <td>660737</td>\n",
       "    </tr>\n",
       "    <tr>\n",
       "      <th>1</th>\n",
       "      <td>1.0</td>\n",
       "      <td>0</td>\n",
       "      <td>0.349083</td>\n",
       "      <td>0</td>\n",
       "      <td>0</td>\n",
       "      <td>0</td>\n",
       "      <td>0</td>\n",
       "      <td>0</td>\n",
       "      <td>0</td>\n",
       "      <td>0</td>\n",
       "      <td>...</td>\n",
       "      <td>0</td>\n",
       "      <td>0</td>\n",
       "      <td>0</td>\n",
       "      <td>0</td>\n",
       "      <td>0</td>\n",
       "      <td>1</td>\n",
       "      <td>0</td>\n",
       "      <td>0</td>\n",
       "      <td>1.0</td>\n",
       "      <td>660728</td>\n",
       "    </tr>\n",
       "    <tr>\n",
       "      <th>2</th>\n",
       "      <td>1.0</td>\n",
       "      <td>0</td>\n",
       "      <td>1.923064</td>\n",
       "      <td>0</td>\n",
       "      <td>0</td>\n",
       "      <td>0</td>\n",
       "      <td>0</td>\n",
       "      <td>0</td>\n",
       "      <td>0</td>\n",
       "      <td>0</td>\n",
       "      <td>...</td>\n",
       "      <td>0</td>\n",
       "      <td>0</td>\n",
       "      <td>0</td>\n",
       "      <td>0</td>\n",
       "      <td>0</td>\n",
       "      <td>0</td>\n",
       "      <td>0</td>\n",
       "      <td>1</td>\n",
       "      <td>99.0</td>\n",
       "      <td>660727</td>\n",
       "    </tr>\n",
       "    <tr>\n",
       "      <th>3</th>\n",
       "      <td>1.0</td>\n",
       "      <td>0</td>\n",
       "      <td>-0.327839</td>\n",
       "      <td>0</td>\n",
       "      <td>0</td>\n",
       "      <td>0</td>\n",
       "      <td>0</td>\n",
       "      <td>0</td>\n",
       "      <td>0</td>\n",
       "      <td>0</td>\n",
       "      <td>...</td>\n",
       "      <td>0</td>\n",
       "      <td>0</td>\n",
       "      <td>0</td>\n",
       "      <td>0</td>\n",
       "      <td>0</td>\n",
       "      <td>1</td>\n",
       "      <td>0</td>\n",
       "      <td>0</td>\n",
       "      <td>1.0</td>\n",
       "      <td>660719</td>\n",
       "    </tr>\n",
       "    <tr>\n",
       "      <th>4</th>\n",
       "      <td>1.0</td>\n",
       "      <td>0</td>\n",
       "      <td>1.732278</td>\n",
       "      <td>0</td>\n",
       "      <td>0</td>\n",
       "      <td>1</td>\n",
       "      <td>0</td>\n",
       "      <td>0</td>\n",
       "      <td>0</td>\n",
       "      <td>0</td>\n",
       "      <td>...</td>\n",
       "      <td>0</td>\n",
       "      <td>0</td>\n",
       "      <td>0</td>\n",
       "      <td>0</td>\n",
       "      <td>0</td>\n",
       "      <td>0</td>\n",
       "      <td>0</td>\n",
       "      <td>1</td>\n",
       "      <td>97.0</td>\n",
       "      <td>660681</td>\n",
       "    </tr>\n",
       "  </tbody>\n",
       "</table>\n",
       "<p>5 rows × 21 columns</p>\n",
       "</div>"
      ],
      "text/plain": [
       "   const  Do Not Email  Total Time Spent on Website  \\\n",
       "0    1.0             0                    -0.887355   \n",
       "1    1.0             0                     0.349083   \n",
       "2    1.0             0                     1.923064   \n",
       "3    1.0             0                    -0.327839   \n",
       "4    1.0             0                     1.732278   \n",
       "\n",
       "   Lead_Origin_Lead Add Form  Lead_Source_Olark Chat  \\\n",
       "0                          0                       1   \n",
       "1                          0                       0   \n",
       "2                          0                       0   \n",
       "3                          0                       0   \n",
       "4                          0                       0   \n",
       "\n",
       "   Last_Activity_Converted to Lead  Last_Activity_Email Bounced  \\\n",
       "0                                0                            0   \n",
       "1                                0                            0   \n",
       "2                                0                            0   \n",
       "3                                0                            0   \n",
       "4                                1                            0   \n",
       "\n",
       "   Last_Activity_Olark Chat Conversation  Last_Activity_SMS Sent  \\\n",
       "0                                      0                       0   \n",
       "1                                      0                       0   \n",
       "2                                      0                       0   \n",
       "3                                      0                       0   \n",
       "4                                      0                       0   \n",
       "\n",
       "   Specialization_Travel and Tourism  ...  Occupation_Working Professional  \\\n",
       "0                                  0  ...                                0   \n",
       "1                                  0  ...                                0   \n",
       "2                                  0  ...                                0   \n",
       "3                                  0  ...                                0   \n",
       "4                                  0  ...                                0   \n",
       "\n",
       "   Tags_Already a student  Tags_Closed by Horizzon  \\\n",
       "0                       0                        0   \n",
       "1                       0                        0   \n",
       "2                       0                        0   \n",
       "3                       0                        0   \n",
       "4                       0                        0   \n",
       "\n",
       "   Tags_Interested in other courses  Tags_Other Tags  Tags_Ringing  \\\n",
       "0                                 1                0             0   \n",
       "1                                 0                0             1   \n",
       "2                                 0                0             0   \n",
       "3                                 0                0             1   \n",
       "4                                 0                0             0   \n",
       "\n",
       "   Tags_Still Thinking  Tags_Will revert after reading the email  Lead Score  \\\n",
       "0                    0                                         0         2.0   \n",
       "1                    0                                         0         1.0   \n",
       "2                    0                                         1        99.0   \n",
       "3                    0                                         0         1.0   \n",
       "4                    0                                         1        97.0   \n",
       "\n",
       "   Lead Number  \n",
       "0       660737  \n",
       "1       660728  \n",
       "2       660727  \n",
       "3       660719  \n",
       "4       660681  \n",
       "\n",
       "[5 rows x 21 columns]"
      ]
     },
     "execution_count": 153,
     "metadata": {},
     "output_type": "execute_result"
    }
   ],
   "source": [
    "# Adding Lead Number to see which Lead has scored how much\n",
    "leads_score['Lead Number'] = Lead_Number\n",
    "leads_score.head()"
   ]
  },
  {
   "cell_type": "code",
   "execution_count": 154,
   "id": "ebf93fdf",
   "metadata": {},
   "outputs": [
    {
     "data": {
      "image/png": "[encoded data removed]",
      "text/plain": [
       "<Figure size 432x288 with 1 Axes>"
      ]
     },
     "metadata": {},
     "output_type": "display_data"
    }
   ],
   "source": [
    "# Plotting Boxplot to check the distribution for the Lead Scores calculated\n",
    "sns.boxplot(y = leads_score['Lead Score'])\n",
    "plt.show()"
   ]
  },
  {
   "cell_type": "markdown",
   "id": "892efefe",
   "metadata": {},
   "source": [
    "# Conclusion\n",
    "\n",
    "1. People who spend more time on the website or with more no. of visits convert more.\n",
    "2. When the last activity was <b>SMS</b> or <b>Olark chat conversation</b> the conversion was more.\n",
    "3. Working professsionals have a high chance of conversion.\n",
    "4. While Referecene are the best form of leads there are significant conversions from Google, Direct Traffic, Organic search & Welingak website.\n",
    "##### X Education are not converting enough of the Unemployed leads. They can probably come up with a strategy to tap on this segment. \n"
   ]
  }
 ],
 "metadata": {
  "kernelspec": {
   "display_name": "Python 3 (ipykernel)",
   "language": "python",
   "name": "python3"
  },
  "language_info": {
   "codemirror_mode": {
    "name": "ipython",
    "version": 3
   },
   "file_extension": ".py",
   "mimetype": "text/x-python",
   "name": "python",
   "nbconvert_exporter": "python",
   "pygments_lexer": "ipython3",
   "version": "3.9.12"
  }
 },
 "nbformat": 4,
 "nbformat_minor": 5
}
